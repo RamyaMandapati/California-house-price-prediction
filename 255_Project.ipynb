{
  "nbformat": 4,
  "nbformat_minor": 0,
  "metadata": {
    "colab": {
      "provenance": []
    },
    "kernelspec": {
      "name": "python3",
      "display_name": "Python 3"
    },
    "language_info": {
      "name": "python"
    },
    "accelerator": "GPU",
    "gpuClass": "standard"
  },
  "cells": [
    {
      "cell_type": "code",
      "source": [
        "import torch\n",
        "\n",
        "torch.cuda.is_available()"
      ],
      "metadata": {
        "id": "ZMVr7O9ZZJKL",
        "colab": {
          "base_uri": "https://localhost:8080/"
        },
        "outputId": "95f14280-2b17-4760-a0ee-6ff3ea5a0dc7"
      },
      "execution_count": null,
      "outputs": [
        {
          "output_type": "execute_result",
          "data": {
            "text/plain": [
              "True"
            ]
          },
          "metadata": {},
          "execution_count": 72
        }
      ]
    },
    {
      "cell_type": "code",
      "execution_count": null,
      "metadata": {
        "id": "BvXO6KmnLUzb",
        "colab": {
          "base_uri": "https://localhost:8080/"
        },
        "outputId": "7e4a422d-fd1f-4ef1-9bb3-bf6043b16c4c"
      },
      "outputs": [
        {
          "output_type": "stream",
          "name": "stdout",
          "text": [
            "Drive already mounted at /content/drive; to attempt to forcibly remount, call drive.mount(\"/content/drive\", force_remount=True).\n"
          ]
        }
      ],
      "source": [
        "\n",
        "from google.colab import drive\n",
        "drive.mount('/content/drive')"
      ]
    },
    {
      "cell_type": "code",
      "source": [
        "# Using pandas for Data Analysis and Data Manipulation\n",
        "import pandas as pd\n",
        "df = pd.read_csv('/content/drive/MyDrive/sailahari/housing.csv')"
      ],
      "metadata": {
        "id": "OfQ9UBxZL3J7"
      },
      "execution_count": null,
      "outputs": []
    },
    {
      "cell_type": "code",
      "source": [
        "df.head(10)"
      ],
      "metadata": {
        "id": "LrkgI1wbL_pU",
        "colab": {
          "base_uri": "https://localhost:8080/",
          "height": 363
        },
        "outputId": "c8663944-a05b-4d94-fca0-c2834e031b0c"
      },
      "execution_count": null,
      "outputs": [
        {
          "output_type": "execute_result",
          "data": {
            "text/plain": [
              "   longitude  latitude  housing_median_age  total_rooms  total_bedrooms  \\\n",
              "0    -122.23     37.88                41.0        880.0           129.0   \n",
              "1    -122.22     37.86                21.0       7099.0          1106.0   \n",
              "2    -122.24     37.85                52.0       1467.0           190.0   \n",
              "3    -122.25     37.85                52.0       1274.0           235.0   \n",
              "4    -122.25     37.85                52.0       1627.0           280.0   \n",
              "5    -122.25     37.85                52.0        919.0           213.0   \n",
              "6    -122.25     37.84                52.0       2535.0           489.0   \n",
              "7    -122.25     37.84                52.0       3104.0           687.0   \n",
              "8    -122.26     37.84                42.0       2555.0           665.0   \n",
              "9    -122.25     37.84                52.0       3549.0           707.0   \n",
              "\n",
              "   population  households  median_income  median_house_value ocean_proximity  \n",
              "0       322.0       126.0         8.3252            452600.0        NEAR BAY  \n",
              "1      2401.0      1138.0         8.3014            358500.0        NEAR BAY  \n",
              "2       496.0       177.0         7.2574            352100.0        NEAR BAY  \n",
              "3       558.0       219.0         5.6431            341300.0        NEAR BAY  \n",
              "4       565.0       259.0         3.8462            342200.0        NEAR BAY  \n",
              "5       413.0       193.0         4.0368            269700.0        NEAR BAY  \n",
              "6      1094.0       514.0         3.6591            299200.0        NEAR BAY  \n",
              "7      1157.0       647.0         3.1200            241400.0        NEAR BAY  \n",
              "8      1206.0       595.0         2.0804            226700.0        NEAR BAY  \n",
              "9      1551.0       714.0         3.6912            261100.0        NEAR BAY  "
            ],
            "text/html": [
              "\n",
              "  <div id=\"df-dbd9c85b-e892-40d3-8278-0fccab53e643\">\n",
              "    <div class=\"colab-df-container\">\n",
              "      <div>\n",
              "<style scoped>\n",
              "    .dataframe tbody tr th:only-of-type {\n",
              "        vertical-align: middle;\n",
              "    }\n",
              "\n",
              "    .dataframe tbody tr th {\n",
              "        vertical-align: top;\n",
              "    }\n",
              "\n",
              "    .dataframe thead th {\n",
              "        text-align: right;\n",
              "    }\n",
              "</style>\n",
              "<table border=\"1\" class=\"dataframe\">\n",
              "  <thead>\n",
              "    <tr style=\"text-align: right;\">\n",
              "      <th></th>\n",
              "      <th>longitude</th>\n",
              "      <th>latitude</th>\n",
              "      <th>housing_median_age</th>\n",
              "      <th>total_rooms</th>\n",
              "      <th>total_bedrooms</th>\n",
              "      <th>population</th>\n",
              "      <th>households</th>\n",
              "      <th>median_income</th>\n",
              "      <th>median_house_value</th>\n",
              "      <th>ocean_proximity</th>\n",
              "    </tr>\n",
              "  </thead>\n",
              "  <tbody>\n",
              "    <tr>\n",
              "      <th>0</th>\n",
              "      <td>-122.23</td>\n",
              "      <td>37.88</td>\n",
              "      <td>41.0</td>\n",
              "      <td>880.0</td>\n",
              "      <td>129.0</td>\n",
              "      <td>322.0</td>\n",
              "      <td>126.0</td>\n",
              "      <td>8.3252</td>\n",
              "      <td>452600.0</td>\n",
              "      <td>NEAR BAY</td>\n",
              "    </tr>\n",
              "    <tr>\n",
              "      <th>1</th>\n",
              "      <td>-122.22</td>\n",
              "      <td>37.86</td>\n",
              "      <td>21.0</td>\n",
              "      <td>7099.0</td>\n",
              "      <td>1106.0</td>\n",
              "      <td>2401.0</td>\n",
              "      <td>1138.0</td>\n",
              "      <td>8.3014</td>\n",
              "      <td>358500.0</td>\n",
              "      <td>NEAR BAY</td>\n",
              "    </tr>\n",
              "    <tr>\n",
              "      <th>2</th>\n",
              "      <td>-122.24</td>\n",
              "      <td>37.85</td>\n",
              "      <td>52.0</td>\n",
              "      <td>1467.0</td>\n",
              "      <td>190.0</td>\n",
              "      <td>496.0</td>\n",
              "      <td>177.0</td>\n",
              "      <td>7.2574</td>\n",
              "      <td>352100.0</td>\n",
              "      <td>NEAR BAY</td>\n",
              "    </tr>\n",
              "    <tr>\n",
              "      <th>3</th>\n",
              "      <td>-122.25</td>\n",
              "      <td>37.85</td>\n",
              "      <td>52.0</td>\n",
              "      <td>1274.0</td>\n",
              "      <td>235.0</td>\n",
              "      <td>558.0</td>\n",
              "      <td>219.0</td>\n",
              "      <td>5.6431</td>\n",
              "      <td>341300.0</td>\n",
              "      <td>NEAR BAY</td>\n",
              "    </tr>\n",
              "    <tr>\n",
              "      <th>4</th>\n",
              "      <td>-122.25</td>\n",
              "      <td>37.85</td>\n",
              "      <td>52.0</td>\n",
              "      <td>1627.0</td>\n",
              "      <td>280.0</td>\n",
              "      <td>565.0</td>\n",
              "      <td>259.0</td>\n",
              "      <td>3.8462</td>\n",
              "      <td>342200.0</td>\n",
              "      <td>NEAR BAY</td>\n",
              "    </tr>\n",
              "    <tr>\n",
              "      <th>5</th>\n",
              "      <td>-122.25</td>\n",
              "      <td>37.85</td>\n",
              "      <td>52.0</td>\n",
              "      <td>919.0</td>\n",
              "      <td>213.0</td>\n",
              "      <td>413.0</td>\n",
              "      <td>193.0</td>\n",
              "      <td>4.0368</td>\n",
              "      <td>269700.0</td>\n",
              "      <td>NEAR BAY</td>\n",
              "    </tr>\n",
              "    <tr>\n",
              "      <th>6</th>\n",
              "      <td>-122.25</td>\n",
              "      <td>37.84</td>\n",
              "      <td>52.0</td>\n",
              "      <td>2535.0</td>\n",
              "      <td>489.0</td>\n",
              "      <td>1094.0</td>\n",
              "      <td>514.0</td>\n",
              "      <td>3.6591</td>\n",
              "      <td>299200.0</td>\n",
              "      <td>NEAR BAY</td>\n",
              "    </tr>\n",
              "    <tr>\n",
              "      <th>7</th>\n",
              "      <td>-122.25</td>\n",
              "      <td>37.84</td>\n",
              "      <td>52.0</td>\n",
              "      <td>3104.0</td>\n",
              "      <td>687.0</td>\n",
              "      <td>1157.0</td>\n",
              "      <td>647.0</td>\n",
              "      <td>3.1200</td>\n",
              "      <td>241400.0</td>\n",
              "      <td>NEAR BAY</td>\n",
              "    </tr>\n",
              "    <tr>\n",
              "      <th>8</th>\n",
              "      <td>-122.26</td>\n",
              "      <td>37.84</td>\n",
              "      <td>42.0</td>\n",
              "      <td>2555.0</td>\n",
              "      <td>665.0</td>\n",
              "      <td>1206.0</td>\n",
              "      <td>595.0</td>\n",
              "      <td>2.0804</td>\n",
              "      <td>226700.0</td>\n",
              "      <td>NEAR BAY</td>\n",
              "    </tr>\n",
              "    <tr>\n",
              "      <th>9</th>\n",
              "      <td>-122.25</td>\n",
              "      <td>37.84</td>\n",
              "      <td>52.0</td>\n",
              "      <td>3549.0</td>\n",
              "      <td>707.0</td>\n",
              "      <td>1551.0</td>\n",
              "      <td>714.0</td>\n",
              "      <td>3.6912</td>\n",
              "      <td>261100.0</td>\n",
              "      <td>NEAR BAY</td>\n",
              "    </tr>\n",
              "  </tbody>\n",
              "</table>\n",
              "</div>\n",
              "      <button class=\"colab-df-convert\" onclick=\"convertToInteractive('df-dbd9c85b-e892-40d3-8278-0fccab53e643')\"\n",
              "              title=\"Convert this dataframe to an interactive table.\"\n",
              "              style=\"display:none;\">\n",
              "        \n",
              "  <svg xmlns=\"http://www.w3.org/2000/svg\" height=\"24px\"viewBox=\"0 0 24 24\"\n",
              "       width=\"24px\">\n",
              "    <path d=\"M0 0h24v24H0V0z\" fill=\"none\"/>\n",
              "    <path d=\"M18.56 5.44l.94 2.06.94-2.06 2.06-.94-2.06-.94-.94-2.06-.94 2.06-2.06.94zm-11 1L8.5 8.5l.94-2.06 2.06-.94-2.06-.94L8.5 2.5l-.94 2.06-2.06.94zm10 10l.94 2.06.94-2.06 2.06-.94-2.06-.94-.94-2.06-.94 2.06-2.06.94z\"/><path d=\"M17.41 7.96l-1.37-1.37c-.4-.4-.92-.59-1.43-.59-.52 0-1.04.2-1.43.59L10.3 9.45l-7.72 7.72c-.78.78-.78 2.05 0 2.83L4 21.41c.39.39.9.59 1.41.59.51 0 1.02-.2 1.41-.59l7.78-7.78 2.81-2.81c.8-.78.8-2.07 0-2.86zM5.41 20L4 18.59l7.72-7.72 1.47 1.35L5.41 20z\"/>\n",
              "  </svg>\n",
              "      </button>\n",
              "      \n",
              "  <style>\n",
              "    .colab-df-container {\n",
              "      display:flex;\n",
              "      flex-wrap:wrap;\n",
              "      gap: 12px;\n",
              "    }\n",
              "\n",
              "    .colab-df-convert {\n",
              "      background-color: #E8F0FE;\n",
              "      border: none;\n",
              "      border-radius: 50%;\n",
              "      cursor: pointer;\n",
              "      display: none;\n",
              "      fill: #1967D2;\n",
              "      height: 32px;\n",
              "      padding: 0 0 0 0;\n",
              "      width: 32px;\n",
              "    }\n",
              "\n",
              "    .colab-df-convert:hover {\n",
              "      background-color: #E2EBFA;\n",
              "      box-shadow: 0px 1px 2px rgba(60, 64, 67, 0.3), 0px 1px 3px 1px rgba(60, 64, 67, 0.15);\n",
              "      fill: #174EA6;\n",
              "    }\n",
              "\n",
              "    [theme=dark] .colab-df-convert {\n",
              "      background-color: #3B4455;\n",
              "      fill: #D2E3FC;\n",
              "    }\n",
              "\n",
              "    [theme=dark] .colab-df-convert:hover {\n",
              "      background-color: #434B5C;\n",
              "      box-shadow: 0px 1px 3px 1px rgba(0, 0, 0, 0.15);\n",
              "      filter: drop-shadow(0px 1px 2px rgba(0, 0, 0, 0.3));\n",
              "      fill: #FFFFFF;\n",
              "    }\n",
              "  </style>\n",
              "\n",
              "      <script>\n",
              "        const buttonEl =\n",
              "          document.querySelector('#df-dbd9c85b-e892-40d3-8278-0fccab53e643 button.colab-df-convert');\n",
              "        buttonEl.style.display =\n",
              "          google.colab.kernel.accessAllowed ? 'block' : 'none';\n",
              "\n",
              "        async function convertToInteractive(key) {\n",
              "          const element = document.querySelector('#df-dbd9c85b-e892-40d3-8278-0fccab53e643');\n",
              "          const dataTable =\n",
              "            await google.colab.kernel.invokeFunction('convertToInteractive',\n",
              "                                                     [key], {});\n",
              "          if (!dataTable) return;\n",
              "\n",
              "          const docLinkHtml = 'Like what you see? Visit the ' +\n",
              "            '<a target=\"_blank\" href=https://colab.research.google.com/notebooks/data_table.ipynb>data table notebook</a>'\n",
              "            + ' to learn more about interactive tables.';\n",
              "          element.innerHTML = '';\n",
              "          dataTable['output_type'] = 'display_data';\n",
              "          await google.colab.output.renderOutput(dataTable, element);\n",
              "          const docLink = document.createElement('div');\n",
              "          docLink.innerHTML = docLinkHtml;\n",
              "          element.appendChild(docLink);\n",
              "        }\n",
              "      </script>\n",
              "    </div>\n",
              "  </div>\n",
              "  "
            ]
          },
          "metadata": {},
          "execution_count": 75
        }
      ]
    },
    {
      "cell_type": "code",
      "source": [
        "df.tail()"
      ],
      "metadata": {
        "id": "sMuAvwjCMCzB",
        "colab": {
          "base_uri": "https://localhost:8080/",
          "height": 206
        },
        "outputId": "d6ec83a6-2016-4d7a-b52e-88b8a0dcfc99"
      },
      "execution_count": null,
      "outputs": [
        {
          "output_type": "execute_result",
          "data": {
            "text/plain": [
              "       longitude  latitude  housing_median_age  total_rooms  total_bedrooms  \\\n",
              "20635    -121.09     39.48                25.0       1665.0           374.0   \n",
              "20636    -121.21     39.49                18.0        697.0           150.0   \n",
              "20637    -121.22     39.43                17.0       2254.0           485.0   \n",
              "20638    -121.32     39.43                18.0       1860.0           409.0   \n",
              "20639    -121.24     39.37                16.0       2785.0           616.0   \n",
              "\n",
              "       population  households  median_income  median_house_value  \\\n",
              "20635       845.0       330.0         1.5603             78100.0   \n",
              "20636       356.0       114.0         2.5568             77100.0   \n",
              "20637      1007.0       433.0         1.7000             92300.0   \n",
              "20638       741.0       349.0         1.8672             84700.0   \n",
              "20639      1387.0       530.0         2.3886             89400.0   \n",
              "\n",
              "      ocean_proximity  \n",
              "20635          INLAND  \n",
              "20636          INLAND  \n",
              "20637          INLAND  \n",
              "20638          INLAND  \n",
              "20639          INLAND  "
            ],
            "text/html": [
              "\n",
              "  <div id=\"df-10e3ae13-1236-4596-96e5-b90c229f7773\">\n",
              "    <div class=\"colab-df-container\">\n",
              "      <div>\n",
              "<style scoped>\n",
              "    .dataframe tbody tr th:only-of-type {\n",
              "        vertical-align: middle;\n",
              "    }\n",
              "\n",
              "    .dataframe tbody tr th {\n",
              "        vertical-align: top;\n",
              "    }\n",
              "\n",
              "    .dataframe thead th {\n",
              "        text-align: right;\n",
              "    }\n",
              "</style>\n",
              "<table border=\"1\" class=\"dataframe\">\n",
              "  <thead>\n",
              "    <tr style=\"text-align: right;\">\n",
              "      <th></th>\n",
              "      <th>longitude</th>\n",
              "      <th>latitude</th>\n",
              "      <th>housing_median_age</th>\n",
              "      <th>total_rooms</th>\n",
              "      <th>total_bedrooms</th>\n",
              "      <th>population</th>\n",
              "      <th>households</th>\n",
              "      <th>median_income</th>\n",
              "      <th>median_house_value</th>\n",
              "      <th>ocean_proximity</th>\n",
              "    </tr>\n",
              "  </thead>\n",
              "  <tbody>\n",
              "    <tr>\n",
              "      <th>20635</th>\n",
              "      <td>-121.09</td>\n",
              "      <td>39.48</td>\n",
              "      <td>25.0</td>\n",
              "      <td>1665.0</td>\n",
              "      <td>374.0</td>\n",
              "      <td>845.0</td>\n",
              "      <td>330.0</td>\n",
              "      <td>1.5603</td>\n",
              "      <td>78100.0</td>\n",
              "      <td>INLAND</td>\n",
              "    </tr>\n",
              "    <tr>\n",
              "      <th>20636</th>\n",
              "      <td>-121.21</td>\n",
              "      <td>39.49</td>\n",
              "      <td>18.0</td>\n",
              "      <td>697.0</td>\n",
              "      <td>150.0</td>\n",
              "      <td>356.0</td>\n",
              "      <td>114.0</td>\n",
              "      <td>2.5568</td>\n",
              "      <td>77100.0</td>\n",
              "      <td>INLAND</td>\n",
              "    </tr>\n",
              "    <tr>\n",
              "      <th>20637</th>\n",
              "      <td>-121.22</td>\n",
              "      <td>39.43</td>\n",
              "      <td>17.0</td>\n",
              "      <td>2254.0</td>\n",
              "      <td>485.0</td>\n",
              "      <td>1007.0</td>\n",
              "      <td>433.0</td>\n",
              "      <td>1.7000</td>\n",
              "      <td>92300.0</td>\n",
              "      <td>INLAND</td>\n",
              "    </tr>\n",
              "    <tr>\n",
              "      <th>20638</th>\n",
              "      <td>-121.32</td>\n",
              "      <td>39.43</td>\n",
              "      <td>18.0</td>\n",
              "      <td>1860.0</td>\n",
              "      <td>409.0</td>\n",
              "      <td>741.0</td>\n",
              "      <td>349.0</td>\n",
              "      <td>1.8672</td>\n",
              "      <td>84700.0</td>\n",
              "      <td>INLAND</td>\n",
              "    </tr>\n",
              "    <tr>\n",
              "      <th>20639</th>\n",
              "      <td>-121.24</td>\n",
              "      <td>39.37</td>\n",
              "      <td>16.0</td>\n",
              "      <td>2785.0</td>\n",
              "      <td>616.0</td>\n",
              "      <td>1387.0</td>\n",
              "      <td>530.0</td>\n",
              "      <td>2.3886</td>\n",
              "      <td>89400.0</td>\n",
              "      <td>INLAND</td>\n",
              "    </tr>\n",
              "  </tbody>\n",
              "</table>\n",
              "</div>\n",
              "      <button class=\"colab-df-convert\" onclick=\"convertToInteractive('df-10e3ae13-1236-4596-96e5-b90c229f7773')\"\n",
              "              title=\"Convert this dataframe to an interactive table.\"\n",
              "              style=\"display:none;\">\n",
              "        \n",
              "  <svg xmlns=\"http://www.w3.org/2000/svg\" height=\"24px\"viewBox=\"0 0 24 24\"\n",
              "       width=\"24px\">\n",
              "    <path d=\"M0 0h24v24H0V0z\" fill=\"none\"/>\n",
              "    <path d=\"M18.56 5.44l.94 2.06.94-2.06 2.06-.94-2.06-.94-.94-2.06-.94 2.06-2.06.94zm-11 1L8.5 8.5l.94-2.06 2.06-.94-2.06-.94L8.5 2.5l-.94 2.06-2.06.94zm10 10l.94 2.06.94-2.06 2.06-.94-2.06-.94-.94-2.06-.94 2.06-2.06.94z\"/><path d=\"M17.41 7.96l-1.37-1.37c-.4-.4-.92-.59-1.43-.59-.52 0-1.04.2-1.43.59L10.3 9.45l-7.72 7.72c-.78.78-.78 2.05 0 2.83L4 21.41c.39.39.9.59 1.41.59.51 0 1.02-.2 1.41-.59l7.78-7.78 2.81-2.81c.8-.78.8-2.07 0-2.86zM5.41 20L4 18.59l7.72-7.72 1.47 1.35L5.41 20z\"/>\n",
              "  </svg>\n",
              "      </button>\n",
              "      \n",
              "  <style>\n",
              "    .colab-df-container {\n",
              "      display:flex;\n",
              "      flex-wrap:wrap;\n",
              "      gap: 12px;\n",
              "    }\n",
              "\n",
              "    .colab-df-convert {\n",
              "      background-color: #E8F0FE;\n",
              "      border: none;\n",
              "      border-radius: 50%;\n",
              "      cursor: pointer;\n",
              "      display: none;\n",
              "      fill: #1967D2;\n",
              "      height: 32px;\n",
              "      padding: 0 0 0 0;\n",
              "      width: 32px;\n",
              "    }\n",
              "\n",
              "    .colab-df-convert:hover {\n",
              "      background-color: #E2EBFA;\n",
              "      box-shadow: 0px 1px 2px rgba(60, 64, 67, 0.3), 0px 1px 3px 1px rgba(60, 64, 67, 0.15);\n",
              "      fill: #174EA6;\n",
              "    }\n",
              "\n",
              "    [theme=dark] .colab-df-convert {\n",
              "      background-color: #3B4455;\n",
              "      fill: #D2E3FC;\n",
              "    }\n",
              "\n",
              "    [theme=dark] .colab-df-convert:hover {\n",
              "      background-color: #434B5C;\n",
              "      box-shadow: 0px 1px 3px 1px rgba(0, 0, 0, 0.15);\n",
              "      filter: drop-shadow(0px 1px 2px rgba(0, 0, 0, 0.3));\n",
              "      fill: #FFFFFF;\n",
              "    }\n",
              "  </style>\n",
              "\n",
              "      <script>\n",
              "        const buttonEl =\n",
              "          document.querySelector('#df-10e3ae13-1236-4596-96e5-b90c229f7773 button.colab-df-convert');\n",
              "        buttonEl.style.display =\n",
              "          google.colab.kernel.accessAllowed ? 'block' : 'none';\n",
              "\n",
              "        async function convertToInteractive(key) {\n",
              "          const element = document.querySelector('#df-10e3ae13-1236-4596-96e5-b90c229f7773');\n",
              "          const dataTable =\n",
              "            await google.colab.kernel.invokeFunction('convertToInteractive',\n",
              "                                                     [key], {});\n",
              "          if (!dataTable) return;\n",
              "\n",
              "          const docLinkHtml = 'Like what you see? Visit the ' +\n",
              "            '<a target=\"_blank\" href=https://colab.research.google.com/notebooks/data_table.ipynb>data table notebook</a>'\n",
              "            + ' to learn more about interactive tables.';\n",
              "          element.innerHTML = '';\n",
              "          dataTable['output_type'] = 'display_data';\n",
              "          await google.colab.output.renderOutput(dataTable, element);\n",
              "          const docLink = document.createElement('div');\n",
              "          docLink.innerHTML = docLinkHtml;\n",
              "          element.appendChild(docLink);\n",
              "        }\n",
              "      </script>\n",
              "    </div>\n",
              "  </div>\n",
              "  "
            ]
          },
          "metadata": {},
          "execution_count": 76
        }
      ]
    },
    {
      "cell_type": "code",
      "source": [
        "df.shape"
      ],
      "metadata": {
        "id": "ivY52pbvMFtP",
        "colab": {
          "base_uri": "https://localhost:8080/"
        },
        "outputId": "3ae10bbc-f873-49fb-f2ba-edc05cfb59a1"
      },
      "execution_count": null,
      "outputs": [
        {
          "output_type": "execute_result",
          "data": {
            "text/plain": [
              "(20640, 10)"
            ]
          },
          "metadata": {},
          "execution_count": 77
        }
      ]
    },
    {
      "cell_type": "code",
      "source": [
        "#Feature names listed\n",
        "df.columns"
      ],
      "metadata": {
        "id": "u4nj_OQAMKkT",
        "colab": {
          "base_uri": "https://localhost:8080/"
        },
        "outputId": "bbba264a-4ac0-4bfd-e6dc-4ba857b2e37e"
      },
      "execution_count": null,
      "outputs": [
        {
          "output_type": "execute_result",
          "data": {
            "text/plain": [
              "Index(['longitude', 'latitude', 'housing_median_age', 'total_rooms',\n",
              "       'total_bedrooms', 'population', 'households', 'median_income',\n",
              "       'median_house_value', 'ocean_proximity'],\n",
              "      dtype='object')"
            ]
          },
          "metadata": {},
          "execution_count": 78
        }
      ]
    },
    {
      "cell_type": "code",
      "source": [
        "df.describe()"
      ],
      "metadata": {
        "id": "JEt-xBWNMKf0",
        "colab": {
          "base_uri": "https://localhost:8080/",
          "height": 300
        },
        "outputId": "4ac9ad08-4796-4b79-a4a8-bdd209c4a854"
      },
      "execution_count": null,
      "outputs": [
        {
          "output_type": "execute_result",
          "data": {
            "text/plain": [
              "          longitude      latitude  housing_median_age   total_rooms  \\\n",
              "count  20640.000000  20640.000000        20640.000000  20640.000000   \n",
              "mean    -119.569704     35.631861           28.639486   2635.763081   \n",
              "std        2.003532      2.135952           12.585558   2181.615252   \n",
              "min     -124.350000     32.540000            1.000000      2.000000   \n",
              "25%     -121.800000     33.930000           18.000000   1447.750000   \n",
              "50%     -118.490000     34.260000           29.000000   2127.000000   \n",
              "75%     -118.010000     37.710000           37.000000   3148.000000   \n",
              "max     -114.310000     41.950000           52.000000  39320.000000   \n",
              "\n",
              "       total_bedrooms    population    households  median_income  \\\n",
              "count    20433.000000  20640.000000  20640.000000   20640.000000   \n",
              "mean       537.870553   1425.476744    499.539680       3.870671   \n",
              "std        421.385070   1132.462122    382.329753       1.899822   \n",
              "min          1.000000      3.000000      1.000000       0.499900   \n",
              "25%        296.000000    787.000000    280.000000       2.563400   \n",
              "50%        435.000000   1166.000000    409.000000       3.534800   \n",
              "75%        647.000000   1725.000000    605.000000       4.743250   \n",
              "max       6445.000000  35682.000000   6082.000000      15.000100   \n",
              "\n",
              "       median_house_value  \n",
              "count        20640.000000  \n",
              "mean        206855.816909  \n",
              "std         115395.615874  \n",
              "min          14999.000000  \n",
              "25%         119600.000000  \n",
              "50%         179700.000000  \n",
              "75%         264725.000000  \n",
              "max         500001.000000  "
            ],
            "text/html": [
              "\n",
              "  <div id=\"df-56bd6338-22a1-4285-b383-68894e0869ad\">\n",
              "    <div class=\"colab-df-container\">\n",
              "      <div>\n",
              "<style scoped>\n",
              "    .dataframe tbody tr th:only-of-type {\n",
              "        vertical-align: middle;\n",
              "    }\n",
              "\n",
              "    .dataframe tbody tr th {\n",
              "        vertical-align: top;\n",
              "    }\n",
              "\n",
              "    .dataframe thead th {\n",
              "        text-align: right;\n",
              "    }\n",
              "</style>\n",
              "<table border=\"1\" class=\"dataframe\">\n",
              "  <thead>\n",
              "    <tr style=\"text-align: right;\">\n",
              "      <th></th>\n",
              "      <th>longitude</th>\n",
              "      <th>latitude</th>\n",
              "      <th>housing_median_age</th>\n",
              "      <th>total_rooms</th>\n",
              "      <th>total_bedrooms</th>\n",
              "      <th>population</th>\n",
              "      <th>households</th>\n",
              "      <th>median_income</th>\n",
              "      <th>median_house_value</th>\n",
              "    </tr>\n",
              "  </thead>\n",
              "  <tbody>\n",
              "    <tr>\n",
              "      <th>count</th>\n",
              "      <td>20640.000000</td>\n",
              "      <td>20640.000000</td>\n",
              "      <td>20640.000000</td>\n",
              "      <td>20640.000000</td>\n",
              "      <td>20433.000000</td>\n",
              "      <td>20640.000000</td>\n",
              "      <td>20640.000000</td>\n",
              "      <td>20640.000000</td>\n",
              "      <td>20640.000000</td>\n",
              "    </tr>\n",
              "    <tr>\n",
              "      <th>mean</th>\n",
              "      <td>-119.569704</td>\n",
              "      <td>35.631861</td>\n",
              "      <td>28.639486</td>\n",
              "      <td>2635.763081</td>\n",
              "      <td>537.870553</td>\n",
              "      <td>1425.476744</td>\n",
              "      <td>499.539680</td>\n",
              "      <td>3.870671</td>\n",
              "      <td>206855.816909</td>\n",
              "    </tr>\n",
              "    <tr>\n",
              "      <th>std</th>\n",
              "      <td>2.003532</td>\n",
              "      <td>2.135952</td>\n",
              "      <td>12.585558</td>\n",
              "      <td>2181.615252</td>\n",
              "      <td>421.385070</td>\n",
              "      <td>1132.462122</td>\n",
              "      <td>382.329753</td>\n",
              "      <td>1.899822</td>\n",
              "      <td>115395.615874</td>\n",
              "    </tr>\n",
              "    <tr>\n",
              "      <th>min</th>\n",
              "      <td>-124.350000</td>\n",
              "      <td>32.540000</td>\n",
              "      <td>1.000000</td>\n",
              "      <td>2.000000</td>\n",
              "      <td>1.000000</td>\n",
              "      <td>3.000000</td>\n",
              "      <td>1.000000</td>\n",
              "      <td>0.499900</td>\n",
              "      <td>14999.000000</td>\n",
              "    </tr>\n",
              "    <tr>\n",
              "      <th>25%</th>\n",
              "      <td>-121.800000</td>\n",
              "      <td>33.930000</td>\n",
              "      <td>18.000000</td>\n",
              "      <td>1447.750000</td>\n",
              "      <td>296.000000</td>\n",
              "      <td>787.000000</td>\n",
              "      <td>280.000000</td>\n",
              "      <td>2.563400</td>\n",
              "      <td>119600.000000</td>\n",
              "    </tr>\n",
              "    <tr>\n",
              "      <th>50%</th>\n",
              "      <td>-118.490000</td>\n",
              "      <td>34.260000</td>\n",
              "      <td>29.000000</td>\n",
              "      <td>2127.000000</td>\n",
              "      <td>435.000000</td>\n",
              "      <td>1166.000000</td>\n",
              "      <td>409.000000</td>\n",
              "      <td>3.534800</td>\n",
              "      <td>179700.000000</td>\n",
              "    </tr>\n",
              "    <tr>\n",
              "      <th>75%</th>\n",
              "      <td>-118.010000</td>\n",
              "      <td>37.710000</td>\n",
              "      <td>37.000000</td>\n",
              "      <td>3148.000000</td>\n",
              "      <td>647.000000</td>\n",
              "      <td>1725.000000</td>\n",
              "      <td>605.000000</td>\n",
              "      <td>4.743250</td>\n",
              "      <td>264725.000000</td>\n",
              "    </tr>\n",
              "    <tr>\n",
              "      <th>max</th>\n",
              "      <td>-114.310000</td>\n",
              "      <td>41.950000</td>\n",
              "      <td>52.000000</td>\n",
              "      <td>39320.000000</td>\n",
              "      <td>6445.000000</td>\n",
              "      <td>35682.000000</td>\n",
              "      <td>6082.000000</td>\n",
              "      <td>15.000100</td>\n",
              "      <td>500001.000000</td>\n",
              "    </tr>\n",
              "  </tbody>\n",
              "</table>\n",
              "</div>\n",
              "      <button class=\"colab-df-convert\" onclick=\"convertToInteractive('df-56bd6338-22a1-4285-b383-68894e0869ad')\"\n",
              "              title=\"Convert this dataframe to an interactive table.\"\n",
              "              style=\"display:none;\">\n",
              "        \n",
              "  <svg xmlns=\"http://www.w3.org/2000/svg\" height=\"24px\"viewBox=\"0 0 24 24\"\n",
              "       width=\"24px\">\n",
              "    <path d=\"M0 0h24v24H0V0z\" fill=\"none\"/>\n",
              "    <path d=\"M18.56 5.44l.94 2.06.94-2.06 2.06-.94-2.06-.94-.94-2.06-.94 2.06-2.06.94zm-11 1L8.5 8.5l.94-2.06 2.06-.94-2.06-.94L8.5 2.5l-.94 2.06-2.06.94zm10 10l.94 2.06.94-2.06 2.06-.94-2.06-.94-.94-2.06-.94 2.06-2.06.94z\"/><path d=\"M17.41 7.96l-1.37-1.37c-.4-.4-.92-.59-1.43-.59-.52 0-1.04.2-1.43.59L10.3 9.45l-7.72 7.72c-.78.78-.78 2.05 0 2.83L4 21.41c.39.39.9.59 1.41.59.51 0 1.02-.2 1.41-.59l7.78-7.78 2.81-2.81c.8-.78.8-2.07 0-2.86zM5.41 20L4 18.59l7.72-7.72 1.47 1.35L5.41 20z\"/>\n",
              "  </svg>\n",
              "      </button>\n",
              "      \n",
              "  <style>\n",
              "    .colab-df-container {\n",
              "      display:flex;\n",
              "      flex-wrap:wrap;\n",
              "      gap: 12px;\n",
              "    }\n",
              "\n",
              "    .colab-df-convert {\n",
              "      background-color: #E8F0FE;\n",
              "      border: none;\n",
              "      border-radius: 50%;\n",
              "      cursor: pointer;\n",
              "      display: none;\n",
              "      fill: #1967D2;\n",
              "      height: 32px;\n",
              "      padding: 0 0 0 0;\n",
              "      width: 32px;\n",
              "    }\n",
              "\n",
              "    .colab-df-convert:hover {\n",
              "      background-color: #E2EBFA;\n",
              "      box-shadow: 0px 1px 2px rgba(60, 64, 67, 0.3), 0px 1px 3px 1px rgba(60, 64, 67, 0.15);\n",
              "      fill: #174EA6;\n",
              "    }\n",
              "\n",
              "    [theme=dark] .colab-df-convert {\n",
              "      background-color: #3B4455;\n",
              "      fill: #D2E3FC;\n",
              "    }\n",
              "\n",
              "    [theme=dark] .colab-df-convert:hover {\n",
              "      background-color: #434B5C;\n",
              "      box-shadow: 0px 1px 3px 1px rgba(0, 0, 0, 0.15);\n",
              "      filter: drop-shadow(0px 1px 2px rgba(0, 0, 0, 0.3));\n",
              "      fill: #FFFFFF;\n",
              "    }\n",
              "  </style>\n",
              "\n",
              "      <script>\n",
              "        const buttonEl =\n",
              "          document.querySelector('#df-56bd6338-22a1-4285-b383-68894e0869ad button.colab-df-convert');\n",
              "        buttonEl.style.display =\n",
              "          google.colab.kernel.accessAllowed ? 'block' : 'none';\n",
              "\n",
              "        async function convertToInteractive(key) {\n",
              "          const element = document.querySelector('#df-56bd6338-22a1-4285-b383-68894e0869ad');\n",
              "          const dataTable =\n",
              "            await google.colab.kernel.invokeFunction('convertToInteractive',\n",
              "                                                     [key], {});\n",
              "          if (!dataTable) return;\n",
              "\n",
              "          const docLinkHtml = 'Like what you see? Visit the ' +\n",
              "            '<a target=\"_blank\" href=https://colab.research.google.com/notebooks/data_table.ipynb>data table notebook</a>'\n",
              "            + ' to learn more about interactive tables.';\n",
              "          element.innerHTML = '';\n",
              "          dataTable['output_type'] = 'display_data';\n",
              "          await google.colab.output.renderOutput(dataTable, element);\n",
              "          const docLink = document.createElement('div');\n",
              "          docLink.innerHTML = docLinkHtml;\n",
              "          element.appendChild(docLink);\n",
              "        }\n",
              "      </script>\n",
              "    </div>\n",
              "  </div>\n",
              "  "
            ]
          },
          "metadata": {},
          "execution_count": 79
        }
      ]
    },
    {
      "cell_type": "code",
      "source": [
        "df.info()"
      ],
      "metadata": {
        "id": "OER0OK5vMKcM",
        "colab": {
          "base_uri": "https://localhost:8080/"
        },
        "outputId": "60b7677d-b2f9-40a2-f5d0-21d34c32b6df"
      },
      "execution_count": null,
      "outputs": [
        {
          "output_type": "stream",
          "name": "stdout",
          "text": [
            "<class 'pandas.core.frame.DataFrame'>\n",
            "RangeIndex: 20640 entries, 0 to 20639\n",
            "Data columns (total 10 columns):\n",
            " #   Column              Non-Null Count  Dtype  \n",
            "---  ------              --------------  -----  \n",
            " 0   longitude           20640 non-null  float64\n",
            " 1   latitude            20640 non-null  float64\n",
            " 2   housing_median_age  20640 non-null  float64\n",
            " 3   total_rooms         20640 non-null  float64\n",
            " 4   total_bedrooms      20433 non-null  float64\n",
            " 5   population          20640 non-null  float64\n",
            " 6   households          20640 non-null  float64\n",
            " 7   median_income       20640 non-null  float64\n",
            " 8   median_house_value  20640 non-null  float64\n",
            " 9   ocean_proximity     20640 non-null  object \n",
            "dtypes: float64(9), object(1)\n",
            "memory usage: 1.6+ MB\n"
          ]
        }
      ]
    },
    {
      "cell_type": "code",
      "source": [
        "#Using matplotlib and seaborn for visualization\n",
        "import matplotlib.pyplot as plt\n",
        "import seaborn as sns\n",
        "\n",
        "#Visualizing missing data\n",
        "sns.heatmap(df.isnull(),cmap='Greens',cbar=True,yticklabels=False)\n",
        "plt.title('Missing Data in Total Bedrooms')\n",
        "plt.show()"
      ],
      "metadata": {
        "id": "9hXYE2LfMKYa",
        "colab": {
          "base_uri": "https://localhost:8080/",
          "height": 377
        },
        "outputId": "fc4095a0-6b73-4334-d0d5-871661ae6e8b"
      },
      "execution_count": null,
      "outputs": [
        {
          "output_type": "display_data",
          "data": {
            "text/plain": [
              "<Figure size 432x288 with 2 Axes>"
            ],
            "image/png": "[encoded data removed]"
          },
          "metadata": {}
        }
      ]
    },
    {
      "cell_type": "code",
      "source": [
        "#Checking as to which feature has missing values using boolean commands\n",
        "df.isnull().any()"
      ],
      "metadata": {
        "id": "BvhXkDABMKUg",
        "colab": {
          "base_uri": "https://localhost:8080/"
        },
        "outputId": "f5bf20a3-1c47-4b9e-f79a-16a8dfd40e85"
      },
      "execution_count": null,
      "outputs": [
        {
          "output_type": "execute_result",
          "data": {
            "text/plain": [
              "longitude             False\n",
              "latitude              False\n",
              "housing_median_age    False\n",
              "total_rooms           False\n",
              "total_bedrooms         True\n",
              "population            False\n",
              "households            False\n",
              "median_income         False\n",
              "median_house_value    False\n",
              "ocean_proximity       False\n",
              "dtype: bool"
            ]
          },
          "metadata": {},
          "execution_count": 82
        }
      ]
    },
    {
      "cell_type": "code",
      "source": [
        "#So, total_bedrooms has missing values\n",
        "#Counting how many rows do not have bedrooms \n",
        "df.isnull().sum()"
      ],
      "metadata": {
        "id": "KUAg2p_wMKNV",
        "colab": {
          "base_uri": "https://localhost:8080/"
        },
        "outputId": "135e3839-7e7d-4f73-cb19-14f2da490764"
      },
      "execution_count": null,
      "outputs": [
        {
          "output_type": "execute_result",
          "data": {
            "text/plain": [
              "longitude               0\n",
              "latitude                0\n",
              "housing_median_age      0\n",
              "total_rooms             0\n",
              "total_bedrooms        207\n",
              "population              0\n",
              "households              0\n",
              "median_income           0\n",
              "median_house_value      0\n",
              "ocean_proximity         0\n",
              "dtype: int64"
            ]
          },
          "metadata": {},
          "execution_count": 83
        }
      ]
    },
    {
      "cell_type": "code",
      "source": [
        "#Another version of df.head() but without feature names\n",
        "df.values"
      ],
      "metadata": {
        "id": "jdTPkVNSMKJT",
        "colab": {
          "base_uri": "https://localhost:8080/"
        },
        "outputId": "5faad512-7196-472e-d14d-62e816370da1"
      },
      "execution_count": null,
      "outputs": [
        {
          "output_type": "execute_result",
          "data": {
            "text/plain": [
              "array([[-122.23, 37.88, 41.0, ..., 8.3252, 452600.0, 'NEAR BAY'],\n",
              "       [-122.22, 37.86, 21.0, ..., 8.3014, 358500.0, 'NEAR BAY'],\n",
              "       [-122.24, 37.85, 52.0, ..., 7.2574, 352100.0, 'NEAR BAY'],\n",
              "       ...,\n",
              "       [-121.22, 39.43, 17.0, ..., 1.7, 92300.0, 'INLAND'],\n",
              "       [-121.32, 39.43, 18.0, ..., 1.8672, 84700.0, 'INLAND'],\n",
              "       [-121.24, 39.37, 16.0, ..., 2.3886, 89400.0, 'INLAND']],\n",
              "      dtype=object)"
            ]
          },
          "metadata": {},
          "execution_count": 84
        }
      ]
    },
    {
      "cell_type": "code",
      "source": [
        "# Shuffling all rows(frac=1)\n",
        "df = df.sample(frac=1)\n",
        "df.head(10)"
      ],
      "metadata": {
        "id": "v6P1epTwMKE5",
        "colab": {
          "base_uri": "https://localhost:8080/",
          "height": 363
        },
        "outputId": "37af16a2-c29f-499d-b13e-7044edd7e0ad"
      },
      "execution_count": null,
      "outputs": [
        {
          "output_type": "execute_result",
          "data": {
            "text/plain": [
              "       longitude  latitude  housing_median_age  total_rooms  total_bedrooms  \\\n",
              "14158    -117.08     32.76                27.0       1221.0           254.0   \n",
              "15498    -117.23     33.10                 4.0       1862.0           291.0   \n",
              "1588     -121.98     37.82                18.0       9117.0          1248.0   \n",
              "8954     -118.39     34.02                38.0       2447.0           636.0   \n",
              "15743    -122.43     37.78                29.0       1310.0           364.0   \n",
              "10911    -117.86     33.73                23.0        407.0           108.0   \n",
              "17694    -121.82     37.28                33.0       2873.0           489.0   \n",
              "7675     -118.09     33.92                36.0        847.0           185.0   \n",
              "8563     -118.41     33.92                29.0       1436.0           401.0   \n",
              "15609    -116.91     32.73                 8.0       4630.0           624.0   \n",
              "\n",
              "       population  households  median_income  median_house_value  \\\n",
              "14158       606.0       259.0         3.0833            155400.0   \n",
              "15498       685.0       248.0         7.7450            237400.0   \n",
              "1588       3280.0      1167.0         8.0030            351300.0   \n",
              "8954       1312.0       574.0         3.5909            279400.0   \n",
              "15743      1009.0       379.0         1.3844            177500.0   \n",
              "10911       647.0        96.0         3.7750            177400.0   \n",
              "17694      1946.0       475.0         5.0709            176400.0   \n",
              "7675        713.0       194.0         4.8542            167400.0   \n",
              "8563        674.0       343.0         3.6389            275000.0   \n",
              "15609      2048.0       575.0         6.4745            300300.0   \n",
              "\n",
              "      ocean_proximity  \n",
              "14158      NEAR OCEAN  \n",
              "15498      NEAR OCEAN  \n",
              "1588        <1H OCEAN  \n",
              "8954        <1H OCEAN  \n",
              "15743        NEAR BAY  \n",
              "10911       <1H OCEAN  \n",
              "17694       <1H OCEAN  \n",
              "7675        <1H OCEAN  \n",
              "8563        <1H OCEAN  \n",
              "15609       <1H OCEAN  "
            ],
            "text/html": [
              "\n",
              "  <div id=\"df-c2883145-04bd-4fe8-b8b9-a1f4b349e11f\">\n",
              "    <div class=\"colab-df-container\">\n",
              "      <div>\n",
              "<style scoped>\n",
              "    .dataframe tbody tr th:only-of-type {\n",
              "        vertical-align: middle;\n",
              "    }\n",
              "\n",
              "    .dataframe tbody tr th {\n",
              "        vertical-align: top;\n",
              "    }\n",
              "\n",
              "    .dataframe thead th {\n",
              "        text-align: right;\n",
              "    }\n",
              "</style>\n",
              "<table border=\"1\" class=\"dataframe\">\n",
              "  <thead>\n",
              "    <tr style=\"text-align: right;\">\n",
              "      <th></th>\n",
              "      <th>longitude</th>\n",
              "      <th>latitude</th>\n",
              "      <th>housing_median_age</th>\n",
              "      <th>total_rooms</th>\n",
              "      <th>total_bedrooms</th>\n",
              "      <th>population</th>\n",
              "      <th>households</th>\n",
              "      <th>median_income</th>\n",
              "      <th>median_house_value</th>\n",
              "      <th>ocean_proximity</th>\n",
              "    </tr>\n",
              "  </thead>\n",
              "  <tbody>\n",
              "    <tr>\n",
              "      <th>14158</th>\n",
              "      <td>-117.08</td>\n",
              "      <td>32.76</td>\n",
              "      <td>27.0</td>\n",
              "      <td>1221.0</td>\n",
              "      <td>254.0</td>\n",
              "      <td>606.0</td>\n",
              "      <td>259.0</td>\n",
              "      <td>3.0833</td>\n",
              "      <td>155400.0</td>\n",
              "      <td>NEAR OCEAN</td>\n",
              "    </tr>\n",
              "    <tr>\n",
              "      <th>15498</th>\n",
              "      <td>-117.23</td>\n",
              "      <td>33.10</td>\n",
              "      <td>4.0</td>\n",
              "      <td>1862.0</td>\n",
              "      <td>291.0</td>\n",
              "      <td>685.0</td>\n",
              "      <td>248.0</td>\n",
              "      <td>7.7450</td>\n",
              "      <td>237400.0</td>\n",
              "      <td>NEAR OCEAN</td>\n",
              "    </tr>\n",
              "    <tr>\n",
              "      <th>1588</th>\n",
              "      <td>-121.98</td>\n",
              "      <td>37.82</td>\n",
              "      <td>18.0</td>\n",
              "      <td>9117.0</td>\n",
              "      <td>1248.0</td>\n",
              "      <td>3280.0</td>\n",
              "      <td>1167.0</td>\n",
              "      <td>8.0030</td>\n",
              "      <td>351300.0</td>\n",
              "      <td>&lt;1H OCEAN</td>\n",
              "    </tr>\n",
              "    <tr>\n",
              "      <th>8954</th>\n",
              "      <td>-118.39</td>\n",
              "      <td>34.02</td>\n",
              "      <td>38.0</td>\n",
              "      <td>2447.0</td>\n",
              "      <td>636.0</td>\n",
              "      <td>1312.0</td>\n",
              "      <td>574.0</td>\n",
              "      <td>3.5909</td>\n",
              "      <td>279400.0</td>\n",
              "      <td>&lt;1H OCEAN</td>\n",
              "    </tr>\n",
              "    <tr>\n",
              "      <th>15743</th>\n",
              "      <td>-122.43</td>\n",
              "      <td>37.78</td>\n",
              "      <td>29.0</td>\n",
              "      <td>1310.0</td>\n",
              "      <td>364.0</td>\n",
              "      <td>1009.0</td>\n",
              "      <td>379.0</td>\n",
              "      <td>1.3844</td>\n",
              "      <td>177500.0</td>\n",
              "      <td>NEAR BAY</td>\n",
              "    </tr>\n",
              "    <tr>\n",
              "      <th>10911</th>\n",
              "      <td>-117.86</td>\n",
              "      <td>33.73</td>\n",
              "      <td>23.0</td>\n",
              "      <td>407.0</td>\n",
              "      <td>108.0</td>\n",
              "      <td>647.0</td>\n",
              "      <td>96.0</td>\n",
              "      <td>3.7750</td>\n",
              "      <td>177400.0</td>\n",
              "      <td>&lt;1H OCEAN</td>\n",
              "    </tr>\n",
              "    <tr>\n",
              "      <th>17694</th>\n",
              "      <td>-121.82</td>\n",
              "      <td>37.28</td>\n",
              "      <td>33.0</td>\n",
              "      <td>2873.0</td>\n",
              "      <td>489.0</td>\n",
              "      <td>1946.0</td>\n",
              "      <td>475.0</td>\n",
              "      <td>5.0709</td>\n",
              "      <td>176400.0</td>\n",
              "      <td>&lt;1H OCEAN</td>\n",
              "    </tr>\n",
              "    <tr>\n",
              "      <th>7675</th>\n",
              "      <td>-118.09</td>\n",
              "      <td>33.92</td>\n",
              "      <td>36.0</td>\n",
              "      <td>847.0</td>\n",
              "      <td>185.0</td>\n",
              "      <td>713.0</td>\n",
              "      <td>194.0</td>\n",
              "      <td>4.8542</td>\n",
              "      <td>167400.0</td>\n",
              "      <td>&lt;1H OCEAN</td>\n",
              "    </tr>\n",
              "    <tr>\n",
              "      <th>8563</th>\n",
              "      <td>-118.41</td>\n",
              "      <td>33.92</td>\n",
              "      <td>29.0</td>\n",
              "      <td>1436.0</td>\n",
              "      <td>401.0</td>\n",
              "      <td>674.0</td>\n",
              "      <td>343.0</td>\n",
              "      <td>3.6389</td>\n",
              "      <td>275000.0</td>\n",
              "      <td>&lt;1H OCEAN</td>\n",
              "    </tr>\n",
              "    <tr>\n",
              "      <th>15609</th>\n",
              "      <td>-116.91</td>\n",
              "      <td>32.73</td>\n",
              "      <td>8.0</td>\n",
              "      <td>4630.0</td>\n",
              "      <td>624.0</td>\n",
              "      <td>2048.0</td>\n",
              "      <td>575.0</td>\n",
              "      <td>6.4745</td>\n",
              "      <td>300300.0</td>\n",
              "      <td>&lt;1H OCEAN</td>\n",
              "    </tr>\n",
              "  </tbody>\n",
              "</table>\n",
              "</div>\n",
              "      <button class=\"colab-df-convert\" onclick=\"convertToInteractive('df-c2883145-04bd-4fe8-b8b9-a1f4b349e11f')\"\n",
              "              title=\"Convert this dataframe to an interactive table.\"\n",
              "              style=\"display:none;\">\n",
              "        \n",
              "  <svg xmlns=\"http://www.w3.org/2000/svg\" height=\"24px\"viewBox=\"0 0 24 24\"\n",
              "       width=\"24px\">\n",
              "    <path d=\"M0 0h24v24H0V0z\" fill=\"none\"/>\n",
              "    <path d=\"M18.56 5.44l.94 2.06.94-2.06 2.06-.94-2.06-.94-.94-2.06-.94 2.06-2.06.94zm-11 1L8.5 8.5l.94-2.06 2.06-.94-2.06-.94L8.5 2.5l-.94 2.06-2.06.94zm10 10l.94 2.06.94-2.06 2.06-.94-2.06-.94-.94-2.06-.94 2.06-2.06.94z\"/><path d=\"M17.41 7.96l-1.37-1.37c-.4-.4-.92-.59-1.43-.59-.52 0-1.04.2-1.43.59L10.3 9.45l-7.72 7.72c-.78.78-.78 2.05 0 2.83L4 21.41c.39.39.9.59 1.41.59.51 0 1.02-.2 1.41-.59l7.78-7.78 2.81-2.81c.8-.78.8-2.07 0-2.86zM5.41 20L4 18.59l7.72-7.72 1.47 1.35L5.41 20z\"/>\n",
              "  </svg>\n",
              "      </button>\n",
              "      \n",
              "  <style>\n",
              "    .colab-df-container {\n",
              "      display:flex;\n",
              "      flex-wrap:wrap;\n",
              "      gap: 12px;\n",
              "    }\n",
              "\n",
              "    .colab-df-convert {\n",
              "      background-color: #E8F0FE;\n",
              "      border: none;\n",
              "      border-radius: 50%;\n",
              "      cursor: pointer;\n",
              "      display: none;\n",
              "      fill: #1967D2;\n",
              "      height: 32px;\n",
              "      padding: 0 0 0 0;\n",
              "      width: 32px;\n",
              "    }\n",
              "\n",
              "    .colab-df-convert:hover {\n",
              "      background-color: #E2EBFA;\n",
              "      box-shadow: 0px 1px 2px rgba(60, 64, 67, 0.3), 0px 1px 3px 1px rgba(60, 64, 67, 0.15);\n",
              "      fill: #174EA6;\n",
              "    }\n",
              "\n",
              "    [theme=dark] .colab-df-convert {\n",
              "      background-color: #3B4455;\n",
              "      fill: #D2E3FC;\n",
              "    }\n",
              "\n",
              "    [theme=dark] .colab-df-convert:hover {\n",
              "      background-color: #434B5C;\n",
              "      box-shadow: 0px 1px 3px 1px rgba(0, 0, 0, 0.15);\n",
              "      filter: drop-shadow(0px 1px 2px rgba(0, 0, 0, 0.3));\n",
              "      fill: #FFFFFF;\n",
              "    }\n",
              "  </style>\n",
              "\n",
              "      <script>\n",
              "        const buttonEl =\n",
              "          document.querySelector('#df-c2883145-04bd-4fe8-b8b9-a1f4b349e11f button.colab-df-convert');\n",
              "        buttonEl.style.display =\n",
              "          google.colab.kernel.accessAllowed ? 'block' : 'none';\n",
              "\n",
              "        async function convertToInteractive(key) {\n",
              "          const element = document.querySelector('#df-c2883145-04bd-4fe8-b8b9-a1f4b349e11f');\n",
              "          const dataTable =\n",
              "            await google.colab.kernel.invokeFunction('convertToInteractive',\n",
              "                                                     [key], {});\n",
              "          if (!dataTable) return;\n",
              "\n",
              "          const docLinkHtml = 'Like what you see? Visit the ' +\n",
              "            '<a target=\"_blank\" href=https://colab.research.google.com/notebooks/data_table.ipynb>data table notebook</a>'\n",
              "            + ' to learn more about interactive tables.';\n",
              "          element.innerHTML = '';\n",
              "          dataTable['output_type'] = 'display_data';\n",
              "          await google.colab.output.renderOutput(dataTable, element);\n",
              "          const docLink = document.createElement('div');\n",
              "          docLink.innerHTML = docLinkHtml;\n",
              "          element.appendChild(docLink);\n",
              "        }\n",
              "      </script>\n",
              "    </div>\n",
              "  </div>\n",
              "  "
            ]
          },
          "metadata": {},
          "execution_count": 85
        }
      ]
    },
    {
      "cell_type": "code",
      "source": [
        "#Categorical Data, so, will enumerate and replace all data with unique values for each type of data\n",
        "df['ocean_proximity'].unique()"
      ],
      "metadata": {
        "id": "6t2xu5HOMKAE",
        "colab": {
          "base_uri": "https://localhost:8080/"
        },
        "outputId": "031651e7-c8ef-4441-ef6f-9080b9d2fb2d"
      },
      "execution_count": null,
      "outputs": [
        {
          "output_type": "execute_result",
          "data": {
            "text/plain": [
              "array(['NEAR OCEAN', '<1H OCEAN', 'NEAR BAY', 'INLAND', 'ISLAND'],\n",
              "      dtype=object)"
            ]
          },
          "metadata": {},
          "execution_count": 86
        }
      ]
    },
    {
      "cell_type": "code",
      "source": [
        "plt.figure(figsize=(10,6))\n",
        "sns.countplot(data=df,x='ocean_proximity')\n",
        "plt.plot()"
      ],
      "metadata": {
        "id": "mAFdKz5uMJ8R",
        "colab": {
          "base_uri": "https://localhost:8080/",
          "height": 407
        },
        "outputId": "96bfb425-4288-4cf8-86f0-3da023a78eb0"
      },
      "execution_count": null,
      "outputs": [
        {
          "output_type": "execute_result",
          "data": {
            "text/plain": [
              "[]"
            ]
          },
          "metadata": {},
          "execution_count": 87
        },
        {
          "output_type": "display_data",
          "data": {
            "text/plain": [
              "<Figure size 720x432 with 1 Axes>"
            ],
            "image/png": "[encoded data removed]"
          },
          "metadata": {}
        }
      ]
    },
    {
      "cell_type": "code",
      "source": [
        "# Replace ocean proximity with values to help our model\n",
        "ocean_proximity = {a:b for b,a in enumerate(df['ocean_proximity'].unique())}\n",
        "df.replace(ocean_proximity, inplace=True)"
      ],
      "metadata": {
        "id": "DmEELoT0MJ4p"
      },
      "execution_count": null,
      "outputs": []
    },
    {
      "cell_type": "code",
      "source": [
        "df.ocean_proximity.unique()"
      ],
      "metadata": {
        "id": "7SEM2XI5MJ0t",
        "colab": {
          "base_uri": "https://localhost:8080/"
        },
        "outputId": "cb92283f-115f-423b-d52e-4fe47733a4cc"
      },
      "execution_count": null,
      "outputs": [
        {
          "output_type": "execute_result",
          "data": {
            "text/plain": [
              "array([0, 1, 2, 3, 4])"
            ]
          },
          "metadata": {},
          "execution_count": 89
        }
      ]
    },
    {
      "cell_type": "code",
      "source": [
        "# The feature 'total_bedrooms' has NaN values so I will replace them with the mean of the feature\n",
        "df = df.apply(lambda x: x.fillna(x.mean()))"
      ],
      "metadata": {
        "id": "xdjE8MwbMJxG"
      },
      "execution_count": null,
      "outputs": []
    },
    {
      "cell_type": "code",
      "source": [
        "#Verifying Data is balanced\n",
        "df.isnull().any()"
      ],
      "metadata": {
        "id": "Vy16o5SBMJtk",
        "colab": {
          "base_uri": "https://localhost:8080/"
        },
        "outputId": "a99f3f51-5bce-49a0-ab33-05e9ba7b4648"
      },
      "execution_count": null,
      "outputs": [
        {
          "output_type": "execute_result",
          "data": {
            "text/plain": [
              "longitude             False\n",
              "latitude              False\n",
              "housing_median_age    False\n",
              "total_rooms           False\n",
              "total_bedrooms        False\n",
              "population            False\n",
              "households            False\n",
              "median_income         False\n",
              "median_house_value    False\n",
              "ocean_proximity       False\n",
              "dtype: bool"
            ]
          },
          "metadata": {},
          "execution_count": 91
        }
      ]
    },
    {
      "cell_type": "code",
      "source": [
        "import matplotlib.pyplot as plt\n",
        "df.hist(bins=50,figsize=(20,15))\n",
        "plt.show()"
      ],
      "metadata": {
        "id": "VgDIY6IdMJqF",
        "colab": {
          "base_uri": "https://localhost:8080/",
          "height": 879
        },
        "outputId": "2ac9ccd7-2759-448b-938a-4a485a03ccee"
      },
      "execution_count": null,
      "outputs": [
        {
          "output_type": "display_data",
          "data": {
            "text/plain": [
              "<Figure size 1440x1080 with 12 Axes>"
            ],
            "image/png": "[encoded data removed]"
          },
          "metadata": {}
        }
      ]
    },
    {
      "cell_type": "code",
      "source": [
        "#Analyzing the median income range\n",
        "df[\"median_income\"].hist(bins=40, color='green')"
      ],
      "metadata": {
        "id": "rIJS7RcuMJmk",
        "colab": {
          "base_uri": "https://localhost:8080/",
          "height": 283
        },
        "outputId": "7a3e5f78-b14a-4754-f5ee-8b21b09ef91f"
      },
      "execution_count": null,
      "outputs": [
        {
          "output_type": "execute_result",
          "data": {
            "text/plain": [
              "<matplotlib.axes._subplots.AxesSubplot at 0x7f59dc541790>"
            ]
          },
          "metadata": {},
          "execution_count": 93
        },
        {
          "output_type": "display_data",
          "data": {
            "text/plain": [
              "<Figure size 432x288 with 1 Axes>"
            ],
            "image/png": "[encoded data removed]"
          },
          "metadata": {}
        }
      ]
    },
    {
      "cell_type": "code",
      "source": [
        "# Calculating correlation\n",
        "corr_matrix=df.corr()\n",
        "corr_matrix"
      ],
      "metadata": {
        "id": "GHUp97XCMJjJ",
        "colab": {
          "base_uri": "https://localhost:8080/",
          "height": 427
        },
        "outputId": "b5897e75-8584-463c-c00e-abd3cecb4de3"
      },
      "execution_count": null,
      "outputs": [
        {
          "output_type": "execute_result",
          "data": {
            "text/plain": [
              "                    longitude  latitude  housing_median_age  total_rooms  \\\n",
              "longitude            1.000000 -0.924664           -0.108197     0.044568   \n",
              "latitude            -0.924664  1.000000            0.011173    -0.036100   \n",
              "housing_median_age  -0.108197  0.011173            1.000000    -0.361262   \n",
              "total_rooms          0.044568 -0.036100           -0.361262     1.000000   \n",
              "total_bedrooms       0.069260 -0.066658           -0.318998     0.927253   \n",
              "population           0.099773 -0.108785           -0.296244     0.857126   \n",
              "households           0.055310 -0.071035           -0.302916     0.918484   \n",
              "median_income       -0.015176 -0.079809           -0.119034     0.198050   \n",
              "median_house_value  -0.045967 -0.144160            0.105623     0.134153   \n",
              "ocean_proximity     -0.202787  0.463486           -0.137917     0.018197   \n",
              "\n",
              "                    total_bedrooms  population  households  median_income  \\\n",
              "longitude                 0.069260    0.099773    0.055310      -0.015176   \n",
              "latitude                 -0.066658   -0.108785   -0.071035      -0.079809   \n",
              "housing_median_age       -0.318998   -0.296244   -0.302916      -0.119034   \n",
              "total_rooms               0.927253    0.857126    0.918484       0.198050   \n",
              "total_bedrooms            1.000000    0.873910    0.974725      -0.007682   \n",
              "population                0.873910    1.000000    0.907222       0.004834   \n",
              "households                0.974725    0.907222    1.000000       0.013033   \n",
              "median_income            -0.007682    0.004834    0.013033       1.000000   \n",
              "median_house_value        0.049454   -0.024650    0.065843       0.688075   \n",
              "ocean_proximity          -0.011884   -0.028956   -0.038428      -0.200407   \n",
              "\n",
              "                    median_house_value  ocean_proximity  \n",
              "longitude                    -0.045967        -0.202787  \n",
              "latitude                     -0.144160         0.463486  \n",
              "housing_median_age            0.105623        -0.137917  \n",
              "total_rooms                   0.134153         0.018197  \n",
              "total_bedrooms                0.049454        -0.011884  \n",
              "population                   -0.024650        -0.028956  \n",
              "households                    0.065843        -0.038428  \n",
              "median_income                 0.688075        -0.200407  \n",
              "median_house_value            1.000000        -0.420936  \n",
              "ocean_proximity              -0.420936         1.000000  "
            ],
            "text/html": [
              "\n",
              "  <div id=\"df-b20d920b-5edb-40c1-9dde-c26b9ab77d2b\">\n",
              "    <div class=\"colab-df-container\">\n",
              "      <div>\n",
              "<style scoped>\n",
              "    .dataframe tbody tr th:only-of-type {\n",
              "        vertical-align: middle;\n",
              "    }\n",
              "\n",
              "    .dataframe tbody tr th {\n",
              "        vertical-align: top;\n",
              "    }\n",
              "\n",
              "    .dataframe thead th {\n",
              "        text-align: right;\n",
              "    }\n",
              "</style>\n",
              "<table border=\"1\" class=\"dataframe\">\n",
              "  <thead>\n",
              "    <tr style=\"text-align: right;\">\n",
              "      <th></th>\n",
              "      <th>longitude</th>\n",
              "      <th>latitude</th>\n",
              "      <th>housing_median_age</th>\n",
              "      <th>total_rooms</th>\n",
              "      <th>total_bedrooms</th>\n",
              "      <th>population</th>\n",
              "      <th>households</th>\n",
              "      <th>median_income</th>\n",
              "      <th>median_house_value</th>\n",
              "      <th>ocean_proximity</th>\n",
              "    </tr>\n",
              "  </thead>\n",
              "  <tbody>\n",
              "    <tr>\n",
              "      <th>longitude</th>\n",
              "      <td>1.000000</td>\n",
              "      <td>-0.924664</td>\n",
              "      <td>-0.108197</td>\n",
              "      <td>0.044568</td>\n",
              "      <td>0.069260</td>\n",
              "      <td>0.099773</td>\n",
              "      <td>0.055310</td>\n",
              "      <td>-0.015176</td>\n",
              "      <td>-0.045967</td>\n",
              "      <td>-0.202787</td>\n",
              "    </tr>\n",
              "    <tr>\n",
              "      <th>latitude</th>\n",
              "      <td>-0.924664</td>\n",
              "      <td>1.000000</td>\n",
              "      <td>0.011173</td>\n",
              "      <td>-0.036100</td>\n",
              "      <td>-0.066658</td>\n",
              "      <td>-0.108785</td>\n",
              "      <td>-0.071035</td>\n",
              "      <td>-0.079809</td>\n",
              "      <td>-0.144160</td>\n",
              "      <td>0.463486</td>\n",
              "    </tr>\n",
              "    <tr>\n",
              "      <th>housing_median_age</th>\n",
              "      <td>-0.108197</td>\n",
              "      <td>0.011173</td>\n",
              "      <td>1.000000</td>\n",
              "      <td>-0.361262</td>\n",
              "      <td>-0.318998</td>\n",
              "      <td>-0.296244</td>\n",
              "      <td>-0.302916</td>\n",
              "      <td>-0.119034</td>\n",
              "      <td>0.105623</td>\n",
              "      <td>-0.137917</td>\n",
              "    </tr>\n",
              "    <tr>\n",
              "      <th>total_rooms</th>\n",
              "      <td>0.044568</td>\n",
              "      <td>-0.036100</td>\n",
              "      <td>-0.361262</td>\n",
              "      <td>1.000000</td>\n",
              "      <td>0.927253</td>\n",
              "      <td>0.857126</td>\n",
              "      <td>0.918484</td>\n",
              "      <td>0.198050</td>\n",
              "      <td>0.134153</td>\n",
              "      <td>0.018197</td>\n",
              "    </tr>\n",
              "    <tr>\n",
              "      <th>total_bedrooms</th>\n",
              "      <td>0.069260</td>\n",
              "      <td>-0.066658</td>\n",
              "      <td>-0.318998</td>\n",
              "      <td>0.927253</td>\n",
              "      <td>1.000000</td>\n",
              "      <td>0.873910</td>\n",
              "      <td>0.974725</td>\n",
              "      <td>-0.007682</td>\n",
              "      <td>0.049454</td>\n",
              "      <td>-0.011884</td>\n",
              "    </tr>\n",
              "    <tr>\n",
              "      <th>population</th>\n",
              "      <td>0.099773</td>\n",
              "      <td>-0.108785</td>\n",
              "      <td>-0.296244</td>\n",
              "      <td>0.857126</td>\n",
              "      <td>0.873910</td>\n",
              "      <td>1.000000</td>\n",
              "      <td>0.907222</td>\n",
              "      <td>0.004834</td>\n",
              "      <td>-0.024650</td>\n",
              "      <td>-0.028956</td>\n",
              "    </tr>\n",
              "    <tr>\n",
              "      <th>households</th>\n",
              "      <td>0.055310</td>\n",
              "      <td>-0.071035</td>\n",
              "      <td>-0.302916</td>\n",
              "      <td>0.918484</td>\n",
              "      <td>0.974725</td>\n",
              "      <td>0.907222</td>\n",
              "      <td>1.000000</td>\n",
              "      <td>0.013033</td>\n",
              "      <td>0.065843</td>\n",
              "      <td>-0.038428</td>\n",
              "    </tr>\n",
              "    <tr>\n",
              "      <th>median_income</th>\n",
              "      <td>-0.015176</td>\n",
              "      <td>-0.079809</td>\n",
              "      <td>-0.119034</td>\n",
              "      <td>0.198050</td>\n",
              "      <td>-0.007682</td>\n",
              "      <td>0.004834</td>\n",
              "      <td>0.013033</td>\n",
              "      <td>1.000000</td>\n",
              "      <td>0.688075</td>\n",
              "      <td>-0.200407</td>\n",
              "    </tr>\n",
              "    <tr>\n",
              "      <th>median_house_value</th>\n",
              "      <td>-0.045967</td>\n",
              "      <td>-0.144160</td>\n",
              "      <td>0.105623</td>\n",
              "      <td>0.134153</td>\n",
              "      <td>0.049454</td>\n",
              "      <td>-0.024650</td>\n",
              "      <td>0.065843</td>\n",
              "      <td>0.688075</td>\n",
              "      <td>1.000000</td>\n",
              "      <td>-0.420936</td>\n",
              "    </tr>\n",
              "    <tr>\n",
              "      <th>ocean_proximity</th>\n",
              "      <td>-0.202787</td>\n",
              "      <td>0.463486</td>\n",
              "      <td>-0.137917</td>\n",
              "      <td>0.018197</td>\n",
              "      <td>-0.011884</td>\n",
              "      <td>-0.028956</td>\n",
              "      <td>-0.038428</td>\n",
              "      <td>-0.200407</td>\n",
              "      <td>-0.420936</td>\n",
              "      <td>1.000000</td>\n",
              "    </tr>\n",
              "  </tbody>\n",
              "</table>\n",
              "</div>\n",
              "      <button class=\"colab-df-convert\" onclick=\"convertToInteractive('df-b20d920b-5edb-40c1-9dde-c26b9ab77d2b')\"\n",
              "              title=\"Convert this dataframe to an interactive table.\"\n",
              "              style=\"display:none;\">\n",
              "        \n",
              "  <svg xmlns=\"http://www.w3.org/2000/svg\" height=\"24px\"viewBox=\"0 0 24 24\"\n",
              "       width=\"24px\">\n",
              "    <path d=\"M0 0h24v24H0V0z\" fill=\"none\"/>\n",
              "    <path d=\"M18.56 5.44l.94 2.06.94-2.06 2.06-.94-2.06-.94-.94-2.06-.94 2.06-2.06.94zm-11 1L8.5 8.5l.94-2.06 2.06-.94-2.06-.94L8.5 2.5l-.94 2.06-2.06.94zm10 10l.94 2.06.94-2.06 2.06-.94-2.06-.94-.94-2.06-.94 2.06-2.06.94z\"/><path d=\"M17.41 7.96l-1.37-1.37c-.4-.4-.92-.59-1.43-.59-.52 0-1.04.2-1.43.59L10.3 9.45l-7.72 7.72c-.78.78-.78 2.05 0 2.83L4 21.41c.39.39.9.59 1.41.59.51 0 1.02-.2 1.41-.59l7.78-7.78 2.81-2.81c.8-.78.8-2.07 0-2.86zM5.41 20L4 18.59l7.72-7.72 1.47 1.35L5.41 20z\"/>\n",
              "  </svg>\n",
              "      </button>\n",
              "      \n",
              "  <style>\n",
              "    .colab-df-container {\n",
              "      display:flex;\n",
              "      flex-wrap:wrap;\n",
              "      gap: 12px;\n",
              "    }\n",
              "\n",
              "    .colab-df-convert {\n",
              "      background-color: #E8F0FE;\n",
              "      border: none;\n",
              "      border-radius: 50%;\n",
              "      cursor: pointer;\n",
              "      display: none;\n",
              "      fill: #1967D2;\n",
              "      height: 32px;\n",
              "      padding: 0 0 0 0;\n",
              "      width: 32px;\n",
              "    }\n",
              "\n",
              "    .colab-df-convert:hover {\n",
              "      background-color: #E2EBFA;\n",
              "      box-shadow: 0px 1px 2px rgba(60, 64, 67, 0.3), 0px 1px 3px 1px rgba(60, 64, 67, 0.15);\n",
              "      fill: #174EA6;\n",
              "    }\n",
              "\n",
              "    [theme=dark] .colab-df-convert {\n",
              "      background-color: #3B4455;\n",
              "      fill: #D2E3FC;\n",
              "    }\n",
              "\n",
              "    [theme=dark] .colab-df-convert:hover {\n",
              "      background-color: #434B5C;\n",
              "      box-shadow: 0px 1px 3px 1px rgba(0, 0, 0, 0.15);\n",
              "      filter: drop-shadow(0px 1px 2px rgba(0, 0, 0, 0.3));\n",
              "      fill: #FFFFFF;\n",
              "    }\n",
              "  </style>\n",
              "\n",
              "      <script>\n",
              "        const buttonEl =\n",
              "          document.querySelector('#df-b20d920b-5edb-40c1-9dde-c26b9ab77d2b button.colab-df-convert');\n",
              "        buttonEl.style.display =\n",
              "          google.colab.kernel.accessAllowed ? 'block' : 'none';\n",
              "\n",
              "        async function convertToInteractive(key) {\n",
              "          const element = document.querySelector('#df-b20d920b-5edb-40c1-9dde-c26b9ab77d2b');\n",
              "          const dataTable =\n",
              "            await google.colab.kernel.invokeFunction('convertToInteractive',\n",
              "                                                     [key], {});\n",
              "          if (!dataTable) return;\n",
              "\n",
              "          const docLinkHtml = 'Like what you see? Visit the ' +\n",
              "            '<a target=\"_blank\" href=https://colab.research.google.com/notebooks/data_table.ipynb>data table notebook</a>'\n",
              "            + ' to learn more about interactive tables.';\n",
              "          element.innerHTML = '';\n",
              "          dataTable['output_type'] = 'display_data';\n",
              "          await google.colab.output.renderOutput(dataTable, element);\n",
              "          const docLink = document.createElement('div');\n",
              "          docLink.innerHTML = docLinkHtml;\n",
              "          element.appendChild(docLink);\n",
              "        }\n",
              "      </script>\n",
              "    </div>\n",
              "  </div>\n",
              "  "
            ]
          },
          "metadata": {},
          "execution_count": 94
        }
      ]
    },
    {
      "cell_type": "code",
      "source": [
        "plt.figure(figsize=(10,6))\n",
        "sns.displot(df['median_house_value'],color='red')\n",
        "plt.show()"
      ],
      "metadata": {
        "id": "ZDQocuIRMJfh",
        "colab": {
          "base_uri": "https://localhost:8080/",
          "height": 387
        },
        "outputId": "70d84027-2455-4767-fe2d-5ef4863ba74b"
      },
      "execution_count": null,
      "outputs": [
        {
          "output_type": "display_data",
          "data": {
            "text/plain": [
              "<Figure size 720x432 with 0 Axes>"
            ]
          },
          "metadata": {}
        },
        {
          "output_type": "display_data",
          "data": {
            "text/plain": [
              "<Figure size 360x360 with 1 Axes>"
            ],
            "image/png": "[encoded data removed]"
          },
          "metadata": {}
        }
      ]
    },
    {
      "cell_type": "code",
      "source": [
        "# As we see from above data, house values > 500000 are outliers, so we remove them\n",
        "df[df['median_house_value']>450000]['median_house_value'].value_counts().head()"
      ],
      "metadata": {
        "id": "nJXQUQ5LMJbx",
        "colab": {
          "base_uri": "https://localhost:8080/"
        },
        "outputId": "ded275d2-2cf0-47b9-d375-9a4a77fb3b3f"
      },
      "execution_count": null,
      "outputs": [
        {
          "output_type": "execute_result",
          "data": {
            "text/plain": [
              "500001.0    965\n",
              "500000.0     27\n",
              "475000.0      8\n",
              "483300.0      6\n",
              "466700.0      4\n",
              "Name: median_house_value, dtype: int64"
            ]
          },
          "metadata": {},
          "execution_count": 96
        }
      ]
    },
    {
      "cell_type": "code",
      "source": [
        "df=df.loc[df['median_house_value']<500001,:]\n",
        "\n",
        "df=df[df['population']<25000]"
      ],
      "metadata": {
        "id": "PDXhrj3SM2B7"
      },
      "execution_count": null,
      "outputs": []
    },
    {
      "cell_type": "code",
      "source": [
        "plt.figure(figsize=(14,8))\n",
        "sns.displot(df['median_house_value'],color='orange')\n",
        "plt.show()"
      ],
      "metadata": {
        "id": "i95QdyYPM1-n",
        "colab": {
          "base_uri": "https://localhost:8080/",
          "height": 387
        },
        "outputId": "50a6b0e1-3645-4941-c6d4-ecabcdde64f4"
      },
      "execution_count": null,
      "outputs": [
        {
          "output_type": "display_data",
          "data": {
            "text/plain": [
              "<Figure size 1008x576 with 0 Axes>"
            ]
          },
          "metadata": {}
        },
        {
          "output_type": "display_data",
          "data": {
            "text/plain": [
              "<Figure size 360x360 with 1 Axes>"
            ],
            "image/png": "[encoded data removed]"
          },
          "metadata": {}
        }
      ]
    },
    {
      "cell_type": "code",
      "source": [
        "# The outliers of median house value >500000 are removed\n",
        "\n",
        "plt.figure(figsize=(11,7))\n",
        "sns.heatmap(cbar=False,annot=True,data=df.corr()*100,cmap='coolwarm')\n",
        "plt.title('% Corelation Matrix')\n",
        "plt.show()"
      ],
      "metadata": {
        "id": "NAK2jJV8M17I",
        "colab": {
          "base_uri": "https://localhost:8080/",
          "height": 540
        },
        "outputId": "696d838a-1c25-484d-a796-0c79e45dc601"
      },
      "execution_count": null,
      "outputs": [
        {
          "output_type": "display_data",
          "data": {
            "text/plain": [
              "<Figure size 792x504 with 1 Axes>"
            ],
            "image/png": "[encoded data removed]"
          },
          "metadata": {}
        }
      ]
    },
    {
      "cell_type": "code",
      "source": [
        "plt.figure(figsize=(10,6))\n",
        "sns.stripplot(data=df,x='ocean_proximity',y='median_house_value',jitter=0.3)"
      ],
      "metadata": {
        "id": "s7bRFPz6M13j",
        "colab": {
          "base_uri": "https://localhost:8080/",
          "height": 407
        },
        "outputId": "570d2188-3167-4fbf-df11-722dcc286da3"
      },
      "execution_count": null,
      "outputs": [
        {
          "output_type": "execute_result",
          "data": {
            "text/plain": [
              "<matplotlib.axes._subplots.AxesSubplot at 0x7f59dc4cc890>"
            ]
          },
          "metadata": {},
          "execution_count": 100
        },
        {
          "output_type": "display_data",
          "data": {
            "text/plain": [
              "<Figure size 720x432 with 1 Axes>"
            ],
            "image/png": "[encoded data removed]"
          },
          "metadata": {}
        }
      ]
    },
    {
      "cell_type": "code",
      "source": [
        "plt.figure(figsize=(10,6))\n",
        "sns.boxplot(data=df,x='ocean_proximity',y='median_house_value',palette='viridis')\n",
        "plt.plot()"
      ],
      "metadata": {
        "id": "-_wSITRnM10F",
        "colab": {
          "base_uri": "https://localhost:8080/",
          "height": 407
        },
        "outputId": "36700d56-2509-4eae-e29f-b39dec98e3d1"
      },
      "execution_count": null,
      "outputs": [
        {
          "output_type": "execute_result",
          "data": {
            "text/plain": [
              "[]"
            ]
          },
          "metadata": {},
          "execution_count": 101
        },
        {
          "output_type": "display_data",
          "data": {
            "text/plain": [
              "<Figure size 720x432 with 1 Axes>"
            ],
            "image/png": "[encoded data removed]"
          },
          "metadata": {}
        }
      ]
    },
    {
      "cell_type": "markdown",
      "source": [
        "Modelling and Evaluation"
      ],
      "metadata": {
        "id": "XvolgsryXQ5D"
      }
    },
    {
      "cell_type": "code",
      "source": [
        "X = df.drop('median_house_value',axis=1)\n",
        "y = df['median_house_value']\n",
        "\n",
        "X.head(10)"
      ],
      "metadata": {
        "id": "X7L420O-M1wl",
        "colab": {
          "base_uri": "https://localhost:8080/",
          "height": 363
        },
        "outputId": "18172fc1-a285-413f-97ec-8ab1e742be39"
      },
      "execution_count": null,
      "outputs": [
        {
          "output_type": "execute_result",
          "data": {
            "text/plain": [
              "       longitude  latitude  housing_median_age  total_rooms  total_bedrooms  \\\n",
              "14158    -117.08     32.76                27.0       1221.0           254.0   \n",
              "15498    -117.23     33.10                 4.0       1862.0           291.0   \n",
              "1588     -121.98     37.82                18.0       9117.0          1248.0   \n",
              "8954     -118.39     34.02                38.0       2447.0           636.0   \n",
              "15743    -122.43     37.78                29.0       1310.0           364.0   \n",
              "10911    -117.86     33.73                23.0        407.0           108.0   \n",
              "17694    -121.82     37.28                33.0       2873.0           489.0   \n",
              "7675     -118.09     33.92                36.0        847.0           185.0   \n",
              "8563     -118.41     33.92                29.0       1436.0           401.0   \n",
              "15609    -116.91     32.73                 8.0       4630.0           624.0   \n",
              "\n",
              "       population  households  median_income  ocean_proximity  \n",
              "14158       606.0       259.0         3.0833                0  \n",
              "15498       685.0       248.0         7.7450                0  \n",
              "1588       3280.0      1167.0         8.0030                1  \n",
              "8954       1312.0       574.0         3.5909                1  \n",
              "15743      1009.0       379.0         1.3844                2  \n",
              "10911       647.0        96.0         3.7750                1  \n",
              "17694      1946.0       475.0         5.0709                1  \n",
              "7675        713.0       194.0         4.8542                1  \n",
              "8563        674.0       343.0         3.6389                1  \n",
              "15609      2048.0       575.0         6.4745                1  "
            ],
            "text/html": [
              "\n",
              "  <div id=\"df-b28798dc-b5b7-4cca-894a-cc3c0cfcce31\">\n",
              "    <div class=\"colab-df-container\">\n",
              "      <div>\n",
              "<style scoped>\n",
              "    .dataframe tbody tr th:only-of-type {\n",
              "        vertical-align: middle;\n",
              "    }\n",
              "\n",
              "    .dataframe tbody tr th {\n",
              "        vertical-align: top;\n",
              "    }\n",
              "\n",
              "    .dataframe thead th {\n",
              "        text-align: right;\n",
              "    }\n",
              "</style>\n",
              "<table border=\"1\" class=\"dataframe\">\n",
              "  <thead>\n",
              "    <tr style=\"text-align: right;\">\n",
              "      <th></th>\n",
              "      <th>longitude</th>\n",
              "      <th>latitude</th>\n",
              "      <th>housing_median_age</th>\n",
              "      <th>total_rooms</th>\n",
              "      <th>total_bedrooms</th>\n",
              "      <th>population</th>\n",
              "      <th>households</th>\n",
              "      <th>median_income</th>\n",
              "      <th>ocean_proximity</th>\n",
              "    </tr>\n",
              "  </thead>\n",
              "  <tbody>\n",
              "    <tr>\n",
              "      <th>14158</th>\n",
              "      <td>-117.08</td>\n",
              "      <td>32.76</td>\n",
              "      <td>27.0</td>\n",
              "      <td>1221.0</td>\n",
              "      <td>254.0</td>\n",
              "      <td>606.0</td>\n",
              "      <td>259.0</td>\n",
              "      <td>3.0833</td>\n",
              "      <td>0</td>\n",
              "    </tr>\n",
              "    <tr>\n",
              "      <th>15498</th>\n",
              "      <td>-117.23</td>\n",
              "      <td>33.10</td>\n",
              "      <td>4.0</td>\n",
              "      <td>1862.0</td>\n",
              "      <td>291.0</td>\n",
              "      <td>685.0</td>\n",
              "      <td>248.0</td>\n",
              "      <td>7.7450</td>\n",
              "      <td>0</td>\n",
              "    </tr>\n",
              "    <tr>\n",
              "      <th>1588</th>\n",
              "      <td>-121.98</td>\n",
              "      <td>37.82</td>\n",
              "      <td>18.0</td>\n",
              "      <td>9117.0</td>\n",
              "      <td>1248.0</td>\n",
              "      <td>3280.0</td>\n",
              "      <td>1167.0</td>\n",
              "      <td>8.0030</td>\n",
              "      <td>1</td>\n",
              "    </tr>\n",
              "    <tr>\n",
              "      <th>8954</th>\n",
              "      <td>-118.39</td>\n",
              "      <td>34.02</td>\n",
              "      <td>38.0</td>\n",
              "      <td>2447.0</td>\n",
              "      <td>636.0</td>\n",
              "      <td>1312.0</td>\n",
              "      <td>574.0</td>\n",
              "      <td>3.5909</td>\n",
              "      <td>1</td>\n",
              "    </tr>\n",
              "    <tr>\n",
              "      <th>15743</th>\n",
              "      <td>-122.43</td>\n",
              "      <td>37.78</td>\n",
              "      <td>29.0</td>\n",
              "      <td>1310.0</td>\n",
              "      <td>364.0</td>\n",
              "      <td>1009.0</td>\n",
              "      <td>379.0</td>\n",
              "      <td>1.3844</td>\n",
              "      <td>2</td>\n",
              "    </tr>\n",
              "    <tr>\n",
              "      <th>10911</th>\n",
              "      <td>-117.86</td>\n",
              "      <td>33.73</td>\n",
              "      <td>23.0</td>\n",
              "      <td>407.0</td>\n",
              "      <td>108.0</td>\n",
              "      <td>647.0</td>\n",
              "      <td>96.0</td>\n",
              "      <td>3.7750</td>\n",
              "      <td>1</td>\n",
              "    </tr>\n",
              "    <tr>\n",
              "      <th>17694</th>\n",
              "      <td>-121.82</td>\n",
              "      <td>37.28</td>\n",
              "      <td>33.0</td>\n",
              "      <td>2873.0</td>\n",
              "      <td>489.0</td>\n",
              "      <td>1946.0</td>\n",
              "      <td>475.0</td>\n",
              "      <td>5.0709</td>\n",
              "      <td>1</td>\n",
              "    </tr>\n",
              "    <tr>\n",
              "      <th>7675</th>\n",
              "      <td>-118.09</td>\n",
              "      <td>33.92</td>\n",
              "      <td>36.0</td>\n",
              "      <td>847.0</td>\n",
              "      <td>185.0</td>\n",
              "      <td>713.0</td>\n",
              "      <td>194.0</td>\n",
              "      <td>4.8542</td>\n",
              "      <td>1</td>\n",
              "    </tr>\n",
              "    <tr>\n",
              "      <th>8563</th>\n",
              "      <td>-118.41</td>\n",
              "      <td>33.92</td>\n",
              "      <td>29.0</td>\n",
              "      <td>1436.0</td>\n",
              "      <td>401.0</td>\n",
              "      <td>674.0</td>\n",
              "      <td>343.0</td>\n",
              "      <td>3.6389</td>\n",
              "      <td>1</td>\n",
              "    </tr>\n",
              "    <tr>\n",
              "      <th>15609</th>\n",
              "      <td>-116.91</td>\n",
              "      <td>32.73</td>\n",
              "      <td>8.0</td>\n",
              "      <td>4630.0</td>\n",
              "      <td>624.0</td>\n",
              "      <td>2048.0</td>\n",
              "      <td>575.0</td>\n",
              "      <td>6.4745</td>\n",
              "      <td>1</td>\n",
              "    </tr>\n",
              "  </tbody>\n",
              "</table>\n",
              "</div>\n",
              "      <button class=\"colab-df-convert\" onclick=\"convertToInteractive('df-b28798dc-b5b7-4cca-894a-cc3c0cfcce31')\"\n",
              "              title=\"Convert this dataframe to an interactive table.\"\n",
              "              style=\"display:none;\">\n",
              "        \n",
              "  <svg xmlns=\"http://www.w3.org/2000/svg\" height=\"24px\"viewBox=\"0 0 24 24\"\n",
              "       width=\"24px\">\n",
              "    <path d=\"M0 0h24v24H0V0z\" fill=\"none\"/>\n",
              "    <path d=\"M18.56 5.44l.94 2.06.94-2.06 2.06-.94-2.06-.94-.94-2.06-.94 2.06-2.06.94zm-11 1L8.5 8.5l.94-2.06 2.06-.94-2.06-.94L8.5 2.5l-.94 2.06-2.06.94zm10 10l.94 2.06.94-2.06 2.06-.94-2.06-.94-.94-2.06-.94 2.06-2.06.94z\"/><path d=\"M17.41 7.96l-1.37-1.37c-.4-.4-.92-.59-1.43-.59-.52 0-1.04.2-1.43.59L10.3 9.45l-7.72 7.72c-.78.78-.78 2.05 0 2.83L4 21.41c.39.39.9.59 1.41.59.51 0 1.02-.2 1.41-.59l7.78-7.78 2.81-2.81c.8-.78.8-2.07 0-2.86zM5.41 20L4 18.59l7.72-7.72 1.47 1.35L5.41 20z\"/>\n",
              "  </svg>\n",
              "      </button>\n",
              "      \n",
              "  <style>\n",
              "    .colab-df-container {\n",
              "      display:flex;\n",
              "      flex-wrap:wrap;\n",
              "      gap: 12px;\n",
              "    }\n",
              "\n",
              "    .colab-df-convert {\n",
              "      background-color: #E8F0FE;\n",
              "      border: none;\n",
              "      border-radius: 50%;\n",
              "      cursor: pointer;\n",
              "      display: none;\n",
              "      fill: #1967D2;\n",
              "      height: 32px;\n",
              "      padding: 0 0 0 0;\n",
              "      width: 32px;\n",
              "    }\n",
              "\n",
              "    .colab-df-convert:hover {\n",
              "      background-color: #E2EBFA;\n",
              "      box-shadow: 0px 1px 2px rgba(60, 64, 67, 0.3), 0px 1px 3px 1px rgba(60, 64, 67, 0.15);\n",
              "      fill: #174EA6;\n",
              "    }\n",
              "\n",
              "    [theme=dark] .colab-df-convert {\n",
              "      background-color: #3B4455;\n",
              "      fill: #D2E3FC;\n",
              "    }\n",
              "\n",
              "    [theme=dark] .colab-df-convert:hover {\n",
              "      background-color: #434B5C;\n",
              "      box-shadow: 0px 1px 3px 1px rgba(0, 0, 0, 0.15);\n",
              "      filter: drop-shadow(0px 1px 2px rgba(0, 0, 0, 0.3));\n",
              "      fill: #FFFFFF;\n",
              "    }\n",
              "  </style>\n",
              "\n",
              "      <script>\n",
              "        const buttonEl =\n",
              "          document.querySelector('#df-b28798dc-b5b7-4cca-894a-cc3c0cfcce31 button.colab-df-convert');\n",
              "        buttonEl.style.display =\n",
              "          google.colab.kernel.accessAllowed ? 'block' : 'none';\n",
              "\n",
              "        async function convertToInteractive(key) {\n",
              "          const element = document.querySelector('#df-b28798dc-b5b7-4cca-894a-cc3c0cfcce31');\n",
              "          const dataTable =\n",
              "            await google.colab.kernel.invokeFunction('convertToInteractive',\n",
              "                                                     [key], {});\n",
              "          if (!dataTable) return;\n",
              "\n",
              "          const docLinkHtml = 'Like what you see? Visit the ' +\n",
              "            '<a target=\"_blank\" href=https://colab.research.google.com/notebooks/data_table.ipynb>data table notebook</a>'\n",
              "            + ' to learn more about interactive tables.';\n",
              "          element.innerHTML = '';\n",
              "          dataTable['output_type'] = 'display_data';\n",
              "          await google.colab.output.renderOutput(dataTable, element);\n",
              "          const docLink = document.createElement('div');\n",
              "          docLink.innerHTML = docLinkHtml;\n",
              "          element.appendChild(docLink);\n",
              "        }\n",
              "      </script>\n",
              "    </div>\n",
              "  </div>\n",
              "  "
            ]
          },
          "metadata": {},
          "execution_count": 102
        }
      ]
    },
    {
      "cell_type": "code",
      "source": [
        "X.shape"
      ],
      "metadata": {
        "id": "ATQubf0xM1tL",
        "colab": {
          "base_uri": "https://localhost:8080/"
        },
        "outputId": "832bf8e6-8077-46e4-b2a3-75bb023b3939"
      },
      "execution_count": null,
      "outputs": [
        {
          "output_type": "execute_result",
          "data": {
            "text/plain": [
              "(19673, 9)"
            ]
          },
          "metadata": {},
          "execution_count": 103
        }
      ]
    },
    {
      "cell_type": "code",
      "source": [
        "y.head(10)"
      ],
      "metadata": {
        "id": "DxZBEbs-M1pc",
        "colab": {
          "base_uri": "https://localhost:8080/"
        },
        "outputId": "b0e06b4f-1cc1-4e4c-c29b-00eb55e31388"
      },
      "execution_count": null,
      "outputs": [
        {
          "output_type": "execute_result",
          "data": {
            "text/plain": [
              "14158    155400.0\n",
              "15498    237400.0\n",
              "1588     351300.0\n",
              "8954     279400.0\n",
              "15743    177500.0\n",
              "10911    177400.0\n",
              "17694    176400.0\n",
              "7675     167400.0\n",
              "8563     275000.0\n",
              "15609    300300.0\n",
              "Name: median_house_value, dtype: float64"
            ]
          },
          "metadata": {},
          "execution_count": 104
        }
      ]
    },
    {
      "cell_type": "code",
      "source": [
        "y.shape"
      ],
      "metadata": {
        "id": "ThprsPuvM1iq",
        "colab": {
          "base_uri": "https://localhost:8080/"
        },
        "outputId": "e44cc26d-66b5-452c-8ad6-07aca543a246"
      },
      "execution_count": null,
      "outputs": [
        {
          "output_type": "execute_result",
          "data": {
            "text/plain": [
              "(19673,)"
            ]
          },
          "metadata": {},
          "execution_count": 105
        }
      ]
    },
    {
      "cell_type": "markdown",
      "source": [],
      "metadata": {
        "id": "IRrFlZQbXXHz"
      }
    },
    {
      "cell_type": "code",
      "source": [
        "from sklearn.model_selection import train_test_split\n",
        "X_train, X_test, y_train, y_test = train_test_split(X, y, train_size=0.6)"
      ],
      "metadata": {
        "id": "yCwtMvj_M1fP"
      },
      "execution_count": null,
      "outputs": []
    },
    {
      "cell_type": "code",
      "source": [
        "print(\"X_train shape is \",X_train.shape)\n",
        "print(\"X_test shape is \",X_test.shape)\n",
        "print(\"y_train shape is \",y_train.shape)\n",
        "print(\"y_test shape is \",y_test.shape)"
      ],
      "metadata": {
        "id": "CiD-yimOM1cA",
        "colab": {
          "base_uri": "https://localhost:8080/"
        },
        "outputId": "6a8832fc-013f-45c8-db68-8f0d166f3c29"
      },
      "execution_count": null,
      "outputs": [
        {
          "output_type": "stream",
          "name": "stdout",
          "text": [
            "X_train shape is  (11803, 9)\n",
            "X_test shape is  (7870, 9)\n",
            "y_train shape is  (11803,)\n",
            "y_test shape is  (7870,)\n"
          ]
        }
      ]
    },
    {
      "cell_type": "markdown",
      "source": [],
      "metadata": {
        "id": "WJOy8JI_XYiy"
      }
    },
    {
      "cell_type": "code",
      "source": [
        "#Using this class to make my print statement look bold\n",
        "class color:\n",
        "    BOLD = '\\033[1m'"
      ],
      "metadata": {
        "id": "6_KpRxDWM1Yu"
      },
      "execution_count": null,
      "outputs": []
    },
    {
      "cell_type": "markdown",
      "source": [
        "1. Random Forest Regressor"
      ],
      "metadata": {
        "id": "743m9zrdXaly"
      }
    },
    {
      "cell_type": "code",
      "source": [
        "from sklearn.ensemble import RandomForestRegressor\n",
        "from sklearn import metrics\n",
        "from sklearn.metrics import r2_score\n",
        "from sklearn.metrics import accuracy_score\n",
        "from sklearn.metrics import mean_squared_error\n",
        "import numpy as np\n",
        "\n",
        "rf = RandomForestRegressor(random_state=0)\n",
        "rf.fit(X_train, y_train)\n",
        "\n",
        "y_pred = rf.predict(X_test)\n",
        "\n",
        "accuracies = {}\n",
        "\n",
        "accuracy = rf.score(X_test, y_test)\n",
        "accuracy_rounded = round(accuracy*100,2)\n",
        "accuracies['Random Forest'] = accuracy_rounded\n",
        "\n",
        "r2 = metrics.r2_score(y_test, y_pred)\n",
        "Adj_r2 = 1-(1-r2)*(9-1)/(9-1-1)\n",
        "\n",
        "print(color.BOLD + '\\nR2 score is ',r2)\n",
        "\n",
        "print(color.BOLD + '\\nAdjusted R2 score is ',Adj_r2)\n",
        "\n",
        "print(color.BOLD + '\\nMean Absolute Error is',round(metrics.mean_absolute_error(y_test,rf.predict(X_test)),2))\n",
        "\n",
        "print(color.BOLD + '\\nMean Squared Error is',round(metrics.mean_squared_error(y_test,rf.predict(X_test)),2))\n",
        "\n",
        "print(color.BOLD + '\\nRoot Mean Squared Error is',round(np.sqrt(mean_squared_error(y_test,rf.predict(X_test))),2))\n",
        "\n",
        "print(color.BOLD + \"\\nAccuracy of Random Forest Regressor is \", accuracy_rounded,'%')\n"
      ],
      "metadata": {
        "id": "xnbhwz4jM1VV",
        "colab": {
          "base_uri": "https://localhost:8080/"
        },
        "outputId": "2d46be33-69ab-476c-b3a9-6ef0dbc4c28f"
      },
      "execution_count": null,
      "outputs": [
        {
          "output_type": "stream",
          "name": "stdout",
          "text": [
            "\u001b[1m\n",
            "R2 score is  0.7839406894517529\n",
            "\u001b[1m\n",
            "Adjusted R2 score is  0.7530750736591462\n",
            "\u001b[1m\n",
            "Mean Absolute Error is 30783.18\n",
            "\u001b[1m\n",
            "Mean Squared Error is 2067123180.37\n",
            "\u001b[1m\n",
            "Root Mean Squared Error is 45465.63\n",
            "\u001b[1m\n",
            "Accuracy of Random Forest Regressor is  78.39 %\n"
          ]
        }
      ]
    },
    {
      "cell_type": "markdown",
      "source": [
        "2. Decision Tree Regressor"
      ],
      "metadata": {
        "id": "wCN7ZNrFXhKo"
      }
    },
    {
      "cell_type": "code",
      "source": [
        "from sklearn.tree import DecisionTreeRegressor\n",
        "\n",
        "dt = DecisionTreeRegressor(random_state=42)\n",
        "dt.fit(X_train,y_train)\n",
        "\n",
        "y_pred = dt.predict(X_test)\n",
        "\n",
        "accuracy = dt.score(X_test, y_test)\n",
        "accuracy_rounded = round(accuracy*100,2)\n",
        "accuracies['Decision Tree'] = accuracy_rounded\n",
        "\n",
        "r2 = metrics.r2_score(y_test, y_pred)\n",
        "Adj_r2 = 1-(1-r2)*(9-1)/(9-1-1)\n",
        "\n",
        "print(color.BOLD + '\\nR2 score is ',r2)\n",
        "\n",
        "print(color.BOLD + '\\nAdjusted R2 score is ',Adj_r2)\n",
        "\n",
        "print(color.BOLD + '\\nMean Absolute Error is',round(metrics.mean_absolute_error(y_test,dt.predict(X_test)),2))\n",
        "\n",
        "print(color.BOLD + '\\nMean Squared Error is',round(metrics.mean_squared_error(y_test,dt.predict(X_test)),2))\n",
        "\n",
        "print(color.BOLD + '\\nRoot Mean Squared Error is',round(np.sqrt(metrics.mean_squared_error(y_test,dt.predict(X_test))),2))\n",
        "\n",
        "print(color.BOLD + \"\\nAccuracy of Decision Tree Regressor is \", accuracy_rounded,'%')"
      ],
      "metadata": {
        "id": "5uKBwspGM1Rn",
        "colab": {
          "base_uri": "https://localhost:8080/"
        },
        "outputId": "a8315526-c2c9-477d-e001-879775fca53d"
      },
      "execution_count": null,
      "outputs": [
        {
          "output_type": "stream",
          "name": "stdout",
          "text": [
            "\u001b[1m\n",
            "R2 score is  0.5605692360859238\n",
            "\u001b[1m\n",
            "Adjusted R2 score is  0.4977934126696272\n",
            "\u001b[1m\n",
            "Mean Absolute Error is 42995.26\n",
            "\u001b[1m\n",
            "Mean Squared Error is 4204204465.67\n",
            "\u001b[1m\n",
            "Root Mean Squared Error is 64839.84\n",
            "\u001b[1m\n",
            "Accuracy of Decision Tree Regressor is  56.06 %\n"
          ]
        }
      ]
    },
    {
      "cell_type": "markdown",
      "source": [
        "3. AdaBoost Regressor"
      ],
      "metadata": {
        "id": "YYGvGagAXj7r"
      }
    },
    {
      "cell_type": "code",
      "source": [
        "from sklearn.ensemble import AdaBoostRegressor\n",
        "\n",
        "ada = AdaBoostRegressor(random_state=0)\n",
        "\n",
        "ada.fit(X_train,y_train)\n",
        "\n",
        "y_pred = ada.predict(X_test)\n",
        "\n",
        "accuracy = ada.score(X_test, y_test)\n",
        "accuracy_rounded = round(accuracy*100,2)\n",
        "accuracies['AdaBoost'] = accuracy_rounded\n",
        "\n",
        "r2 = metrics.r2_score(y_test, y_pred)\n",
        "Adj_r2 = 1-(1-r2)*(9-1)/(9-1-1)\n",
        "\n",
        "print(color.BOLD + '\\nR2 score is ',r2)\n",
        "\n",
        "print(color.BOLD + '\\nAdjusted R2 score is ',Adj_r2)\n",
        "\n",
        "print(color.BOLD + '\\nMean Absolute Error is',round(metrics.mean_absolute_error(y_test,ada.predict(X_test)),2))\n",
        "\n",
        "print(color.BOLD + '\\nMean Squared Error is',round(metrics.mean_squared_error(y_test,ada.predict(X_test)),2))\n",
        "\n",
        "print(color.BOLD + '\\nRoot Mean Squared Error is',round(np.sqrt(mean_squared_error(y_test,ada.predict(X_test))),2))\n",
        "\n",
        "print(color.BOLD + \"\\nAccuracy of AdaBoost Regressor is \", accuracy_rounded,'%')\n"
      ],
      "metadata": {
        "id": "kX8fW3CsNRK2",
        "colab": {
          "base_uri": "https://localhost:8080/"
        },
        "outputId": "b03b65c7-b9b7-44e3-f853-d475e4879a8d"
      },
      "execution_count": null,
      "outputs": [
        {
          "output_type": "stream",
          "name": "stdout",
          "text": [
            "\u001b[1m\n",
            "R2 score is  0.4472982253941217\n",
            "\u001b[1m\n",
            "Adjusted R2 score is  0.3683408290218534\n",
            "\u001b[1m\n",
            "Mean Absolute Error is 60047.61\n",
            "\u001b[1m\n",
            "Mean Squared Error is 5287912134.97\n",
            "\u001b[1m\n",
            "Root Mean Squared Error is 72718.03\n",
            "\u001b[1m\n",
            "Accuracy of AdaBoost Regressor is  44.73 %\n"
          ]
        }
      ]
    },
    {
      "cell_type": "markdown",
      "source": [
        "4. XGBoost Regressor\n",
        "\n"
      ],
      "metadata": {
        "id": "HP55GnsKXnGr"
      }
    },
    {
      "cell_type": "code",
      "source": [
        "from xgboost import XGBRegressor\n",
        "from sklearn.metrics import accuracy_score\n",
        "\n",
        "xg = XGBRegressor()\n",
        "xg.fit(X_train,y_train)\n",
        "\n",
        "y_pred = xg.predict(X_test)\n",
        "\n",
        "accuracy = xg.score(X_test, y_test)\n",
        "accuracy_rounded = round(accuracy*100,2)\n",
        "accuracies['XGBoost'] = accuracy_rounded\n",
        "\n",
        "r2 = metrics.r2_score(y_test, y_pred)\n",
        "Adj_r2 = 1-(1-r2)*(9-1)/(9-1-1)\n",
        "\n",
        "print(color.BOLD + '\\nR2 score is ',r2)\n",
        "\n",
        "print(color.BOLD + '\\nAdjusted R2 score is ',Adj_r2)\n",
        "\n",
        "print(color.BOLD + '\\nMean Absolute Error is',round(metrics.mean_absolute_error(y_test,xg.predict(X_test)),2))\n",
        "\n",
        "print(color.BOLD + '\\nMean Squared Error is',round(metrics.mean_squared_error(y_test,xg.predict(X_test)),2))\n",
        "\n",
        "print(color.BOLD + '\\nRoot Mean Squared Error is',round(np.sqrt(mean_squared_error(y_test,xg.predict(X_test))),2))\n",
        "\n",
        "print(color.BOLD + \"\\nAccuracy of XGBoost Regressor is \", accuracy_rounded,'%')\n"
      ],
      "metadata": {
        "id": "pTk-G3K5NRHo",
        "colab": {
          "base_uri": "https://localhost:8080/"
        },
        "outputId": "3cd8eacc-f4a2-4f99-eed8-4623aa8f4297"
      },
      "execution_count": null,
      "outputs": [
        {
          "output_type": "stream",
          "name": "stdout",
          "text": [
            "[22:33:41] WARNING: /workspace/src/objective/regression_obj.cu:152: reg:linear is now deprecated in favor of reg:squarederror.\n",
            "\u001b[1m\n",
            "R2 score is  0.7310758519408322\n",
            "\u001b[1m\n",
            "Adjusted R2 score is  0.6926581165038083\n",
            "\u001b[1m\n",
            "Mean Absolute Error is 36036.84\n",
            "\u001b[1m\n",
            "Mean Squared Error is 2572901574.13\n",
            "\u001b[1m\n",
            "Root Mean Squared Error is 50723.78\n",
            "\u001b[1m\n",
            "Accuracy of XGBoost Regressor is  73.11 %\n"
          ]
        }
      ]
    },
    {
      "cell_type": "markdown",
      "source": [
        "5. Gradient Boost Regressor"
      ],
      "metadata": {
        "id": "yinGa2M6XrNa"
      }
    },
    {
      "cell_type": "code",
      "source": [
        "from sklearn.ensemble import GradientBoostingRegressor\n",
        "\n",
        "gboost = GradientBoostingRegressor(random_state=42)\n",
        "\n",
        "gboost.fit(X_train,y_train)\n",
        "\n",
        "y_pred = gboost.predict(X_test)\n",
        "\n",
        "accuracy = gboost.score(X_test, y_test)\n",
        "accuracy_rounded = round(accuracy*100,2)\n",
        "accuracies['Gradient Boost'] = accuracy_rounded\n",
        "\n",
        "r2 = metrics.r2_score(y_test, y_pred)\n",
        "Adj_r2 = 1-(1-r2)*(9-1)/(9-1-1)\n",
        "\n",
        "print(color.BOLD + '\\nR2 score is ',r2)\n",
        "\n",
        "print(color.BOLD + '\\nAdjusted R2 score is ',Adj_r2)\n",
        "\n",
        "print(color.BOLD + '\\nMean Absolute Error is',round(metrics.mean_absolute_error(y_test,gboost.predict(X_test)),2))\n",
        "\n",
        "print(color.BOLD + '\\nMean Squared Error is',round(metrics.mean_squared_error(y_test,gboost.predict(X_test)),2))\n",
        "\n",
        "print(color.BOLD + '\\nRoot Mean Squared Error is',round(np.sqrt(mean_squared_error(y_test,gboost.predict(X_test))),2))\n",
        "\n",
        "print(color.BOLD + \"\\nAccuracy of Gradient Boost Regressor is \", accuracy_rounded,'%')"
      ],
      "metadata": {
        "id": "Nf1xf3nkNREm",
        "colab": {
          "base_uri": "https://localhost:8080/"
        },
        "outputId": "2bc7ce5a-1dd0-454b-8fb2-b803f76f9442"
      },
      "execution_count": null,
      "outputs": [
        {
          "output_type": "stream",
          "name": "stdout",
          "text": [
            "\u001b[1m\n",
            "R2 score is  0.727464621442433\n",
            "\u001b[1m\n",
            "Adjusted R2 score is  0.6885309959342091\n",
            "\u001b[1m\n",
            "Mean Absolute Error is 36319.19\n",
            "\u001b[1m\n",
            "Mean Squared Error is 2607451616.22\n",
            "\u001b[1m\n",
            "Root Mean Squared Error is 51063.21\n",
            "\u001b[1m\n",
            "Accuracy of Gradient Boost Regressor is  72.75 %\n"
          ]
        }
      ]
    },
    {
      "cell_type": "markdown",
      "source": [
        "6. Ridge Regression"
      ],
      "metadata": {
        "id": "NEZpKF8LXsyM"
      }
    },
    {
      "cell_type": "code",
      "source": [
        "from sklearn.linear_model import Ridge\n",
        "\n",
        "rid = Ridge(alpha=0.1)\n",
        "\n",
        "rid.fit(X_train,y_train)\n",
        "\n",
        "y_pred = rid.predict(X_test)\n",
        "\n",
        "accuracy = rid.score(X_test, y_test)\n",
        "accuracy_rounded = round(accuracy*100,2)\n",
        "accuracies['Ridge Regression'] = accuracy_rounded\n",
        "\n",
        "r2 = metrics.r2_score(y_test, y_pred)\n",
        "Adj_r2 = 1-(1-r2)*(9-1)/(9-1-1)\n",
        "\n",
        "print(color.BOLD + '\\nR2 score is ',r2)\n",
        "\n",
        "print(color.BOLD + '\\nAdjusted R2 score is ',Adj_r2)\n",
        "\n",
        "print(color.BOLD + '\\nMean Absolute Error is',round(metrics.mean_absolute_error(y_test,rid.predict(X_test)),2))\n",
        "\n",
        "print(color.BOLD + '\\nMean Squared Error is',round(metrics.mean_squared_error(y_test,rid.predict(X_test)),2))\n",
        "\n",
        "print(color.BOLD + '\\nRoot Mean Squared Error is',round(np.sqrt(mean_squared_error(y_test,rid.predict(X_test))),2))\n",
        "\n",
        "print(color.BOLD + \"\\nAccuracy of Ridge Regression is \", accuracy_rounded,'%')"
      ],
      "metadata": {
        "id": "1OFPexx0NRBP",
        "colab": {
          "base_uri": "https://localhost:8080/"
        },
        "outputId": "78b649b8-cce8-43fa-f406-313d4d5c8da2"
      },
      "execution_count": null,
      "outputs": [
        {
          "output_type": "stream",
          "name": "stdout",
          "text": [
            "\u001b[1m\n",
            "R2 score is  0.6121640531057293\n",
            "\u001b[1m\n",
            "Adjusted R2 score is  0.5567589178351192\n",
            "\u001b[1m\n",
            "Mean Absolute Error is 45025.82\n",
            "\u001b[1m\n",
            "Mean Squared Error is 3710576850.28\n",
            "\u001b[1m\n",
            "Root Mean Squared Error is 60914.5\n",
            "\u001b[1m\n",
            "Accuracy of Ridge Regression is  61.22 %\n"
          ]
        }
      ]
    },
    {
      "cell_type": "markdown",
      "source": [
        "7. Lasso Regression"
      ],
      "metadata": {
        "id": "XEhKe1ZfXx4I"
      }
    },
    {
      "cell_type": "code",
      "source": [
        "from sklearn import linear_model\n",
        "\n",
        "lasso = linear_model.Lasso(alpha=0.3)\n",
        "\n",
        "lasso.fit(X_train,y_train)\n",
        "\n",
        "y_pred = lasso.predict(X_test)\n",
        "\n",
        "accuracy = lasso.score(X_test, y_test)\n",
        "accuracy_rounded = round(accuracy*100,2)\n",
        "accuracies['Lasso Regression'] = accuracy_rounded\n",
        "\n",
        "r2 = metrics.r2_score(y_test, y_pred)\n",
        "Adj_r2 = 1-(1-r2)*(9-1)/(9-1-1)\n",
        "\n",
        "print(color.BOLD + '\\nR2 score is ',r2)\n",
        "\n",
        "print(color.BOLD + '\\nAdjusted R2 score is ',Adj_r2)\n",
        "\n",
        "print(color.BOLD + '\\nMean Absolute Error is',round(metrics.mean_absolute_error(y_test,lasso.predict(X_test)),2))\n",
        "\n",
        "print(color.BOLD + '\\nMean Squared Error is',round(metrics.mean_squared_error(y_test,lasso.predict(X_test)),2))\n",
        "\n",
        "print(color.BOLD + '\\nRoot Mean Squared Error is',round(np.sqrt(mean_squared_error(y_test,lasso.predict(X_test))),2))\n",
        "\n",
        "print(color.BOLD + \"\\nAccuracy of Lasso Regression is \", accuracy_rounded,'%')"
      ],
      "metadata": {
        "id": "A2verUpYNQ-g",
        "colab": {
          "base_uri": "https://localhost:8080/"
        },
        "outputId": "58577e39-a8b9-4802-8367-d17b533d37d7"
      },
      "execution_count": null,
      "outputs": [
        {
          "output_type": "stream",
          "name": "stdout",
          "text": [
            "\u001b[1m\n",
            "R2 score is  0.6121641059115139\n",
            "\u001b[1m\n",
            "Adjusted R2 score is  0.5567589781845874\n",
            "\u001b[1m\n",
            "Mean Absolute Error is 45025.82\n",
            "\u001b[1m\n",
            "Mean Squared Error is 3710576345.06\n",
            "\u001b[1m\n",
            "Root Mean Squared Error is 60914.5\n",
            "\u001b[1m\n",
            "Accuracy of Lasso Regression is  61.22 %\n"
          ]
        }
      ]
    },
    {
      "cell_type": "markdown",
      "source": [
        "8. ElasticNet Regression"
      ],
      "metadata": {
        "id": "gOUXNJOCXzzD"
      }
    },
    {
      "cell_type": "code",
      "source": [
        "from sklearn.linear_model import ElasticNet\n",
        "\n",
        "ela = ElasticNet(random_state=0)\n",
        "\n",
        "ela.fit(X_train,y_train)\n",
        "\n",
        "y_pred = ela.predict(X_test)\n",
        "\n",
        "accuracy = ela.score(X_test, y_test)\n",
        "accuracy_rounded = round(accuracy*100,2)\n",
        "accuracies['Elastic Net Regression'] = accuracy_rounded\n",
        "\n",
        "r2 = metrics.r2_score(y_test, y_pred)\n",
        "Adj_r2 = 1-(1-r2)*(9-1)/(9-1-1)\n",
        "\n",
        "print(color.BOLD + '\\nR2 score is ',r2)\n",
        "\n",
        "print(color.BOLD + '\\nAdjusted R2 score is ',Adj_r2)\n",
        "\n",
        "print(color.BOLD + '\\nMean Absolute Error is',round(metrics.mean_absolute_error(y_test,ela.predict(X_test)),2))\n",
        "\n",
        "print(color.BOLD + '\\nMean Squared Error is',round(metrics.mean_squared_error(y_test,ela.predict(X_test)),2))\n",
        "\n",
        "print(color.BOLD + '\\nRoot Mean Squared Error is',round(np.sqrt(mean_squared_error(y_test,ela.predict(X_test))),2))\n",
        "\n",
        "print(color.BOLD + \"\\nAccuracy of Elastic net Regression is \", accuracy_rounded,'%')\n"
      ],
      "metadata": {
        "id": "H5rnSvqqNQ7H",
        "colab": {
          "base_uri": "https://localhost:8080/"
        },
        "outputId": "6b176915-d000-42c5-d16c-cada335a6825"
      },
      "execution_count": null,
      "outputs": [
        {
          "output_type": "stream",
          "name": "stdout",
          "text": [
            "\u001b[1m\n",
            "R2 score is  0.5851183331735655\n",
            "\u001b[1m\n",
            "Adjusted R2 score is  0.525849523626932\n",
            "\u001b[1m\n",
            "Mean Absolute Error is 47107.59\n",
            "\u001b[1m\n",
            "Mean Squared Error is 3969333737.26\n",
            "\u001b[1m\n",
            "Root Mean Squared Error is 63002.65\n",
            "\u001b[1m\n",
            "Accuracy of Elastic net Regression is  58.51 %\n"
          ]
        }
      ]
    },
    {
      "cell_type": "markdown",
      "source": [
        "9. CatBoost"
      ],
      "metadata": {
        "id": "-ARc8ufuX24H"
      }
    },
    {
      "cell_type": "code",
      "source": [
        "!pip install catboost"
      ],
      "metadata": {
        "id": "oqeuRmprNQ3_",
        "colab": {
          "base_uri": "https://localhost:8080/"
        },
        "outputId": "88ead422-11a7-41a6-8427-34b9c81055c9"
      },
      "execution_count": null,
      "outputs": [
        {
          "output_type": "stream",
          "name": "stdout",
          "text": [
            "Looking in indexes: https://pypi.org/simple, https://us-python.pkg.dev/colab-wheels/public/simple/\n",
            "Requirement already satisfied: catboost in /usr/local/lib/python3.7/dist-packages (1.1.1)\n",
            "Requirement already satisfied: plotly in /usr/local/lib/python3.7/dist-packages (from catboost) (5.5.0)\n",
            "Requirement already satisfied: graphviz in /usr/local/lib/python3.7/dist-packages (from catboost) (0.10.1)\n",
            "Requirement already satisfied: scipy in /usr/local/lib/python3.7/dist-packages (from catboost) (1.7.3)\n",
            "Requirement already satisfied: six in /usr/local/lib/python3.7/dist-packages (from catboost) (1.15.0)\n",
            "Requirement already satisfied: matplotlib in /usr/local/lib/python3.7/dist-packages (from catboost) (3.2.2)\n",
            "Requirement already satisfied: pandas>=0.24.0 in /usr/local/lib/python3.7/dist-packages (from catboost) (1.3.5)\n",
            "Requirement already satisfied: numpy>=1.16.0 in /usr/local/lib/python3.7/dist-packages (from catboost) (1.21.6)\n",
            "Requirement already satisfied: python-dateutil>=2.7.3 in /usr/local/lib/python3.7/dist-packages (from pandas>=0.24.0->catboost) (2.8.2)\n",
            "Requirement already satisfied: pytz>=2017.3 in /usr/local/lib/python3.7/dist-packages (from pandas>=0.24.0->catboost) (2022.6)\n",
            "Requirement already satisfied: cycler>=0.10 in /usr/local/lib/python3.7/dist-packages (from matplotlib->catboost) (0.11.0)\n",
            "Requirement already satisfied: kiwisolver>=1.0.1 in /usr/local/lib/python3.7/dist-packages (from matplotlib->catboost) (1.4.4)\n",
            "Requirement already satisfied: pyparsing!=2.0.4,!=2.1.2,!=2.1.6,>=2.0.1 in /usr/local/lib/python3.7/dist-packages (from matplotlib->catboost) (3.0.9)\n",
            "Requirement already satisfied: typing-extensions in /usr/local/lib/python3.7/dist-packages (from kiwisolver>=1.0.1->matplotlib->catboost) (4.1.1)\n",
            "Requirement already satisfied: tenacity>=6.2.0 in /usr/local/lib/python3.7/dist-packages (from plotly->catboost) (8.1.0)\n"
          ]
        }
      ]
    },
    {
      "cell_type": "code",
      "source": [
        "from catboost import CatBoostRegressor\n",
        "\n",
        "cat = CatBoostRegressor()\n",
        "\n",
        "cat.fit(X_train,y_train)\n",
        "\n",
        "y_pred = cat.predict(X_test)\n",
        "\n",
        "accuracy = cat.score(X_test, y_test)\n",
        "accuracy_rounded = round(accuracy*100,2)\n",
        "accuracies['CatBoost'] = accuracy_rounded\n",
        "\n",
        "r2 = metrics.r2_score(y_test, y_pred)\n",
        "Adj_r2 = 1-(1-r2)*(9-1)/(9-1-1)\n",
        "\n",
        "print(color.BOLD + '\\nR2 score is ',r2)\n",
        "\n",
        "print(color.BOLD + '\\nAdjusted R2 score is ',Adj_r2)\n",
        "\n",
        "print(color.BOLD + '\\nMean Absolute Error is',round(metrics.mean_absolute_error(y_test,cat.predict(X_test)),2))\n",
        "\n",
        "print(color.BOLD + '\\nMean Squared Error is',round(metrics.mean_squared_error(y_test,cat.predict(X_test)),2))\n",
        "\n",
        "print(color.BOLD + '\\nRoot Mean Squared Error is',round(np.sqrt(mean_squared_error(y_test,cat.predict(X_test))),2))\n",
        "\n",
        "print(color.BOLD + \"\\nAccuracy of CatBoost is \", accuracy_rounded,'%')\n"
      ],
      "metadata": {
        "id": "Ss9wIKHMNQ0e",
        "colab": {
          "base_uri": "https://localhost:8080/"
        },
        "outputId": "bc3286f1-e651-4adb-9f51-f02c451d5b61"
      },
      "execution_count": null,
      "outputs": [
        {
          "output_type": "stream",
          "name": "stdout",
          "text": [
            "Learning rate set to 0.060472\n",
            "0:\tlearn: 94549.6298708\ttotal: 5.29ms\tremaining: 5.29s\n",
            "1:\tlearn: 91665.1448803\ttotal: 9.65ms\tremaining: 4.82s\n",
            "2:\tlearn: 88953.4515685\ttotal: 14ms\tremaining: 4.65s\n",
            "3:\tlearn: 86621.1858803\ttotal: 18ms\tremaining: 4.48s\n",
            "4:\tlearn: 84472.5329334\ttotal: 22.2ms\tremaining: 4.42s\n",
            "5:\tlearn: 82270.2050719\ttotal: 26.4ms\tremaining: 4.37s\n",
            "6:\tlearn: 80336.4593054\ttotal: 30.6ms\tremaining: 4.34s\n",
            "7:\tlearn: 78567.8589258\ttotal: 35ms\tremaining: 4.34s\n",
            "8:\tlearn: 76909.5664899\ttotal: 39.2ms\tremaining: 4.32s\n",
            "9:\tlearn: 75428.1336711\ttotal: 43.5ms\tremaining: 4.31s\n",
            "10:\tlearn: 74053.6467853\ttotal: 47.8ms\tremaining: 4.3s\n",
            "11:\tlearn: 72785.6341868\ttotal: 52.1ms\tremaining: 4.29s\n",
            "12:\tlearn: 71680.4536763\ttotal: 56.3ms\tremaining: 4.27s\n",
            "13:\tlearn: 70613.1596869\ttotal: 60.4ms\tremaining: 4.25s\n",
            "14:\tlearn: 69664.8714086\ttotal: 64.8ms\tremaining: 4.25s\n",
            "15:\tlearn: 68815.0316978\ttotal: 69ms\tremaining: 4.24s\n",
            "16:\tlearn: 68033.8362143\ttotal: 73ms\tremaining: 4.22s\n",
            "17:\tlearn: 67240.8941063\ttotal: 77.1ms\tremaining: 4.21s\n",
            "18:\tlearn: 66533.6399883\ttotal: 81.1ms\tremaining: 4.19s\n",
            "19:\tlearn: 65766.9622126\ttotal: 85.2ms\tremaining: 4.17s\n",
            "20:\tlearn: 65159.4115617\ttotal: 91.1ms\tremaining: 4.25s\n",
            "21:\tlearn: 64590.0689209\ttotal: 97.9ms\tremaining: 4.35s\n",
            "22:\tlearn: 63997.1209512\ttotal: 102ms\tremaining: 4.33s\n",
            "23:\tlearn: 63535.3636324\ttotal: 106ms\tremaining: 4.31s\n",
            "24:\tlearn: 63071.8174504\ttotal: 110ms\tremaining: 4.3s\n",
            "25:\tlearn: 62639.2476945\ttotal: 114ms\tremaining: 4.29s\n",
            "26:\tlearn: 62139.6707476\ttotal: 119ms\tremaining: 4.28s\n",
            "27:\tlearn: 61778.8278567\ttotal: 123ms\tremaining: 4.27s\n",
            "28:\tlearn: 61411.1365430\ttotal: 128ms\tremaining: 4.28s\n",
            "29:\tlearn: 60970.2016489\ttotal: 132ms\tremaining: 4.26s\n",
            "30:\tlearn: 60680.8150045\ttotal: 136ms\tremaining: 4.25s\n",
            "31:\tlearn: 60338.1474035\ttotal: 140ms\tremaining: 4.23s\n",
            "32:\tlearn: 60088.9875334\ttotal: 144ms\tremaining: 4.21s\n",
            "33:\tlearn: 59752.7817974\ttotal: 148ms\tremaining: 4.2s\n",
            "34:\tlearn: 59521.8328456\ttotal: 152ms\tremaining: 4.18s\n",
            "35:\tlearn: 59186.6888795\ttotal: 156ms\tremaining: 4.17s\n",
            "36:\tlearn: 58945.8653520\ttotal: 160ms\tremaining: 4.16s\n",
            "37:\tlearn: 58716.9218674\ttotal: 164ms\tremaining: 4.15s\n",
            "38:\tlearn: 58451.7542015\ttotal: 168ms\tremaining: 4.13s\n",
            "39:\tlearn: 58106.2151432\ttotal: 172ms\tremaining: 4.12s\n",
            "40:\tlearn: 57903.2972356\ttotal: 176ms\tremaining: 4.11s\n",
            "41:\tlearn: 57722.0140051\ttotal: 180ms\tremaining: 4.1s\n",
            "42:\tlearn: 57526.5534209\ttotal: 184ms\tremaining: 4.09s\n",
            "43:\tlearn: 57327.3359135\ttotal: 188ms\tremaining: 4.08s\n",
            "44:\tlearn: 57149.3349736\ttotal: 197ms\tremaining: 4.18s\n",
            "45:\tlearn: 56977.7996884\ttotal: 201ms\tremaining: 4.17s\n",
            "46:\tlearn: 56617.1580763\ttotal: 205ms\tremaining: 4.16s\n",
            "47:\tlearn: 56469.2425134\ttotal: 209ms\tremaining: 4.15s\n",
            "48:\tlearn: 56326.5520677\ttotal: 213ms\tremaining: 4.14s\n",
            "49:\tlearn: 56170.9443656\ttotal: 217ms\tremaining: 4.13s\n",
            "50:\tlearn: 56040.2566202\ttotal: 221ms\tremaining: 4.12s\n",
            "51:\tlearn: 55776.1200525\ttotal: 225ms\tremaining: 4.11s\n",
            "52:\tlearn: 55612.0202748\ttotal: 229ms\tremaining: 4.1s\n",
            "53:\tlearn: 55449.5147615\ttotal: 233ms\tremaining: 4.09s\n",
            "54:\tlearn: 55329.4236653\ttotal: 238ms\tremaining: 4.08s\n",
            "55:\tlearn: 55066.7274345\ttotal: 242ms\tremaining: 4.07s\n",
            "56:\tlearn: 54895.0231658\ttotal: 245ms\tremaining: 4.06s\n",
            "57:\tlearn: 54721.3544566\ttotal: 250ms\tremaining: 4.05s\n",
            "58:\tlearn: 54592.7073948\ttotal: 254ms\tremaining: 4.04s\n",
            "59:\tlearn: 54488.4026433\ttotal: 257ms\tremaining: 4.03s\n",
            "60:\tlearn: 54402.6627357\ttotal: 261ms\tremaining: 4.02s\n",
            "61:\tlearn: 54275.4035539\ttotal: 266ms\tremaining: 4.02s\n",
            "62:\tlearn: 54127.2498521\ttotal: 270ms\tremaining: 4.01s\n",
            "63:\tlearn: 54015.7278328\ttotal: 274ms\tremaining: 4s\n",
            "64:\tlearn: 53944.9047640\ttotal: 277ms\tremaining: 3.99s\n",
            "65:\tlearn: 53777.0238078\ttotal: 281ms\tremaining: 3.98s\n",
            "66:\tlearn: 53698.2255894\ttotal: 285ms\tremaining: 3.97s\n",
            "67:\tlearn: 53610.8534267\ttotal: 289ms\tremaining: 3.96s\n",
            "68:\tlearn: 53496.6257564\ttotal: 293ms\tremaining: 3.96s\n",
            "69:\tlearn: 53328.0076528\ttotal: 304ms\tremaining: 4.04s\n",
            "70:\tlearn: 53227.3390389\ttotal: 308ms\tremaining: 4.03s\n",
            "71:\tlearn: 53145.1846013\ttotal: 312ms\tremaining: 4.03s\n",
            "72:\tlearn: 53076.8864240\ttotal: 316ms\tremaining: 4.02s\n",
            "73:\tlearn: 52976.9033885\ttotal: 321ms\tremaining: 4.01s\n",
            "74:\tlearn: 52907.2752839\ttotal: 324ms\tremaining: 4s\n",
            "75:\tlearn: 52756.6540283\ttotal: 328ms\tremaining: 3.99s\n",
            "76:\tlearn: 52694.2048700\ttotal: 332ms\tremaining: 3.98s\n",
            "77:\tlearn: 52599.9077781\ttotal: 336ms\tremaining: 3.98s\n",
            "78:\tlearn: 52519.3114264\ttotal: 340ms\tremaining: 3.96s\n",
            "79:\tlearn: 52444.7394092\ttotal: 344ms\tremaining: 3.96s\n",
            "80:\tlearn: 52320.6396742\ttotal: 348ms\tremaining: 3.95s\n",
            "81:\tlearn: 52227.2386252\ttotal: 353ms\tremaining: 3.95s\n",
            "82:\tlearn: 52104.4331672\ttotal: 357ms\tremaining: 3.94s\n",
            "83:\tlearn: 52024.8474400\ttotal: 360ms\tremaining: 3.93s\n",
            "84:\tlearn: 51950.3292283\ttotal: 364ms\tremaining: 3.92s\n",
            "85:\tlearn: 51887.8318915\ttotal: 368ms\tremaining: 3.92s\n",
            "86:\tlearn: 51822.0730945\ttotal: 372ms\tremaining: 3.91s\n",
            "87:\tlearn: 51753.5230963\ttotal: 376ms\tremaining: 3.9s\n",
            "88:\tlearn: 51694.4252852\ttotal: 380ms\tremaining: 3.89s\n",
            "89:\tlearn: 51574.2421156\ttotal: 384ms\tremaining: 3.88s\n",
            "90:\tlearn: 51509.6055945\ttotal: 388ms\tremaining: 3.88s\n",
            "91:\tlearn: 51438.6344789\ttotal: 397ms\tremaining: 3.92s\n",
            "92:\tlearn: 51393.3191931\ttotal: 401ms\tremaining: 3.91s\n",
            "93:\tlearn: 51251.0392921\ttotal: 406ms\tremaining: 3.91s\n",
            "94:\tlearn: 51200.9997452\ttotal: 415ms\tremaining: 3.95s\n",
            "95:\tlearn: 51116.2707058\ttotal: 421ms\tremaining: 3.97s\n",
            "96:\tlearn: 51026.9466160\ttotal: 425ms\tremaining: 3.96s\n",
            "97:\tlearn: 50945.4797899\ttotal: 429ms\tremaining: 3.95s\n",
            "98:\tlearn: 50896.0048628\ttotal: 432ms\tremaining: 3.94s\n",
            "99:\tlearn: 50831.6826045\ttotal: 436ms\tremaining: 3.92s\n",
            "100:\tlearn: 50732.8333919\ttotal: 440ms\tremaining: 3.91s\n",
            "101:\tlearn: 50662.0656330\ttotal: 443ms\tremaining: 3.9s\n",
            "102:\tlearn: 50621.1192885\ttotal: 447ms\tremaining: 3.89s\n",
            "103:\tlearn: 50536.1533389\ttotal: 451ms\tremaining: 3.88s\n",
            "104:\tlearn: 50383.0737936\ttotal: 455ms\tremaining: 3.88s\n",
            "105:\tlearn: 50323.1053288\ttotal: 459ms\tremaining: 3.87s\n",
            "106:\tlearn: 50246.5232542\ttotal: 463ms\tremaining: 3.87s\n",
            "107:\tlearn: 50190.4092743\ttotal: 467ms\tremaining: 3.86s\n",
            "108:\tlearn: 50149.3551150\ttotal: 471ms\tremaining: 3.85s\n",
            "109:\tlearn: 50097.5675603\ttotal: 475ms\tremaining: 3.85s\n",
            "110:\tlearn: 50041.8551780\ttotal: 479ms\tremaining: 3.84s\n",
            "111:\tlearn: 49915.5849959\ttotal: 483ms\tremaining: 3.83s\n",
            "112:\tlearn: 49836.7310477\ttotal: 488ms\tremaining: 3.83s\n",
            "113:\tlearn: 49747.9240952\ttotal: 492ms\tremaining: 3.82s\n",
            "114:\tlearn: 49632.4756225\ttotal: 496ms\tremaining: 3.81s\n",
            "115:\tlearn: 49565.7355067\ttotal: 500ms\tremaining: 3.81s\n",
            "116:\tlearn: 49507.4364049\ttotal: 504ms\tremaining: 3.81s\n",
            "117:\tlearn: 49429.3308324\ttotal: 509ms\tremaining: 3.8s\n",
            "118:\tlearn: 49380.7140996\ttotal: 513ms\tremaining: 3.8s\n",
            "119:\tlearn: 49334.0715813\ttotal: 517ms\tremaining: 3.79s\n",
            "120:\tlearn: 49288.9273674\ttotal: 522ms\tremaining: 3.79s\n",
            "121:\tlearn: 49247.9729074\ttotal: 526ms\tremaining: 3.79s\n",
            "122:\tlearn: 49182.3108516\ttotal: 530ms\tremaining: 3.78s\n",
            "123:\tlearn: 49065.3004098\ttotal: 534ms\tremaining: 3.77s\n",
            "124:\tlearn: 48908.7736138\ttotal: 538ms\tremaining: 3.77s\n",
            "125:\tlearn: 48884.0408662\ttotal: 542ms\tremaining: 3.76s\n",
            "126:\tlearn: 48826.2037662\ttotal: 546ms\tremaining: 3.75s\n",
            "127:\tlearn: 48784.5249684\ttotal: 549ms\tremaining: 3.74s\n",
            "128:\tlearn: 48738.0959512\ttotal: 553ms\tremaining: 3.74s\n",
            "129:\tlearn: 48703.5760469\ttotal: 557ms\tremaining: 3.73s\n",
            "130:\tlearn: 48672.7551112\ttotal: 561ms\tremaining: 3.72s\n",
            "131:\tlearn: 48640.9966644\ttotal: 565ms\tremaining: 3.71s\n",
            "132:\tlearn: 48535.8936813\ttotal: 569ms\tremaining: 3.71s\n",
            "133:\tlearn: 48459.9307533\ttotal: 573ms\tremaining: 3.7s\n",
            "134:\tlearn: 48421.1493201\ttotal: 577ms\tremaining: 3.69s\n",
            "135:\tlearn: 48380.9657436\ttotal: 581ms\tremaining: 3.69s\n",
            "136:\tlearn: 48353.4132507\ttotal: 585ms\tremaining: 3.68s\n",
            "137:\tlearn: 48302.8846685\ttotal: 589ms\tremaining: 3.68s\n",
            "138:\tlearn: 48258.0849844\ttotal: 596ms\tremaining: 3.69s\n",
            "139:\tlearn: 48160.8409854\ttotal: 601ms\tremaining: 3.69s\n",
            "140:\tlearn: 48123.7057830\ttotal: 605ms\tremaining: 3.68s\n",
            "141:\tlearn: 48079.6939493\ttotal: 608ms\tremaining: 3.67s\n",
            "142:\tlearn: 48006.5718600\ttotal: 612ms\tremaining: 3.67s\n",
            "143:\tlearn: 47972.9490482\ttotal: 615ms\tremaining: 3.66s\n",
            "144:\tlearn: 47911.5039324\ttotal: 619ms\tremaining: 3.65s\n",
            "145:\tlearn: 47787.3129108\ttotal: 623ms\tremaining: 3.65s\n",
            "146:\tlearn: 47709.3555792\ttotal: 653ms\tremaining: 3.79s\n",
            "147:\tlearn: 47656.3757728\ttotal: 665ms\tremaining: 3.83s\n",
            "148:\tlearn: 47599.8675194\ttotal: 676ms\tremaining: 3.86s\n",
            "149:\tlearn: 47503.4677860\ttotal: 684ms\tremaining: 3.87s\n",
            "150:\tlearn: 47445.6473817\ttotal: 696ms\tremaining: 3.91s\n",
            "151:\tlearn: 47395.7524466\ttotal: 708ms\tremaining: 3.95s\n",
            "152:\tlearn: 47370.4321255\ttotal: 719ms\tremaining: 3.98s\n",
            "153:\tlearn: 47301.5128579\ttotal: 731ms\tremaining: 4.01s\n",
            "154:\tlearn: 47211.2318052\ttotal: 743ms\tremaining: 4.05s\n",
            "155:\tlearn: 47166.4754747\ttotal: 748ms\tremaining: 4.04s\n",
            "156:\tlearn: 47091.3779222\ttotal: 775ms\tremaining: 4.16s\n",
            "157:\tlearn: 47054.5869825\ttotal: 783ms\tremaining: 4.17s\n",
            "158:\tlearn: 47008.4547089\ttotal: 801ms\tremaining: 4.24s\n",
            "159:\tlearn: 46925.0895065\ttotal: 822ms\tremaining: 4.31s\n",
            "160:\tlearn: 46877.1123907\ttotal: 833ms\tremaining: 4.34s\n",
            "161:\tlearn: 46829.7897849\ttotal: 847ms\tremaining: 4.38s\n",
            "162:\tlearn: 46781.8985010\ttotal: 858ms\tremaining: 4.41s\n",
            "163:\tlearn: 46735.9828437\ttotal: 868ms\tremaining: 4.42s\n",
            "164:\tlearn: 46693.2061218\ttotal: 894ms\tremaining: 4.52s\n",
            "165:\tlearn: 46626.1871518\ttotal: 908ms\tremaining: 4.56s\n",
            "166:\tlearn: 46532.0832222\ttotal: 925ms\tremaining: 4.61s\n",
            "167:\tlearn: 46484.6468677\ttotal: 936ms\tremaining: 4.63s\n",
            "168:\tlearn: 46453.5448238\ttotal: 942ms\tremaining: 4.63s\n",
            "169:\tlearn: 46386.5583831\ttotal: 947ms\tremaining: 4.62s\n",
            "170:\tlearn: 46307.1069550\ttotal: 951ms\tremaining: 4.61s\n",
            "171:\tlearn: 46277.1477936\ttotal: 954ms\tremaining: 4.59s\n",
            "172:\tlearn: 46200.9630818\ttotal: 959ms\tremaining: 4.58s\n",
            "173:\tlearn: 46167.6410890\ttotal: 962ms\tremaining: 4.57s\n",
            "174:\tlearn: 46147.8747669\ttotal: 966ms\tremaining: 4.55s\n",
            "175:\tlearn: 46090.8880763\ttotal: 970ms\tremaining: 4.54s\n",
            "176:\tlearn: 45989.3589216\ttotal: 977ms\tremaining: 4.54s\n",
            "177:\tlearn: 45913.1012171\ttotal: 983ms\tremaining: 4.54s\n",
            "178:\tlearn: 45858.3703320\ttotal: 987ms\tremaining: 4.53s\n",
            "179:\tlearn: 45812.8071363\ttotal: 991ms\tremaining: 4.51s\n",
            "180:\tlearn: 45788.0882193\ttotal: 995ms\tremaining: 4.5s\n",
            "181:\tlearn: 45758.1133372\ttotal: 999ms\tremaining: 4.49s\n",
            "182:\tlearn: 45668.1816687\ttotal: 1s\tremaining: 4.47s\n",
            "183:\tlearn: 45613.2809039\ttotal: 1.01s\tremaining: 4.46s\n",
            "184:\tlearn: 45562.1596559\ttotal: 1.01s\tremaining: 4.45s\n",
            "185:\tlearn: 45494.6208986\ttotal: 1.01s\tremaining: 4.44s\n",
            "186:\tlearn: 45425.6674354\ttotal: 1.02s\tremaining: 4.43s\n",
            "187:\tlearn: 45377.1600457\ttotal: 1.02s\tremaining: 4.42s\n",
            "188:\tlearn: 45321.6533303\ttotal: 1.03s\tremaining: 4.4s\n",
            "189:\tlearn: 45258.9107683\ttotal: 1.03s\tremaining: 4.39s\n",
            "190:\tlearn: 45219.3118104\ttotal: 1.03s\tremaining: 4.38s\n",
            "191:\tlearn: 45159.7068297\ttotal: 1.04s\tremaining: 4.37s\n",
            "192:\tlearn: 45102.9427480\ttotal: 1.04s\tremaining: 4.36s\n",
            "193:\tlearn: 45045.1176973\ttotal: 1.05s\tremaining: 4.35s\n",
            "194:\tlearn: 45009.5219584\ttotal: 1.05s\tremaining: 4.34s\n",
            "195:\tlearn: 44960.0755414\ttotal: 1.05s\tremaining: 4.32s\n",
            "196:\tlearn: 44886.8748439\ttotal: 1.06s\tremaining: 4.31s\n",
            "197:\tlearn: 44856.1067844\ttotal: 1.06s\tremaining: 4.3s\n",
            "198:\tlearn: 44832.6490899\ttotal: 1.07s\tremaining: 4.29s\n",
            "199:\tlearn: 44804.8562745\ttotal: 1.07s\tremaining: 4.28s\n",
            "200:\tlearn: 44748.0640236\ttotal: 1.08s\tremaining: 4.28s\n",
            "201:\tlearn: 44705.5550707\ttotal: 1.08s\tremaining: 4.27s\n",
            "202:\tlearn: 44683.0477149\ttotal: 1.08s\tremaining: 4.25s\n",
            "203:\tlearn: 44642.5332768\ttotal: 1.09s\tremaining: 4.25s\n",
            "204:\tlearn: 44594.7327118\ttotal: 1.09s\tremaining: 4.23s\n",
            "205:\tlearn: 44555.2493970\ttotal: 1.09s\tremaining: 4.22s\n",
            "206:\tlearn: 44479.3302411\ttotal: 1.1s\tremaining: 4.21s\n",
            "207:\tlearn: 44434.0616981\ttotal: 1.11s\tremaining: 4.21s\n",
            "208:\tlearn: 44414.1651070\ttotal: 1.11s\tremaining: 4.21s\n",
            "209:\tlearn: 44357.1639808\ttotal: 1.11s\tremaining: 4.2s\n",
            "210:\tlearn: 44306.3628020\ttotal: 1.12s\tremaining: 4.18s\n",
            "211:\tlearn: 44260.8390892\ttotal: 1.12s\tremaining: 4.17s\n",
            "212:\tlearn: 44213.2120509\ttotal: 1.13s\tremaining: 4.17s\n",
            "213:\tlearn: 44171.9634417\ttotal: 1.13s\tremaining: 4.16s\n",
            "214:\tlearn: 44135.7876210\ttotal: 1.14s\tremaining: 4.15s\n",
            "215:\tlearn: 44090.4988475\ttotal: 1.14s\tremaining: 4.13s\n",
            "216:\tlearn: 44031.6400587\ttotal: 1.14s\tremaining: 4.13s\n",
            "217:\tlearn: 43989.1561088\ttotal: 1.15s\tremaining: 4.12s\n",
            "218:\tlearn: 43958.5281594\ttotal: 1.15s\tremaining: 4.11s\n",
            "219:\tlearn: 43912.2585494\ttotal: 1.16s\tremaining: 4.1s\n",
            "220:\tlearn: 43876.1865668\ttotal: 1.16s\tremaining: 4.09s\n",
            "221:\tlearn: 43835.7326811\ttotal: 1.16s\tremaining: 4.08s\n",
            "222:\tlearn: 43817.7413497\ttotal: 1.17s\tremaining: 4.07s\n",
            "223:\tlearn: 43782.1182276\ttotal: 1.17s\tremaining: 4.06s\n",
            "224:\tlearn: 43728.5530972\ttotal: 1.18s\tremaining: 4.06s\n",
            "225:\tlearn: 43708.0837226\ttotal: 1.18s\tremaining: 4.05s\n",
            "226:\tlearn: 43663.3707249\ttotal: 1.19s\tremaining: 4.04s\n",
            "227:\tlearn: 43602.7150533\ttotal: 1.19s\tremaining: 4.03s\n",
            "228:\tlearn: 43560.2608749\ttotal: 1.2s\tremaining: 4.02s\n",
            "229:\tlearn: 43526.9618272\ttotal: 1.2s\tremaining: 4.01s\n",
            "230:\tlearn: 43500.3153898\ttotal: 1.2s\tremaining: 4s\n",
            "231:\tlearn: 43462.2851699\ttotal: 1.21s\tremaining: 3.99s\n",
            "232:\tlearn: 43435.5719954\ttotal: 1.21s\tremaining: 3.98s\n",
            "233:\tlearn: 43403.4625240\ttotal: 1.21s\tremaining: 3.98s\n",
            "234:\tlearn: 43366.6438285\ttotal: 1.23s\tremaining: 4s\n",
            "235:\tlearn: 43304.0138851\ttotal: 1.23s\tremaining: 3.99s\n",
            "236:\tlearn: 43262.8604366\ttotal: 1.24s\tremaining: 3.98s\n",
            "237:\tlearn: 43224.1979205\ttotal: 1.24s\tremaining: 3.97s\n",
            "238:\tlearn: 43183.0760535\ttotal: 1.24s\tremaining: 3.96s\n",
            "239:\tlearn: 43151.9431778\ttotal: 1.25s\tremaining: 3.95s\n",
            "240:\tlearn: 43129.1966751\ttotal: 1.25s\tremaining: 3.94s\n",
            "241:\tlearn: 43109.9582179\ttotal: 1.26s\tremaining: 3.93s\n",
            "242:\tlearn: 43090.4540002\ttotal: 1.26s\tremaining: 3.92s\n",
            "243:\tlearn: 43049.4945062\ttotal: 1.26s\tremaining: 3.92s\n",
            "244:\tlearn: 43012.8494368\ttotal: 1.27s\tremaining: 3.91s\n",
            "245:\tlearn: 42978.5743304\ttotal: 1.27s\tremaining: 3.9s\n",
            "246:\tlearn: 42945.9366235\ttotal: 1.27s\tremaining: 3.89s\n",
            "247:\tlearn: 42915.3533357\ttotal: 1.28s\tremaining: 3.88s\n",
            "248:\tlearn: 42874.2004051\ttotal: 1.28s\tremaining: 3.87s\n",
            "249:\tlearn: 42833.9321376\ttotal: 1.29s\tremaining: 3.86s\n",
            "250:\tlearn: 42797.9614202\ttotal: 1.29s\tremaining: 3.85s\n",
            "251:\tlearn: 42756.7610271\ttotal: 1.3s\tremaining: 3.85s\n",
            "252:\tlearn: 42730.1605278\ttotal: 1.3s\tremaining: 3.84s\n",
            "253:\tlearn: 42699.3202755\ttotal: 1.3s\tremaining: 3.83s\n",
            "254:\tlearn: 42663.4337987\ttotal: 1.31s\tremaining: 3.82s\n",
            "255:\tlearn: 42627.9974203\ttotal: 1.31s\tremaining: 3.81s\n",
            "256:\tlearn: 42602.4407292\ttotal: 1.31s\tremaining: 3.8s\n",
            "257:\tlearn: 42577.0398373\ttotal: 1.32s\tremaining: 3.79s\n",
            "258:\tlearn: 42555.9571526\ttotal: 1.32s\tremaining: 3.79s\n",
            "259:\tlearn: 42523.9353042\ttotal: 1.33s\tremaining: 3.78s\n",
            "260:\tlearn: 42496.6453260\ttotal: 1.33s\tremaining: 3.77s\n",
            "261:\tlearn: 42476.0374257\ttotal: 1.33s\tremaining: 3.76s\n",
            "262:\tlearn: 42446.2815723\ttotal: 1.34s\tremaining: 3.75s\n",
            "263:\tlearn: 42418.1522541\ttotal: 1.34s\tremaining: 3.74s\n",
            "264:\tlearn: 42403.6400416\ttotal: 1.35s\tremaining: 3.73s\n",
            "265:\tlearn: 42385.4405130\ttotal: 1.35s\tremaining: 3.73s\n",
            "266:\tlearn: 42361.1891838\ttotal: 1.35s\tremaining: 3.72s\n",
            "267:\tlearn: 42342.8216698\ttotal: 1.36s\tremaining: 3.71s\n",
            "268:\tlearn: 42320.7219268\ttotal: 1.36s\tremaining: 3.7s\n",
            "269:\tlearn: 42288.4650388\ttotal: 1.36s\tremaining: 3.69s\n",
            "270:\tlearn: 42256.7684300\ttotal: 1.37s\tremaining: 3.68s\n",
            "271:\tlearn: 42238.7250026\ttotal: 1.38s\tremaining: 3.69s\n",
            "272:\tlearn: 42215.5190066\ttotal: 1.38s\tremaining: 3.68s\n",
            "273:\tlearn: 42183.4962466\ttotal: 1.39s\tremaining: 3.67s\n",
            "274:\tlearn: 42166.8865757\ttotal: 1.39s\tremaining: 3.67s\n",
            "275:\tlearn: 42136.1000344\ttotal: 1.39s\tremaining: 3.66s\n",
            "276:\tlearn: 42092.1663489\ttotal: 1.4s\tremaining: 3.65s\n",
            "277:\tlearn: 42065.7164678\ttotal: 1.4s\tremaining: 3.64s\n",
            "278:\tlearn: 42042.7017627\ttotal: 1.41s\tremaining: 3.64s\n",
            "279:\tlearn: 42025.7297992\ttotal: 1.41s\tremaining: 3.63s\n",
            "280:\tlearn: 41990.3105291\ttotal: 1.41s\tremaining: 3.62s\n",
            "281:\tlearn: 41960.7637601\ttotal: 1.42s\tremaining: 3.61s\n",
            "282:\tlearn: 41931.3356652\ttotal: 1.42s\tremaining: 3.6s\n",
            "283:\tlearn: 41898.7790765\ttotal: 1.43s\tremaining: 3.6s\n",
            "284:\tlearn: 41852.2329449\ttotal: 1.43s\tremaining: 3.59s\n",
            "285:\tlearn: 41830.0171306\ttotal: 1.44s\tremaining: 3.58s\n",
            "286:\tlearn: 41806.3158171\ttotal: 1.44s\tremaining: 3.58s\n",
            "287:\tlearn: 41783.2182871\ttotal: 1.44s\tremaining: 3.57s\n",
            "288:\tlearn: 41766.9879270\ttotal: 1.45s\tremaining: 3.56s\n",
            "289:\tlearn: 41748.2880169\ttotal: 1.45s\tremaining: 3.55s\n",
            "290:\tlearn: 41706.5059761\ttotal: 1.46s\tremaining: 3.55s\n",
            "291:\tlearn: 41680.7638813\ttotal: 1.46s\tremaining: 3.54s\n",
            "292:\tlearn: 41638.9335520\ttotal: 1.47s\tremaining: 3.54s\n",
            "293:\tlearn: 41610.3930115\ttotal: 1.47s\tremaining: 3.53s\n",
            "294:\tlearn: 41586.7568563\ttotal: 1.47s\tremaining: 3.52s\n",
            "295:\tlearn: 41560.8543188\ttotal: 1.48s\tremaining: 3.51s\n",
            "296:\tlearn: 41529.5314763\ttotal: 1.48s\tremaining: 3.51s\n",
            "297:\tlearn: 41505.2025139\ttotal: 1.49s\tremaining: 3.5s\n",
            "298:\tlearn: 41478.3897925\ttotal: 1.49s\tremaining: 3.49s\n",
            "299:\tlearn: 41455.3114852\ttotal: 1.49s\tremaining: 3.49s\n",
            "300:\tlearn: 41435.7490430\ttotal: 1.5s\tremaining: 3.48s\n",
            "301:\tlearn: 41402.4338602\ttotal: 1.5s\tremaining: 3.47s\n",
            "302:\tlearn: 41367.0106653\ttotal: 1.51s\tremaining: 3.46s\n",
            "303:\tlearn: 41344.9687116\ttotal: 1.51s\tremaining: 3.46s\n",
            "304:\tlearn: 41321.6917910\ttotal: 1.51s\tremaining: 3.45s\n",
            "305:\tlearn: 41297.5398800\ttotal: 1.52s\tremaining: 3.44s\n",
            "306:\tlearn: 41254.0384469\ttotal: 1.52s\tremaining: 3.44s\n",
            "307:\tlearn: 41225.4284802\ttotal: 1.53s\tremaining: 3.43s\n",
            "308:\tlearn: 41202.5440157\ttotal: 1.53s\tremaining: 3.42s\n",
            "309:\tlearn: 41171.8918201\ttotal: 1.53s\tremaining: 3.42s\n",
            "310:\tlearn: 41153.0627659\ttotal: 1.54s\tremaining: 3.41s\n",
            "311:\tlearn: 41141.2388982\ttotal: 1.54s\tremaining: 3.4s\n",
            "312:\tlearn: 41118.5175776\ttotal: 1.55s\tremaining: 3.4s\n",
            "313:\tlearn: 41089.6851590\ttotal: 1.55s\tremaining: 3.39s\n",
            "314:\tlearn: 41065.3390165\ttotal: 1.55s\tremaining: 3.38s\n",
            "315:\tlearn: 41035.6324749\ttotal: 1.56s\tremaining: 3.37s\n",
            "316:\tlearn: 40997.1609622\ttotal: 1.56s\tremaining: 3.37s\n",
            "317:\tlearn: 40967.9125269\ttotal: 1.57s\tremaining: 3.36s\n",
            "318:\tlearn: 40951.6361249\ttotal: 1.57s\tremaining: 3.35s\n",
            "319:\tlearn: 40936.5799617\ttotal: 1.58s\tremaining: 3.35s\n",
            "320:\tlearn: 40904.8893184\ttotal: 1.58s\tremaining: 3.35s\n",
            "321:\tlearn: 40873.9508566\ttotal: 1.59s\tremaining: 3.34s\n",
            "322:\tlearn: 40839.0016047\ttotal: 1.59s\tremaining: 3.34s\n",
            "323:\tlearn: 40816.3817396\ttotal: 1.59s\tremaining: 3.33s\n",
            "324:\tlearn: 40793.7710133\ttotal: 1.6s\tremaining: 3.32s\n",
            "325:\tlearn: 40753.6618110\ttotal: 1.6s\tremaining: 3.31s\n",
            "326:\tlearn: 40724.5790974\ttotal: 1.61s\tremaining: 3.31s\n",
            "327:\tlearn: 40692.4487334\ttotal: 1.61s\tremaining: 3.3s\n",
            "328:\tlearn: 40675.0422975\ttotal: 1.62s\tremaining: 3.3s\n",
            "329:\tlearn: 40647.0614784\ttotal: 1.62s\tremaining: 3.29s\n",
            "330:\tlearn: 40623.4721953\ttotal: 1.62s\tremaining: 3.28s\n",
            "331:\tlearn: 40599.9237894\ttotal: 1.63s\tremaining: 3.28s\n",
            "332:\tlearn: 40570.6307936\ttotal: 1.64s\tremaining: 3.28s\n",
            "333:\tlearn: 40549.9943205\ttotal: 1.64s\tremaining: 3.27s\n",
            "334:\tlearn: 40523.2561809\ttotal: 1.65s\tremaining: 3.27s\n",
            "335:\tlearn: 40493.2707720\ttotal: 1.65s\tremaining: 3.26s\n",
            "336:\tlearn: 40470.0327185\ttotal: 1.65s\tremaining: 3.25s\n",
            "337:\tlearn: 40453.0603045\ttotal: 1.66s\tremaining: 3.25s\n",
            "338:\tlearn: 40427.7483570\ttotal: 1.66s\tremaining: 3.24s\n",
            "339:\tlearn: 40401.8719769\ttotal: 1.67s\tremaining: 3.24s\n",
            "340:\tlearn: 40378.6245476\ttotal: 1.67s\tremaining: 3.23s\n",
            "341:\tlearn: 40355.1690021\ttotal: 1.68s\tremaining: 3.22s\n",
            "342:\tlearn: 40338.4865864\ttotal: 1.68s\tremaining: 3.22s\n",
            "343:\tlearn: 40321.5332604\ttotal: 1.68s\tremaining: 3.21s\n",
            "344:\tlearn: 40307.6815581\ttotal: 1.69s\tremaining: 3.2s\n",
            "345:\tlearn: 40283.6413590\ttotal: 1.69s\tremaining: 3.2s\n",
            "346:\tlearn: 40259.9812536\ttotal: 1.7s\tremaining: 3.19s\n",
            "347:\tlearn: 40236.6444195\ttotal: 1.7s\tremaining: 3.18s\n",
            "348:\tlearn: 40191.5454193\ttotal: 1.7s\tremaining: 3.18s\n",
            "349:\tlearn: 40165.6464749\ttotal: 1.71s\tremaining: 3.17s\n",
            "350:\tlearn: 40144.6195718\ttotal: 1.71s\tremaining: 3.17s\n",
            "351:\tlearn: 40126.7526488\ttotal: 1.72s\tremaining: 3.16s\n",
            "352:\tlearn: 40101.9899634\ttotal: 1.72s\tremaining: 3.15s\n",
            "353:\tlearn: 40079.9086960\ttotal: 1.72s\tremaining: 3.15s\n",
            "354:\tlearn: 40068.9340501\ttotal: 1.73s\tremaining: 3.14s\n",
            "355:\tlearn: 40043.1670367\ttotal: 1.73s\tremaining: 3.13s\n",
            "356:\tlearn: 40027.9366691\ttotal: 1.74s\tremaining: 3.13s\n",
            "357:\tlearn: 40004.9377856\ttotal: 1.74s\tremaining: 3.12s\n",
            "358:\tlearn: 39976.4430666\ttotal: 1.75s\tremaining: 3.12s\n",
            "359:\tlearn: 39955.0317481\ttotal: 1.75s\tremaining: 3.11s\n",
            "360:\tlearn: 39934.6225668\ttotal: 1.75s\tremaining: 3.1s\n",
            "361:\tlearn: 39913.1602205\ttotal: 1.76s\tremaining: 3.1s\n",
            "362:\tlearn: 39893.6417158\ttotal: 1.76s\tremaining: 3.09s\n",
            "363:\tlearn: 39877.5873606\ttotal: 1.76s\tremaining: 3.08s\n",
            "364:\tlearn: 39853.3559128\ttotal: 1.77s\tremaining: 3.08s\n",
            "365:\tlearn: 39836.6571788\ttotal: 1.78s\tremaining: 3.08s\n",
            "366:\tlearn: 39819.2333452\ttotal: 1.78s\tremaining: 3.08s\n",
            "367:\tlearn: 39796.4994672\ttotal: 1.79s\tremaining: 3.08s\n",
            "368:\tlearn: 39779.3814395\ttotal: 1.8s\tremaining: 3.08s\n",
            "369:\tlearn: 39761.0948620\ttotal: 1.8s\tremaining: 3.07s\n",
            "370:\tlearn: 39734.1924570\ttotal: 1.81s\tremaining: 3.06s\n",
            "371:\tlearn: 39707.1809113\ttotal: 1.81s\tremaining: 3.06s\n",
            "372:\tlearn: 39692.0854764\ttotal: 1.81s\tremaining: 3.05s\n",
            "373:\tlearn: 39667.2309952\ttotal: 1.82s\tremaining: 3.04s\n",
            "374:\tlearn: 39641.3180367\ttotal: 1.82s\tremaining: 3.04s\n",
            "375:\tlearn: 39610.0336614\ttotal: 1.83s\tremaining: 3.03s\n",
            "376:\tlearn: 39594.2652990\ttotal: 1.83s\tremaining: 3.03s\n",
            "377:\tlearn: 39582.2683324\ttotal: 1.84s\tremaining: 3.02s\n",
            "378:\tlearn: 39564.1303046\ttotal: 1.84s\tremaining: 3.01s\n",
            "379:\tlearn: 39535.2744464\ttotal: 1.84s\tremaining: 3.01s\n",
            "380:\tlearn: 39515.0682445\ttotal: 1.85s\tremaining: 3s\n",
            "381:\tlearn: 39493.1606467\ttotal: 1.85s\tremaining: 3s\n",
            "382:\tlearn: 39480.5228541\ttotal: 1.86s\tremaining: 2.99s\n",
            "383:\tlearn: 39454.5073296\ttotal: 1.86s\tremaining: 2.98s\n",
            "384:\tlearn: 39435.7251598\ttotal: 1.86s\tremaining: 2.98s\n",
            "385:\tlearn: 39413.5216848\ttotal: 1.87s\tremaining: 2.97s\n",
            "386:\tlearn: 39399.8612236\ttotal: 1.87s\tremaining: 2.97s\n",
            "387:\tlearn: 39384.7387526\ttotal: 1.88s\tremaining: 2.96s\n",
            "388:\tlearn: 39365.7903129\ttotal: 1.88s\tremaining: 2.95s\n",
            "389:\tlearn: 39349.2712139\ttotal: 1.88s\tremaining: 2.95s\n",
            "390:\tlearn: 39330.0121111\ttotal: 1.89s\tremaining: 2.94s\n",
            "391:\tlearn: 39312.4921251\ttotal: 1.89s\tremaining: 2.94s\n",
            "392:\tlearn: 39295.2358862\ttotal: 1.9s\tremaining: 2.93s\n",
            "393:\tlearn: 39284.7745869\ttotal: 1.9s\tremaining: 2.92s\n",
            "394:\tlearn: 39262.6002048\ttotal: 1.9s\tremaining: 2.92s\n",
            "395:\tlearn: 39252.9549957\ttotal: 1.91s\tremaining: 2.91s\n",
            "396:\tlearn: 39242.9553208\ttotal: 1.91s\tremaining: 2.9s\n",
            "397:\tlearn: 39223.0237887\ttotal: 1.92s\tremaining: 2.9s\n",
            "398:\tlearn: 39206.2548580\ttotal: 1.92s\tremaining: 2.89s\n",
            "399:\tlearn: 39184.8333120\ttotal: 1.92s\tremaining: 2.88s\n",
            "400:\tlearn: 39159.5540715\ttotal: 1.93s\tremaining: 2.88s\n",
            "401:\tlearn: 39142.2340221\ttotal: 1.93s\tremaining: 2.87s\n",
            "402:\tlearn: 39118.9209285\ttotal: 1.94s\tremaining: 2.87s\n",
            "403:\tlearn: 39094.4521130\ttotal: 1.94s\tremaining: 2.86s\n",
            "404:\tlearn: 39071.4039691\ttotal: 1.94s\tremaining: 2.85s\n",
            "405:\tlearn: 39044.9073874\ttotal: 1.95s\tremaining: 2.85s\n",
            "406:\tlearn: 39015.4594059\ttotal: 1.95s\tremaining: 2.85s\n",
            "407:\tlearn: 38996.7472618\ttotal: 1.96s\tremaining: 2.84s\n",
            "408:\tlearn: 38980.5586589\ttotal: 1.96s\tremaining: 2.83s\n",
            "409:\tlearn: 38968.2177929\ttotal: 1.96s\tremaining: 2.83s\n",
            "410:\tlearn: 38960.6086919\ttotal: 1.97s\tremaining: 2.82s\n",
            "411:\tlearn: 38934.7471880\ttotal: 1.98s\tremaining: 2.82s\n",
            "412:\tlearn: 38918.6922400\ttotal: 1.98s\tremaining: 2.82s\n",
            "413:\tlearn: 38901.8168257\ttotal: 1.99s\tremaining: 2.81s\n",
            "414:\tlearn: 38886.2273219\ttotal: 1.99s\tremaining: 2.81s\n",
            "415:\tlearn: 38871.4762149\ttotal: 1.99s\tremaining: 2.8s\n",
            "416:\tlearn: 38848.5726091\ttotal: 2s\tremaining: 2.79s\n",
            "417:\tlearn: 38839.6887771\ttotal: 2.01s\tremaining: 2.79s\n",
            "418:\tlearn: 38825.8479213\ttotal: 2.01s\tremaining: 2.79s\n",
            "419:\tlearn: 38813.3314875\ttotal: 2.02s\tremaining: 2.78s\n",
            "420:\tlearn: 38796.3123499\ttotal: 2.02s\tremaining: 2.78s\n",
            "421:\tlearn: 38775.6808958\ttotal: 2.02s\tremaining: 2.77s\n",
            "422:\tlearn: 38753.3639036\ttotal: 2.03s\tremaining: 2.77s\n",
            "423:\tlearn: 38735.1916731\ttotal: 2.03s\tremaining: 2.76s\n",
            "424:\tlearn: 38717.1093946\ttotal: 2.04s\tremaining: 2.76s\n",
            "425:\tlearn: 38703.4781560\ttotal: 2.05s\tremaining: 2.76s\n",
            "426:\tlearn: 38684.3618677\ttotal: 2.06s\tremaining: 2.76s\n",
            "427:\tlearn: 38662.7514737\ttotal: 2.07s\tremaining: 2.77s\n",
            "428:\tlearn: 38651.1679778\ttotal: 2.08s\tremaining: 2.77s\n",
            "429:\tlearn: 38632.6957314\ttotal: 2.09s\tremaining: 2.77s\n",
            "430:\tlearn: 38607.3726612\ttotal: 2.1s\tremaining: 2.77s\n",
            "431:\tlearn: 38588.1378598\ttotal: 2.12s\tremaining: 2.78s\n",
            "432:\tlearn: 38578.5384365\ttotal: 2.12s\tremaining: 2.78s\n",
            "433:\tlearn: 38559.4726388\ttotal: 2.13s\tremaining: 2.77s\n",
            "434:\tlearn: 38544.6986958\ttotal: 2.13s\tremaining: 2.77s\n",
            "435:\tlearn: 38531.2038617\ttotal: 2.13s\tremaining: 2.76s\n",
            "436:\tlearn: 38518.4539974\ttotal: 2.14s\tremaining: 2.75s\n",
            "437:\tlearn: 38505.8154362\ttotal: 2.14s\tremaining: 2.75s\n",
            "438:\tlearn: 38492.2331048\ttotal: 2.15s\tremaining: 2.74s\n",
            "439:\tlearn: 38472.5139223\ttotal: 2.15s\tremaining: 2.74s\n",
            "440:\tlearn: 38454.6659354\ttotal: 2.16s\tremaining: 2.73s\n",
            "441:\tlearn: 38436.9777051\ttotal: 2.16s\tremaining: 2.73s\n",
            "442:\tlearn: 38427.6206665\ttotal: 2.17s\tremaining: 2.72s\n",
            "443:\tlearn: 38410.2817733\ttotal: 2.17s\tremaining: 2.72s\n",
            "444:\tlearn: 38400.7298840\ttotal: 2.17s\tremaining: 2.71s\n",
            "445:\tlearn: 38385.7352338\ttotal: 2.18s\tremaining: 2.71s\n",
            "446:\tlearn: 38366.8337713\ttotal: 2.18s\tremaining: 2.7s\n",
            "447:\tlearn: 38347.4082510\ttotal: 2.19s\tremaining: 2.7s\n",
            "448:\tlearn: 38333.7896553\ttotal: 2.19s\tremaining: 2.69s\n",
            "449:\tlearn: 38302.6512265\ttotal: 2.2s\tremaining: 2.69s\n",
            "450:\tlearn: 38286.5839778\ttotal: 2.2s\tremaining: 2.68s\n",
            "451:\tlearn: 38270.4900106\ttotal: 2.21s\tremaining: 2.68s\n",
            "452:\tlearn: 38252.6160550\ttotal: 2.22s\tremaining: 2.69s\n",
            "453:\tlearn: 38236.9569969\ttotal: 2.23s\tremaining: 2.69s\n",
            "454:\tlearn: 38217.3144070\ttotal: 2.25s\tremaining: 2.69s\n",
            "455:\tlearn: 38193.4481253\ttotal: 2.26s\tremaining: 2.69s\n",
            "456:\tlearn: 38169.7522847\ttotal: 2.27s\tremaining: 2.69s\n",
            "457:\tlearn: 38148.6890048\ttotal: 2.28s\tremaining: 2.7s\n",
            "458:\tlearn: 38141.6828495\ttotal: 2.29s\tremaining: 2.7s\n",
            "459:\tlearn: 38123.6124274\ttotal: 2.3s\tremaining: 2.7s\n",
            "460:\tlearn: 38108.8873513\ttotal: 2.31s\tremaining: 2.71s\n",
            "461:\tlearn: 38085.7333308\ttotal: 2.32s\tremaining: 2.7s\n",
            "462:\tlearn: 38065.6774426\ttotal: 2.33s\tremaining: 2.7s\n",
            "463:\tlearn: 38051.9108082\ttotal: 2.34s\tremaining: 2.7s\n",
            "464:\tlearn: 38038.2829041\ttotal: 2.36s\tremaining: 2.71s\n",
            "465:\tlearn: 38016.6437304\ttotal: 2.37s\tremaining: 2.72s\n",
            "466:\tlearn: 38006.1382925\ttotal: 2.38s\tremaining: 2.71s\n",
            "467:\tlearn: 37990.1786616\ttotal: 2.38s\tremaining: 2.7s\n",
            "468:\tlearn: 37983.0443205\ttotal: 2.38s\tremaining: 2.7s\n",
            "469:\tlearn: 37961.0238425\ttotal: 2.39s\tremaining: 2.69s\n",
            "470:\tlearn: 37943.7163163\ttotal: 2.39s\tremaining: 2.69s\n",
            "471:\tlearn: 37923.3542489\ttotal: 2.4s\tremaining: 2.68s\n",
            "472:\tlearn: 37902.7475705\ttotal: 2.4s\tremaining: 2.67s\n",
            "473:\tlearn: 37891.5011793\ttotal: 2.4s\tremaining: 2.67s\n",
            "474:\tlearn: 37883.7153677\ttotal: 2.41s\tremaining: 2.66s\n",
            "475:\tlearn: 37863.6259770\ttotal: 2.41s\tremaining: 2.66s\n",
            "476:\tlearn: 37845.6763218\ttotal: 2.42s\tremaining: 2.65s\n",
            "477:\tlearn: 37828.5399751\ttotal: 2.42s\tremaining: 2.64s\n",
            "478:\tlearn: 37814.1814104\ttotal: 2.43s\tremaining: 2.64s\n",
            "479:\tlearn: 37806.1210565\ttotal: 2.43s\tremaining: 2.63s\n",
            "480:\tlearn: 37790.4127745\ttotal: 2.43s\tremaining: 2.63s\n",
            "481:\tlearn: 37778.9458823\ttotal: 2.44s\tremaining: 2.62s\n",
            "482:\tlearn: 37761.5358907\ttotal: 2.44s\tremaining: 2.61s\n",
            "483:\tlearn: 37746.8885342\ttotal: 2.45s\tremaining: 2.61s\n",
            "484:\tlearn: 37732.4143344\ttotal: 2.45s\tremaining: 2.6s\n",
            "485:\tlearn: 37718.6385084\ttotal: 2.45s\tremaining: 2.6s\n",
            "486:\tlearn: 37702.2902433\ttotal: 2.46s\tremaining: 2.59s\n",
            "487:\tlearn: 37690.9039428\ttotal: 2.46s\tremaining: 2.58s\n",
            "488:\tlearn: 37673.0424792\ttotal: 2.47s\tremaining: 2.58s\n",
            "489:\tlearn: 37661.8079202\ttotal: 2.47s\tremaining: 2.57s\n",
            "490:\tlearn: 37653.3329497\ttotal: 2.48s\tremaining: 2.57s\n",
            "491:\tlearn: 37645.0945676\ttotal: 2.48s\tremaining: 2.56s\n",
            "492:\tlearn: 37628.6179536\ttotal: 2.48s\tremaining: 2.55s\n",
            "493:\tlearn: 37610.8798434\ttotal: 2.49s\tremaining: 2.55s\n",
            "494:\tlearn: 37597.6566558\ttotal: 2.49s\tremaining: 2.54s\n",
            "495:\tlearn: 37580.5875519\ttotal: 2.5s\tremaining: 2.54s\n",
            "496:\tlearn: 37570.0395905\ttotal: 2.5s\tremaining: 2.53s\n",
            "497:\tlearn: 37562.8261548\ttotal: 2.5s\tremaining: 2.52s\n",
            "498:\tlearn: 37540.5714750\ttotal: 2.51s\tremaining: 2.52s\n",
            "499:\tlearn: 37529.8229031\ttotal: 2.51s\tremaining: 2.51s\n",
            "500:\tlearn: 37524.2318371\ttotal: 2.52s\tremaining: 2.51s\n",
            "501:\tlearn: 37501.4861663\ttotal: 2.52s\tremaining: 2.5s\n",
            "502:\tlearn: 37484.3149278\ttotal: 2.52s\tremaining: 2.5s\n",
            "503:\tlearn: 37471.0822171\ttotal: 2.53s\tremaining: 2.49s\n",
            "504:\tlearn: 37457.2297738\ttotal: 2.53s\tremaining: 2.48s\n",
            "505:\tlearn: 37441.5044293\ttotal: 2.54s\tremaining: 2.48s\n",
            "506:\tlearn: 37416.2757252\ttotal: 2.54s\tremaining: 2.47s\n",
            "507:\tlearn: 37402.1714771\ttotal: 2.54s\tremaining: 2.46s\n",
            "508:\tlearn: 37388.4261608\ttotal: 2.55s\tremaining: 2.46s\n",
            "509:\tlearn: 37379.2098275\ttotal: 2.55s\tremaining: 2.45s\n",
            "510:\tlearn: 37364.3371558\ttotal: 2.56s\tremaining: 2.45s\n",
            "511:\tlearn: 37347.2236998\ttotal: 2.57s\tremaining: 2.45s\n",
            "512:\tlearn: 37339.2576231\ttotal: 2.57s\tremaining: 2.44s\n",
            "513:\tlearn: 37316.6715407\ttotal: 2.58s\tremaining: 2.44s\n",
            "514:\tlearn: 37288.7097500\ttotal: 2.58s\tremaining: 2.43s\n",
            "515:\tlearn: 37257.4930803\ttotal: 2.59s\tremaining: 2.43s\n",
            "516:\tlearn: 37243.8096583\ttotal: 2.59s\tremaining: 2.42s\n",
            "517:\tlearn: 37230.6946266\ttotal: 2.59s\tremaining: 2.41s\n",
            "518:\tlearn: 37213.4069042\ttotal: 2.6s\tremaining: 2.41s\n",
            "519:\tlearn: 37197.7907600\ttotal: 2.6s\tremaining: 2.4s\n",
            "520:\tlearn: 37185.5295306\ttotal: 2.6s\tremaining: 2.4s\n",
            "521:\tlearn: 37180.9027328\ttotal: 2.61s\tremaining: 2.39s\n",
            "522:\tlearn: 37167.7523349\ttotal: 2.61s\tremaining: 2.38s\n",
            "523:\tlearn: 37155.5296347\ttotal: 2.62s\tremaining: 2.38s\n",
            "524:\tlearn: 37147.0352549\ttotal: 2.62s\tremaining: 2.37s\n",
            "525:\tlearn: 37127.7364478\ttotal: 2.63s\tremaining: 2.37s\n",
            "526:\tlearn: 37117.3440124\ttotal: 2.63s\tremaining: 2.36s\n",
            "527:\tlearn: 37103.5853213\ttotal: 2.63s\tremaining: 2.35s\n",
            "528:\tlearn: 37086.0615234\ttotal: 2.64s\tremaining: 2.35s\n",
            "529:\tlearn: 37076.9218497\ttotal: 2.64s\tremaining: 2.34s\n",
            "530:\tlearn: 37061.1208407\ttotal: 2.65s\tremaining: 2.34s\n",
            "531:\tlearn: 37039.4943396\ttotal: 2.65s\tremaining: 2.33s\n",
            "532:\tlearn: 37028.0592710\ttotal: 2.65s\tremaining: 2.33s\n",
            "533:\tlearn: 37021.8395402\ttotal: 2.66s\tremaining: 2.32s\n",
            "534:\tlearn: 37014.6688056\ttotal: 2.66s\tremaining: 2.31s\n",
            "535:\tlearn: 36996.9441421\ttotal: 2.67s\tremaining: 2.31s\n",
            "536:\tlearn: 36985.5959054\ttotal: 2.67s\tremaining: 2.3s\n",
            "537:\tlearn: 36976.9288190\ttotal: 2.67s\tremaining: 2.29s\n",
            "538:\tlearn: 36962.5696991\ttotal: 2.68s\tremaining: 2.29s\n",
            "539:\tlearn: 36937.9837915\ttotal: 2.68s\tremaining: 2.28s\n",
            "540:\tlearn: 36926.1586776\ttotal: 2.69s\tremaining: 2.28s\n",
            "541:\tlearn: 36910.7969288\ttotal: 2.69s\tremaining: 2.27s\n",
            "542:\tlearn: 36896.2709509\ttotal: 2.69s\tremaining: 2.27s\n",
            "543:\tlearn: 36880.4530541\ttotal: 2.7s\tremaining: 2.26s\n",
            "544:\tlearn: 36868.2116821\ttotal: 2.7s\tremaining: 2.25s\n",
            "545:\tlearn: 36849.6054740\ttotal: 2.71s\tremaining: 2.25s\n",
            "546:\tlearn: 36841.0724093\ttotal: 2.71s\tremaining: 2.24s\n",
            "547:\tlearn: 36825.3089080\ttotal: 2.71s\tremaining: 2.24s\n",
            "548:\tlearn: 36814.7123372\ttotal: 2.72s\tremaining: 2.23s\n",
            "549:\tlearn: 36803.9095702\ttotal: 2.72s\tremaining: 2.23s\n",
            "550:\tlearn: 36791.8338688\ttotal: 2.73s\tremaining: 2.22s\n",
            "551:\tlearn: 36786.0267910\ttotal: 2.73s\tremaining: 2.22s\n",
            "552:\tlearn: 36776.9468155\ttotal: 2.73s\tremaining: 2.21s\n",
            "553:\tlearn: 36767.7142139\ttotal: 2.74s\tremaining: 2.21s\n",
            "554:\tlearn: 36756.1683898\ttotal: 2.75s\tremaining: 2.2s\n",
            "555:\tlearn: 36744.3623872\ttotal: 2.76s\tremaining: 2.2s\n",
            "556:\tlearn: 36724.8288317\ttotal: 2.76s\tremaining: 2.2s\n",
            "557:\tlearn: 36712.9453659\ttotal: 2.77s\tremaining: 2.19s\n",
            "558:\tlearn: 36697.8463545\ttotal: 2.77s\tremaining: 2.19s\n",
            "559:\tlearn: 36683.9438551\ttotal: 2.78s\tremaining: 2.19s\n",
            "560:\tlearn: 36675.0549626\ttotal: 2.79s\tremaining: 2.18s\n",
            "561:\tlearn: 36664.2785479\ttotal: 2.79s\tremaining: 2.18s\n",
            "562:\tlearn: 36654.1387089\ttotal: 2.8s\tremaining: 2.17s\n",
            "563:\tlearn: 36637.8805239\ttotal: 2.8s\tremaining: 2.16s\n",
            "564:\tlearn: 36622.0836289\ttotal: 2.8s\tremaining: 2.16s\n",
            "565:\tlearn: 36600.0835816\ttotal: 2.81s\tremaining: 2.15s\n",
            "566:\tlearn: 36584.2297415\ttotal: 2.81s\tremaining: 2.15s\n",
            "567:\tlearn: 36572.9310789\ttotal: 2.82s\tremaining: 2.14s\n",
            "568:\tlearn: 36562.7307546\ttotal: 2.82s\tremaining: 2.14s\n",
            "569:\tlearn: 36550.1586871\ttotal: 2.82s\tremaining: 2.13s\n",
            "570:\tlearn: 36531.3173030\ttotal: 2.83s\tremaining: 2.12s\n",
            "571:\tlearn: 36514.7808385\ttotal: 2.83s\tremaining: 2.12s\n",
            "572:\tlearn: 36507.2011284\ttotal: 2.83s\tremaining: 2.11s\n",
            "573:\tlearn: 36487.7346004\ttotal: 2.84s\tremaining: 2.11s\n",
            "574:\tlearn: 36475.9001621\ttotal: 2.84s\tremaining: 2.1s\n",
            "575:\tlearn: 36463.9683653\ttotal: 2.85s\tremaining: 2.1s\n",
            "576:\tlearn: 36452.4383979\ttotal: 2.85s\tremaining: 2.09s\n",
            "577:\tlearn: 36434.3881712\ttotal: 2.85s\tremaining: 2.08s\n",
            "578:\tlearn: 36418.6212335\ttotal: 2.86s\tremaining: 2.08s\n",
            "579:\tlearn: 36403.0916277\ttotal: 2.86s\tremaining: 2.07s\n",
            "580:\tlearn: 36386.8077381\ttotal: 2.87s\tremaining: 2.07s\n",
            "581:\tlearn: 36373.0144616\ttotal: 2.87s\tremaining: 2.06s\n",
            "582:\tlearn: 36371.1473863\ttotal: 2.87s\tremaining: 2.06s\n",
            "583:\tlearn: 36362.3956733\ttotal: 2.88s\tremaining: 2.05s\n",
            "584:\tlearn: 36345.0859688\ttotal: 2.88s\tremaining: 2.04s\n",
            "585:\tlearn: 36333.4782638\ttotal: 2.88s\tremaining: 2.04s\n",
            "586:\tlearn: 36319.0270416\ttotal: 2.89s\tremaining: 2.03s\n",
            "587:\tlearn: 36305.0583778\ttotal: 2.89s\tremaining: 2.03s\n",
            "588:\tlearn: 36297.2589701\ttotal: 2.9s\tremaining: 2.02s\n",
            "589:\tlearn: 36287.7978694\ttotal: 2.9s\tremaining: 2.02s\n",
            "590:\tlearn: 36270.6653547\ttotal: 2.9s\tremaining: 2.01s\n",
            "591:\tlearn: 36263.0929053\ttotal: 2.91s\tremaining: 2s\n",
            "592:\tlearn: 36252.9024354\ttotal: 2.91s\tremaining: 2s\n",
            "593:\tlearn: 36240.5506650\ttotal: 2.92s\tremaining: 1.99s\n",
            "594:\tlearn: 36233.0040989\ttotal: 2.92s\tremaining: 1.99s\n",
            "595:\tlearn: 36219.6117156\ttotal: 2.92s\tremaining: 1.98s\n",
            "596:\tlearn: 36208.8894425\ttotal: 2.93s\tremaining: 1.98s\n",
            "597:\tlearn: 36191.3038291\ttotal: 2.93s\tremaining: 1.97s\n",
            "598:\tlearn: 36176.7544535\ttotal: 2.94s\tremaining: 1.97s\n",
            "599:\tlearn: 36163.4355104\ttotal: 2.94s\tremaining: 1.96s\n",
            "600:\tlearn: 36148.7761382\ttotal: 2.94s\tremaining: 1.95s\n",
            "601:\tlearn: 36137.1819784\ttotal: 2.95s\tremaining: 1.95s\n",
            "602:\tlearn: 36131.9831001\ttotal: 2.95s\tremaining: 1.94s\n",
            "603:\tlearn: 36121.1102495\ttotal: 2.96s\tremaining: 1.94s\n",
            "604:\tlearn: 36111.5560388\ttotal: 2.96s\tremaining: 1.93s\n",
            "605:\tlearn: 36097.4874180\ttotal: 2.96s\tremaining: 1.93s\n",
            "606:\tlearn: 36081.1427491\ttotal: 2.97s\tremaining: 1.92s\n",
            "607:\tlearn: 36064.6647344\ttotal: 2.97s\tremaining: 1.92s\n",
            "608:\tlearn: 36054.1661153\ttotal: 2.98s\tremaining: 1.91s\n",
            "609:\tlearn: 36030.7665415\ttotal: 2.98s\tremaining: 1.91s\n",
            "610:\tlearn: 36018.2549906\ttotal: 2.98s\tremaining: 1.9s\n",
            "611:\tlearn: 36008.4045116\ttotal: 2.99s\tremaining: 1.9s\n",
            "612:\tlearn: 35999.2092473\ttotal: 2.99s\tremaining: 1.89s\n",
            "613:\tlearn: 35994.9628927\ttotal: 3s\tremaining: 1.88s\n",
            "614:\tlearn: 35983.7051132\ttotal: 3s\tremaining: 1.88s\n",
            "615:\tlearn: 35970.7701668\ttotal: 3s\tremaining: 1.87s\n",
            "616:\tlearn: 35960.4049838\ttotal: 3.01s\tremaining: 1.87s\n",
            "617:\tlearn: 35946.7412226\ttotal: 3.01s\tremaining: 1.86s\n",
            "618:\tlearn: 35926.6683248\ttotal: 3.02s\tremaining: 1.86s\n",
            "619:\tlearn: 35912.9861173\ttotal: 3.02s\tremaining: 1.85s\n",
            "620:\tlearn: 35902.1388995\ttotal: 3.02s\tremaining: 1.85s\n",
            "621:\tlearn: 35891.5753467\ttotal: 3.03s\tremaining: 1.84s\n",
            "622:\tlearn: 35868.9158243\ttotal: 3.03s\tremaining: 1.84s\n",
            "623:\tlearn: 35856.7430092\ttotal: 3.04s\tremaining: 1.83s\n",
            "624:\tlearn: 35845.7087778\ttotal: 3.04s\tremaining: 1.82s\n",
            "625:\tlearn: 35837.7064557\ttotal: 3.05s\tremaining: 1.82s\n",
            "626:\tlearn: 35829.5208603\ttotal: 3.05s\tremaining: 1.81s\n",
            "627:\tlearn: 35819.5598542\ttotal: 3.05s\tremaining: 1.81s\n",
            "628:\tlearn: 35804.5129544\ttotal: 3.06s\tremaining: 1.8s\n",
            "629:\tlearn: 35792.4405718\ttotal: 3.06s\tremaining: 1.8s\n",
            "630:\tlearn: 35775.8960175\ttotal: 3.07s\tremaining: 1.79s\n",
            "631:\tlearn: 35762.9468356\ttotal: 3.07s\tremaining: 1.79s\n",
            "632:\tlearn: 35757.3183689\ttotal: 3.07s\tremaining: 1.78s\n",
            "633:\tlearn: 35746.8362188\ttotal: 3.08s\tremaining: 1.78s\n",
            "634:\tlearn: 35721.9421978\ttotal: 3.08s\tremaining: 1.77s\n",
            "635:\tlearn: 35707.4134639\ttotal: 3.09s\tremaining: 1.77s\n",
            "636:\tlearn: 35700.0557262\ttotal: 3.09s\tremaining: 1.76s\n",
            "637:\tlearn: 35687.6741208\ttotal: 3.1s\tremaining: 1.76s\n",
            "638:\tlearn: 35672.1421927\ttotal: 3.1s\tremaining: 1.75s\n",
            "639:\tlearn: 35659.7093570\ttotal: 3.1s\tremaining: 1.75s\n",
            "640:\tlearn: 35639.9799952\ttotal: 3.11s\tremaining: 1.74s\n",
            "641:\tlearn: 35623.1351357\ttotal: 3.11s\tremaining: 1.74s\n",
            "642:\tlearn: 35612.5071148\ttotal: 3.12s\tremaining: 1.73s\n",
            "643:\tlearn: 35607.3351399\ttotal: 3.12s\tremaining: 1.73s\n",
            "644:\tlearn: 35592.2296209\ttotal: 3.13s\tremaining: 1.72s\n",
            "645:\tlearn: 35585.8789107\ttotal: 3.13s\tremaining: 1.71s\n",
            "646:\tlearn: 35571.6818239\ttotal: 3.13s\tremaining: 1.71s\n",
            "647:\tlearn: 35555.8109729\ttotal: 3.14s\tremaining: 1.7s\n",
            "648:\tlearn: 35550.6479355\ttotal: 3.14s\tremaining: 1.7s\n",
            "649:\tlearn: 35544.0774133\ttotal: 3.14s\tremaining: 1.69s\n",
            "650:\tlearn: 35537.5855434\ttotal: 3.15s\tremaining: 1.69s\n",
            "651:\tlearn: 35523.1926190\ttotal: 3.16s\tremaining: 1.69s\n",
            "652:\tlearn: 35509.2473541\ttotal: 3.17s\tremaining: 1.69s\n",
            "653:\tlearn: 35506.3759955\ttotal: 3.17s\tremaining: 1.68s\n",
            "654:\tlearn: 35495.5444957\ttotal: 3.18s\tremaining: 1.67s\n",
            "655:\tlearn: 35483.7636783\ttotal: 3.18s\tremaining: 1.67s\n",
            "656:\tlearn: 35478.0636106\ttotal: 3.19s\tremaining: 1.66s\n",
            "657:\tlearn: 35472.6164004\ttotal: 3.19s\tremaining: 1.66s\n",
            "658:\tlearn: 35457.2881702\ttotal: 3.19s\tremaining: 1.65s\n",
            "659:\tlearn: 35448.0322247\ttotal: 3.2s\tremaining: 1.65s\n",
            "660:\tlearn: 35444.2480156\ttotal: 3.21s\tremaining: 1.64s\n",
            "661:\tlearn: 35436.2633099\ttotal: 3.21s\tremaining: 1.64s\n",
            "662:\tlearn: 35428.6622615\ttotal: 3.21s\tremaining: 1.63s\n",
            "663:\tlearn: 35423.6510982\ttotal: 3.22s\tremaining: 1.63s\n",
            "664:\tlearn: 35421.8548174\ttotal: 3.22s\tremaining: 1.62s\n",
            "665:\tlearn: 35416.3869680\ttotal: 3.23s\tremaining: 1.62s\n",
            "666:\tlearn: 35410.2409554\ttotal: 3.23s\tremaining: 1.61s\n",
            "667:\tlearn: 35392.8885768\ttotal: 3.23s\tremaining: 1.61s\n",
            "668:\tlearn: 35378.3977955\ttotal: 3.24s\tremaining: 1.6s\n",
            "669:\tlearn: 35370.8236692\ttotal: 3.24s\tremaining: 1.6s\n",
            "670:\tlearn: 35362.3768867\ttotal: 3.25s\tremaining: 1.59s\n",
            "671:\tlearn: 35351.0608521\ttotal: 3.25s\tremaining: 1.59s\n",
            "672:\tlearn: 35344.8801043\ttotal: 3.25s\tremaining: 1.58s\n",
            "673:\tlearn: 35339.7821903\ttotal: 3.26s\tremaining: 1.58s\n",
            "674:\tlearn: 35330.3749147\ttotal: 3.26s\tremaining: 1.57s\n",
            "675:\tlearn: 35322.0920563\ttotal: 3.27s\tremaining: 1.56s\n",
            "676:\tlearn: 35313.9973346\ttotal: 3.27s\tremaining: 1.56s\n",
            "677:\tlearn: 35310.6165168\ttotal: 3.27s\tremaining: 1.55s\n",
            "678:\tlearn: 35304.2834522\ttotal: 3.28s\tremaining: 1.55s\n",
            "679:\tlearn: 35289.1605898\ttotal: 3.28s\tremaining: 1.54s\n",
            "680:\tlearn: 35272.2324381\ttotal: 3.29s\tremaining: 1.54s\n",
            "681:\tlearn: 35266.4661388\ttotal: 3.29s\tremaining: 1.53s\n",
            "682:\tlearn: 35251.5310194\ttotal: 3.29s\tremaining: 1.53s\n",
            "683:\tlearn: 35239.3188205\ttotal: 3.3s\tremaining: 1.52s\n",
            "684:\tlearn: 35225.5669305\ttotal: 3.3s\tremaining: 1.52s\n",
            "685:\tlearn: 35215.5193505\ttotal: 3.31s\tremaining: 1.51s\n",
            "686:\tlearn: 35203.9313531\ttotal: 3.31s\tremaining: 1.51s\n",
            "687:\tlearn: 35199.0717433\ttotal: 3.31s\tremaining: 1.5s\n",
            "688:\tlearn: 35185.4973437\ttotal: 3.32s\tremaining: 1.5s\n",
            "689:\tlearn: 35181.4337366\ttotal: 3.32s\tremaining: 1.49s\n",
            "690:\tlearn: 35172.2588508\ttotal: 3.33s\tremaining: 1.49s\n",
            "691:\tlearn: 35159.8025860\ttotal: 3.33s\tremaining: 1.48s\n",
            "692:\tlearn: 35148.0781664\ttotal: 3.35s\tremaining: 1.48s\n",
            "693:\tlearn: 35134.1746378\ttotal: 3.35s\tremaining: 1.48s\n",
            "694:\tlearn: 35119.0866991\ttotal: 3.36s\tremaining: 1.47s\n",
            "695:\tlearn: 35105.0752688\ttotal: 3.37s\tremaining: 1.47s\n",
            "696:\tlearn: 35087.1188759\ttotal: 3.37s\tremaining: 1.47s\n",
            "697:\tlearn: 35079.0958141\ttotal: 3.38s\tremaining: 1.46s\n",
            "698:\tlearn: 35065.9191548\ttotal: 3.38s\tremaining: 1.46s\n",
            "699:\tlearn: 35051.0333391\ttotal: 3.39s\tremaining: 1.45s\n",
            "700:\tlearn: 35043.5886663\ttotal: 3.39s\tremaining: 1.45s\n",
            "701:\tlearn: 35033.3983823\ttotal: 3.4s\tremaining: 1.44s\n",
            "702:\tlearn: 35022.7287719\ttotal: 3.4s\tremaining: 1.44s\n",
            "703:\tlearn: 35010.3933562\ttotal: 3.41s\tremaining: 1.43s\n",
            "704:\tlearn: 34990.3812696\ttotal: 3.41s\tremaining: 1.43s\n",
            "705:\tlearn: 34985.9648910\ttotal: 3.41s\tremaining: 1.42s\n",
            "706:\tlearn: 34979.5048858\ttotal: 3.42s\tremaining: 1.42s\n",
            "707:\tlearn: 34971.4343134\ttotal: 3.42s\tremaining: 1.41s\n",
            "708:\tlearn: 34962.5792468\ttotal: 3.43s\tremaining: 1.41s\n",
            "709:\tlearn: 34949.5425738\ttotal: 3.43s\tremaining: 1.4s\n",
            "710:\tlearn: 34936.0615861\ttotal: 3.44s\tremaining: 1.4s\n",
            "711:\tlearn: 34924.8649035\ttotal: 3.44s\tremaining: 1.39s\n",
            "712:\tlearn: 34917.5095281\ttotal: 3.45s\tremaining: 1.39s\n",
            "713:\tlearn: 34914.4614559\ttotal: 3.45s\tremaining: 1.38s\n",
            "714:\tlearn: 34911.3664009\ttotal: 3.46s\tremaining: 1.38s\n",
            "715:\tlearn: 34894.6233427\ttotal: 3.46s\tremaining: 1.37s\n",
            "716:\tlearn: 34882.4692672\ttotal: 3.46s\tremaining: 1.37s\n",
            "717:\tlearn: 34874.8640939\ttotal: 3.47s\tremaining: 1.36s\n",
            "718:\tlearn: 34862.4282142\ttotal: 3.47s\tremaining: 1.36s\n",
            "719:\tlearn: 34855.4718225\ttotal: 3.48s\tremaining: 1.35s\n",
            "720:\tlearn: 34836.8117824\ttotal: 3.48s\tremaining: 1.35s\n",
            "721:\tlearn: 34823.1198157\ttotal: 3.48s\tremaining: 1.34s\n",
            "722:\tlearn: 34808.5825988\ttotal: 3.49s\tremaining: 1.34s\n",
            "723:\tlearn: 34796.3353945\ttotal: 3.49s\tremaining: 1.33s\n",
            "724:\tlearn: 34781.8789851\ttotal: 3.5s\tremaining: 1.33s\n",
            "725:\tlearn: 34770.2528426\ttotal: 3.5s\tremaining: 1.32s\n",
            "726:\tlearn: 34761.9122775\ttotal: 3.51s\tremaining: 1.32s\n",
            "727:\tlearn: 34757.7233852\ttotal: 3.51s\tremaining: 1.31s\n",
            "728:\tlearn: 34750.0719799\ttotal: 3.51s\tremaining: 1.31s\n",
            "729:\tlearn: 34735.9229259\ttotal: 3.52s\tremaining: 1.3s\n",
            "730:\tlearn: 34728.9055609\ttotal: 3.52s\tremaining: 1.3s\n",
            "731:\tlearn: 34715.4565737\ttotal: 3.53s\tremaining: 1.29s\n",
            "732:\tlearn: 34707.3414624\ttotal: 3.53s\tremaining: 1.29s\n",
            "733:\tlearn: 34687.8327817\ttotal: 3.54s\tremaining: 1.28s\n",
            "734:\tlearn: 34678.9037756\ttotal: 3.54s\tremaining: 1.28s\n",
            "735:\tlearn: 34669.8222137\ttotal: 3.54s\tremaining: 1.27s\n",
            "736:\tlearn: 34659.5088687\ttotal: 3.55s\tremaining: 1.26s\n",
            "737:\tlearn: 34640.3389728\ttotal: 3.55s\tremaining: 1.26s\n",
            "738:\tlearn: 34632.3887390\ttotal: 3.56s\tremaining: 1.26s\n",
            "739:\tlearn: 34620.9118059\ttotal: 3.56s\tremaining: 1.25s\n",
            "740:\tlearn: 34608.9652059\ttotal: 3.57s\tremaining: 1.25s\n",
            "741:\tlearn: 34596.1351396\ttotal: 3.57s\tremaining: 1.24s\n",
            "742:\tlearn: 34578.3622892\ttotal: 3.58s\tremaining: 1.24s\n",
            "743:\tlearn: 34569.1397602\ttotal: 3.58s\tremaining: 1.23s\n",
            "744:\tlearn: 34559.4202854\ttotal: 3.58s\tremaining: 1.23s\n",
            "745:\tlearn: 34549.7320856\ttotal: 3.59s\tremaining: 1.22s\n",
            "746:\tlearn: 34541.6570358\ttotal: 3.59s\tremaining: 1.22s\n",
            "747:\tlearn: 34532.3639333\ttotal: 3.6s\tremaining: 1.21s\n",
            "748:\tlearn: 34519.0791540\ttotal: 3.6s\tremaining: 1.21s\n",
            "749:\tlearn: 34509.0588354\ttotal: 3.6s\tremaining: 1.2s\n",
            "750:\tlearn: 34502.5101165\ttotal: 3.61s\tremaining: 1.2s\n",
            "751:\tlearn: 34489.5629569\ttotal: 3.61s\tremaining: 1.19s\n",
            "752:\tlearn: 34475.9941522\ttotal: 3.62s\tremaining: 1.19s\n",
            "753:\tlearn: 34466.1936391\ttotal: 3.62s\tremaining: 1.18s\n",
            "754:\tlearn: 34455.7755535\ttotal: 3.63s\tremaining: 1.18s\n",
            "755:\tlearn: 34438.8321186\ttotal: 3.63s\tremaining: 1.17s\n",
            "756:\tlearn: 34426.4890590\ttotal: 3.63s\tremaining: 1.17s\n",
            "757:\tlearn: 34410.3782404\ttotal: 3.64s\tremaining: 1.16s\n",
            "758:\tlearn: 34399.5503928\ttotal: 3.64s\tremaining: 1.16s\n",
            "759:\tlearn: 34388.8819354\ttotal: 3.65s\tremaining: 1.15s\n",
            "760:\tlearn: 34381.4036126\ttotal: 3.65s\tremaining: 1.15s\n",
            "761:\tlearn: 34377.4828640\ttotal: 3.65s\tremaining: 1.14s\n",
            "762:\tlearn: 34367.6204636\ttotal: 3.66s\tremaining: 1.14s\n",
            "763:\tlearn: 34354.6498410\ttotal: 3.66s\tremaining: 1.13s\n",
            "764:\tlearn: 34340.9480042\ttotal: 3.67s\tremaining: 1.13s\n",
            "765:\tlearn: 34336.3178663\ttotal: 3.67s\tremaining: 1.12s\n",
            "766:\tlearn: 34323.4833254\ttotal: 3.67s\tremaining: 1.12s\n",
            "767:\tlearn: 34309.0351068\ttotal: 3.68s\tremaining: 1.11s\n",
            "768:\tlearn: 34288.8194440\ttotal: 3.68s\tremaining: 1.11s\n",
            "769:\tlearn: 34286.2170979\ttotal: 3.69s\tremaining: 1.1s\n",
            "770:\tlearn: 34279.5711318\ttotal: 3.69s\tremaining: 1.1s\n",
            "771:\tlearn: 34265.9243519\ttotal: 3.69s\tremaining: 1.09s\n",
            "772:\tlearn: 34259.8013518\ttotal: 3.7s\tremaining: 1.08s\n",
            "773:\tlearn: 34254.6203164\ttotal: 3.7s\tremaining: 1.08s\n",
            "774:\tlearn: 34242.7304472\ttotal: 3.71s\tremaining: 1.07s\n",
            "775:\tlearn: 34231.2937645\ttotal: 3.71s\tremaining: 1.07s\n",
            "776:\tlearn: 34219.1096891\ttotal: 3.71s\tremaining: 1.06s\n",
            "777:\tlearn: 34210.8077161\ttotal: 3.72s\tremaining: 1.06s\n",
            "778:\tlearn: 34205.3909526\ttotal: 3.72s\tremaining: 1.05s\n",
            "779:\tlearn: 34195.4805276\ttotal: 3.73s\tremaining: 1.05s\n",
            "780:\tlearn: 34184.8903096\ttotal: 3.73s\tremaining: 1.04s\n",
            "781:\tlearn: 34176.9335631\ttotal: 3.73s\tremaining: 1.04s\n",
            "782:\tlearn: 34171.2918919\ttotal: 3.74s\tremaining: 1.04s\n",
            "783:\tlearn: 34158.1427914\ttotal: 3.75s\tremaining: 1.03s\n",
            "784:\tlearn: 34143.2912135\ttotal: 3.76s\tremaining: 1.03s\n",
            "785:\tlearn: 34132.3731868\ttotal: 3.76s\tremaining: 1.02s\n",
            "786:\tlearn: 34117.3774496\ttotal: 3.77s\tremaining: 1.02s\n",
            "787:\tlearn: 34103.9521605\ttotal: 3.78s\tremaining: 1.02s\n",
            "788:\tlearn: 34093.6202591\ttotal: 3.78s\tremaining: 1.01s\n",
            "789:\tlearn: 34080.9141570\ttotal: 3.79s\tremaining: 1.01s\n",
            "790:\tlearn: 34073.4922521\ttotal: 3.8s\tremaining: 1s\n",
            "791:\tlearn: 34062.8186609\ttotal: 3.8s\tremaining: 998ms\n",
            "792:\tlearn: 34051.6784830\ttotal: 3.8s\tremaining: 993ms\n",
            "793:\tlearn: 34040.9942582\ttotal: 3.81s\tremaining: 988ms\n",
            "794:\tlearn: 34030.6593689\ttotal: 3.81s\tremaining: 983ms\n",
            "795:\tlearn: 34019.0198351\ttotal: 3.82s\tremaining: 978ms\n",
            "796:\tlearn: 34012.7032091\ttotal: 3.82s\tremaining: 973ms\n",
            "797:\tlearn: 34004.8729749\ttotal: 3.82s\tremaining: 968ms\n",
            "798:\tlearn: 33990.8810766\ttotal: 3.83s\tremaining: 963ms\n",
            "799:\tlearn: 33983.5133376\ttotal: 3.83s\tremaining: 958ms\n",
            "800:\tlearn: 33976.0678130\ttotal: 3.84s\tremaining: 953ms\n",
            "801:\tlearn: 33959.3994315\ttotal: 3.84s\tremaining: 948ms\n",
            "802:\tlearn: 33951.8538616\ttotal: 3.84s\tremaining: 943ms\n",
            "803:\tlearn: 33941.1923648\ttotal: 3.85s\tremaining: 938ms\n",
            "804:\tlearn: 33930.6193250\ttotal: 3.85s\tremaining: 933ms\n",
            "805:\tlearn: 33924.4649436\ttotal: 3.85s\tremaining: 928ms\n",
            "806:\tlearn: 33919.9363337\ttotal: 3.86s\tremaining: 923ms\n",
            "807:\tlearn: 33907.1357607\ttotal: 3.86s\tremaining: 918ms\n",
            "808:\tlearn: 33896.3020822\ttotal: 3.87s\tremaining: 913ms\n",
            "809:\tlearn: 33883.1287028\ttotal: 3.87s\tremaining: 908ms\n",
            "810:\tlearn: 33875.8359618\ttotal: 3.87s\tremaining: 903ms\n",
            "811:\tlearn: 33870.2908259\ttotal: 3.88s\tremaining: 898ms\n",
            "812:\tlearn: 33865.0430628\ttotal: 3.88s\tremaining: 893ms\n",
            "813:\tlearn: 33852.9369955\ttotal: 3.89s\tremaining: 888ms\n",
            "814:\tlearn: 33842.6216607\ttotal: 3.89s\tremaining: 883ms\n",
            "815:\tlearn: 33836.0817860\ttotal: 3.89s\tremaining: 878ms\n",
            "816:\tlearn: 33825.0144466\ttotal: 3.9s\tremaining: 873ms\n",
            "817:\tlearn: 33811.7622652\ttotal: 3.9s\tremaining: 868ms\n",
            "818:\tlearn: 33800.6616377\ttotal: 3.9s\tremaining: 863ms\n",
            "819:\tlearn: 33787.0401141\ttotal: 3.91s\tremaining: 858ms\n",
            "820:\tlearn: 33781.6122764\ttotal: 3.91s\tremaining: 853ms\n",
            "821:\tlearn: 33770.4573896\ttotal: 3.92s\tremaining: 848ms\n",
            "822:\tlearn: 33765.7580863\ttotal: 3.92s\tremaining: 843ms\n",
            "823:\tlearn: 33756.5809950\ttotal: 3.92s\tremaining: 838ms\n",
            "824:\tlearn: 33745.3598995\ttotal: 3.93s\tremaining: 833ms\n",
            "825:\tlearn: 33739.7490306\ttotal: 3.93s\tremaining: 829ms\n",
            "826:\tlearn: 33729.2658936\ttotal: 3.94s\tremaining: 824ms\n",
            "827:\tlearn: 33720.5215046\ttotal: 3.94s\tremaining: 819ms\n",
            "828:\tlearn: 33711.7200521\ttotal: 3.95s\tremaining: 815ms\n",
            "829:\tlearn: 33704.9348603\ttotal: 3.95s\tremaining: 810ms\n",
            "830:\tlearn: 33695.4343077\ttotal: 3.96s\tremaining: 805ms\n",
            "831:\tlearn: 33689.5808136\ttotal: 3.96s\tremaining: 800ms\n",
            "832:\tlearn: 33677.4368135\ttotal: 3.96s\tremaining: 795ms\n",
            "833:\tlearn: 33667.3677168\ttotal: 3.97s\tremaining: 790ms\n",
            "834:\tlearn: 33659.6465968\ttotal: 3.97s\tremaining: 785ms\n",
            "835:\tlearn: 33648.7153240\ttotal: 3.98s\tremaining: 780ms\n",
            "836:\tlearn: 33632.2006410\ttotal: 3.98s\tremaining: 775ms\n",
            "837:\tlearn: 33618.9510341\ttotal: 3.98s\tremaining: 770ms\n",
            "838:\tlearn: 33612.2049758\ttotal: 3.99s\tremaining: 765ms\n",
            "839:\tlearn: 33604.7072304\ttotal: 3.99s\tremaining: 760ms\n",
            "840:\tlearn: 33601.6375809\ttotal: 4s\tremaining: 755ms\n",
            "841:\tlearn: 33593.5808455\ttotal: 4s\tremaining: 750ms\n",
            "842:\tlearn: 33585.3123708\ttotal: 4s\tremaining: 746ms\n",
            "843:\tlearn: 33569.6090498\ttotal: 4.01s\tremaining: 741ms\n",
            "844:\tlearn: 33562.8529829\ttotal: 4.01s\tremaining: 736ms\n",
            "845:\tlearn: 33552.0651615\ttotal: 4.01s\tremaining: 731ms\n",
            "846:\tlearn: 33544.0794482\ttotal: 4.02s\tremaining: 726ms\n",
            "847:\tlearn: 33533.9617643\ttotal: 4.02s\tremaining: 721ms\n",
            "848:\tlearn: 33528.9450460\ttotal: 4.03s\tremaining: 716ms\n",
            "849:\tlearn: 33522.0245719\ttotal: 4.03s\tremaining: 712ms\n",
            "850:\tlearn: 33514.4340608\ttotal: 4.04s\tremaining: 707ms\n",
            "851:\tlearn: 33507.8667658\ttotal: 4.04s\tremaining: 702ms\n",
            "852:\tlearn: 33498.9352484\ttotal: 4.04s\tremaining: 697ms\n",
            "853:\tlearn: 33493.3442749\ttotal: 4.05s\tremaining: 692ms\n",
            "854:\tlearn: 33474.4065799\ttotal: 4.05s\tremaining: 687ms\n",
            "855:\tlearn: 33467.5234375\ttotal: 4.06s\tremaining: 682ms\n",
            "856:\tlearn: 33454.6401713\ttotal: 4.06s\tremaining: 678ms\n",
            "857:\tlearn: 33446.0567822\ttotal: 4.06s\tremaining: 673ms\n",
            "858:\tlearn: 33435.5814370\ttotal: 4.07s\tremaining: 668ms\n",
            "859:\tlearn: 33429.6261427\ttotal: 4.07s\tremaining: 663ms\n",
            "860:\tlearn: 33421.6472833\ttotal: 4.08s\tremaining: 658ms\n",
            "861:\tlearn: 33409.5748185\ttotal: 4.08s\tremaining: 653ms\n",
            "862:\tlearn: 33398.8129079\ttotal: 4.09s\tremaining: 649ms\n",
            "863:\tlearn: 33392.6225920\ttotal: 4.09s\tremaining: 644ms\n",
            "864:\tlearn: 33383.2691279\ttotal: 4.1s\tremaining: 639ms\n",
            "865:\tlearn: 33374.5927806\ttotal: 4.1s\tremaining: 634ms\n",
            "866:\tlearn: 33372.0103032\ttotal: 4.1s\tremaining: 630ms\n",
            "867:\tlearn: 33361.3245357\ttotal: 4.11s\tremaining: 625ms\n",
            "868:\tlearn: 33350.3954513\ttotal: 4.11s\tremaining: 620ms\n",
            "869:\tlearn: 33341.9158104\ttotal: 4.12s\tremaining: 615ms\n",
            "870:\tlearn: 33328.6435581\ttotal: 4.12s\tremaining: 610ms\n",
            "871:\tlearn: 33316.6329467\ttotal: 4.12s\tremaining: 605ms\n",
            "872:\tlearn: 33309.3810172\ttotal: 4.13s\tremaining: 600ms\n",
            "873:\tlearn: 33301.6954303\ttotal: 4.13s\tremaining: 596ms\n",
            "874:\tlearn: 33292.1030084\ttotal: 4.14s\tremaining: 592ms\n",
            "875:\tlearn: 33282.7079669\ttotal: 4.15s\tremaining: 588ms\n",
            "876:\tlearn: 33275.4494998\ttotal: 4.16s\tremaining: 583ms\n",
            "877:\tlearn: 33266.6975982\ttotal: 4.16s\tremaining: 578ms\n",
            "878:\tlearn: 33257.9084532\ttotal: 4.17s\tremaining: 574ms\n",
            "879:\tlearn: 33247.8219855\ttotal: 4.17s\tremaining: 569ms\n",
            "880:\tlearn: 33239.3534718\ttotal: 4.17s\tremaining: 564ms\n",
            "881:\tlearn: 33234.1763586\ttotal: 4.18s\tremaining: 559ms\n",
            "882:\tlearn: 33224.0776283\ttotal: 4.18s\tremaining: 554ms\n",
            "883:\tlearn: 33215.2773814\ttotal: 4.19s\tremaining: 550ms\n",
            "884:\tlearn: 33202.8341711\ttotal: 4.19s\tremaining: 545ms\n",
            "885:\tlearn: 33191.1693216\ttotal: 4.2s\tremaining: 540ms\n",
            "886:\tlearn: 33183.5129020\ttotal: 4.2s\tremaining: 535ms\n",
            "887:\tlearn: 33175.0674457\ttotal: 4.2s\tremaining: 530ms\n",
            "888:\tlearn: 33166.6184239\ttotal: 4.21s\tremaining: 525ms\n",
            "889:\tlearn: 33159.5178932\ttotal: 4.21s\tremaining: 521ms\n",
            "890:\tlearn: 33149.9238501\ttotal: 4.22s\tremaining: 516ms\n",
            "891:\tlearn: 33139.5289772\ttotal: 4.22s\tremaining: 511ms\n",
            "892:\tlearn: 33130.4928915\ttotal: 4.22s\tremaining: 506ms\n",
            "893:\tlearn: 33121.2206740\ttotal: 4.23s\tremaining: 501ms\n",
            "894:\tlearn: 33110.0317157\ttotal: 4.23s\tremaining: 497ms\n",
            "895:\tlearn: 33104.4069727\ttotal: 4.24s\tremaining: 492ms\n",
            "896:\tlearn: 33095.8174504\ttotal: 4.24s\tremaining: 487ms\n",
            "897:\tlearn: 33085.7123690\ttotal: 4.25s\tremaining: 482ms\n",
            "898:\tlearn: 33073.3149820\ttotal: 4.25s\tremaining: 477ms\n",
            "899:\tlearn: 33066.7117265\ttotal: 4.25s\tremaining: 473ms\n",
            "900:\tlearn: 33054.9892165\ttotal: 4.26s\tremaining: 468ms\n",
            "901:\tlearn: 33045.5302869\ttotal: 4.26s\tremaining: 463ms\n",
            "902:\tlearn: 33034.1628135\ttotal: 4.27s\tremaining: 458ms\n",
            "903:\tlearn: 33023.6970224\ttotal: 4.27s\tremaining: 453ms\n",
            "904:\tlearn: 33014.0416027\ttotal: 4.27s\tremaining: 449ms\n",
            "905:\tlearn: 33007.5481378\ttotal: 4.28s\tremaining: 444ms\n",
            "906:\tlearn: 32997.1427520\ttotal: 4.28s\tremaining: 439ms\n",
            "907:\tlearn: 32981.7813418\ttotal: 4.29s\tremaining: 434ms\n",
            "908:\tlearn: 32969.9286403\ttotal: 4.29s\tremaining: 430ms\n",
            "909:\tlearn: 32963.0899521\ttotal: 4.29s\tremaining: 425ms\n",
            "910:\tlearn: 32952.2181019\ttotal: 4.3s\tremaining: 420ms\n",
            "911:\tlearn: 32941.3178282\ttotal: 4.3s\tremaining: 415ms\n",
            "912:\tlearn: 32924.9670237\ttotal: 4.31s\tremaining: 410ms\n",
            "913:\tlearn: 32908.6698419\ttotal: 4.31s\tremaining: 406ms\n",
            "914:\tlearn: 32903.7101545\ttotal: 4.32s\tremaining: 401ms\n",
            "915:\tlearn: 32891.9660729\ttotal: 4.32s\tremaining: 396ms\n",
            "916:\tlearn: 32886.8348563\ttotal: 4.32s\tremaining: 391ms\n",
            "917:\tlearn: 32882.1741990\ttotal: 4.33s\tremaining: 387ms\n",
            "918:\tlearn: 32874.5984527\ttotal: 4.33s\tremaining: 382ms\n",
            "919:\tlearn: 32863.8179132\ttotal: 4.34s\tremaining: 377ms\n",
            "920:\tlearn: 32857.4416032\ttotal: 4.36s\tremaining: 374ms\n",
            "921:\tlearn: 32853.9924723\ttotal: 4.37s\tremaining: 369ms\n",
            "922:\tlearn: 32847.3322832\ttotal: 4.37s\tremaining: 365ms\n",
            "923:\tlearn: 32843.2801914\ttotal: 4.37s\tremaining: 360ms\n",
            "924:\tlearn: 32829.1824714\ttotal: 4.38s\tremaining: 355ms\n",
            "925:\tlearn: 32825.2346033\ttotal: 4.38s\tremaining: 350ms\n",
            "926:\tlearn: 32815.8691761\ttotal: 4.39s\tremaining: 345ms\n",
            "927:\tlearn: 32810.4565914\ttotal: 4.39s\tremaining: 341ms\n",
            "928:\tlearn: 32803.7805623\ttotal: 4.39s\tremaining: 336ms\n",
            "929:\tlearn: 32799.7131955\ttotal: 4.4s\tremaining: 331ms\n",
            "930:\tlearn: 32794.0475697\ttotal: 4.4s\tremaining: 326ms\n",
            "931:\tlearn: 32783.4770548\ttotal: 4.41s\tremaining: 322ms\n",
            "932:\tlearn: 32776.6982884\ttotal: 4.41s\tremaining: 317ms\n",
            "933:\tlearn: 32770.5451739\ttotal: 4.42s\tremaining: 312ms\n",
            "934:\tlearn: 32766.9912164\ttotal: 4.42s\tremaining: 307ms\n",
            "935:\tlearn: 32757.0409725\ttotal: 4.42s\tremaining: 303ms\n",
            "936:\tlearn: 32747.7513694\ttotal: 4.43s\tremaining: 298ms\n",
            "937:\tlearn: 32739.3169032\ttotal: 4.43s\tremaining: 293ms\n",
            "938:\tlearn: 32734.8650724\ttotal: 4.44s\tremaining: 288ms\n",
            "939:\tlearn: 32719.5358657\ttotal: 4.44s\tremaining: 284ms\n",
            "940:\tlearn: 32706.1309581\ttotal: 4.45s\tremaining: 279ms\n",
            "941:\tlearn: 32698.4159833\ttotal: 4.45s\tremaining: 274ms\n",
            "942:\tlearn: 32691.2750210\ttotal: 4.45s\tremaining: 269ms\n",
            "943:\tlearn: 32680.7093548\ttotal: 4.46s\tremaining: 264ms\n",
            "944:\tlearn: 32669.4323367\ttotal: 4.46s\tremaining: 260ms\n",
            "945:\tlearn: 32660.6941615\ttotal: 4.47s\tremaining: 255ms\n",
            "946:\tlearn: 32648.7779934\ttotal: 4.47s\tremaining: 250ms\n",
            "947:\tlearn: 32643.1003628\ttotal: 4.47s\tremaining: 245ms\n",
            "948:\tlearn: 32637.4159869\ttotal: 4.48s\tremaining: 241ms\n",
            "949:\tlearn: 32623.5358728\ttotal: 4.48s\tremaining: 236ms\n",
            "950:\tlearn: 32617.4146481\ttotal: 4.49s\tremaining: 231ms\n",
            "951:\tlearn: 32611.6338163\ttotal: 4.49s\tremaining: 226ms\n",
            "952:\tlearn: 32599.7156092\ttotal: 4.49s\tremaining: 222ms\n",
            "953:\tlearn: 32588.1885836\ttotal: 4.5s\tremaining: 217ms\n",
            "954:\tlearn: 32580.3227996\ttotal: 4.5s\tremaining: 212ms\n",
            "955:\tlearn: 32573.6304510\ttotal: 4.51s\tremaining: 207ms\n",
            "956:\tlearn: 32564.0203229\ttotal: 4.51s\tremaining: 203ms\n",
            "957:\tlearn: 32558.1433672\ttotal: 4.51s\tremaining: 198ms\n",
            "958:\tlearn: 32549.3942964\ttotal: 4.52s\tremaining: 193ms\n",
            "959:\tlearn: 32542.6832458\ttotal: 4.52s\tremaining: 188ms\n",
            "960:\tlearn: 32532.0252281\ttotal: 4.53s\tremaining: 184ms\n",
            "961:\tlearn: 32525.2012257\ttotal: 4.53s\tremaining: 179ms\n",
            "962:\tlearn: 32519.1867519\ttotal: 4.54s\tremaining: 174ms\n",
            "963:\tlearn: 32508.9069587\ttotal: 4.54s\tremaining: 170ms\n",
            "964:\tlearn: 32505.5463215\ttotal: 4.54s\tremaining: 165ms\n",
            "965:\tlearn: 32493.6748242\ttotal: 4.55s\tremaining: 160ms\n",
            "966:\tlearn: 32489.7171111\ttotal: 4.56s\tremaining: 156ms\n",
            "967:\tlearn: 32478.3787639\ttotal: 4.56s\tremaining: 151ms\n",
            "968:\tlearn: 32465.2529863\ttotal: 4.57s\tremaining: 146ms\n",
            "969:\tlearn: 32459.2725911\ttotal: 4.57s\tremaining: 141ms\n",
            "970:\tlearn: 32448.6008064\ttotal: 4.57s\tremaining: 137ms\n",
            "971:\tlearn: 32434.1095264\ttotal: 4.58s\tremaining: 132ms\n",
            "972:\tlearn: 32427.1914070\ttotal: 4.58s\tremaining: 127ms\n",
            "973:\tlearn: 32411.0108983\ttotal: 4.58s\tremaining: 122ms\n",
            "974:\tlearn: 32402.3298938\ttotal: 4.59s\tremaining: 118ms\n",
            "975:\tlearn: 32395.0149049\ttotal: 4.59s\tremaining: 113ms\n",
            "976:\tlearn: 32390.2533768\ttotal: 4.6s\tremaining: 108ms\n",
            "977:\tlearn: 32382.4266122\ttotal: 4.6s\tremaining: 104ms\n",
            "978:\tlearn: 32372.7198127\ttotal: 4.61s\tremaining: 98.8ms\n",
            "979:\tlearn: 32356.1884556\ttotal: 4.61s\tremaining: 94.1ms\n",
            "980:\tlearn: 32346.6611221\ttotal: 4.61s\tremaining: 89.4ms\n",
            "981:\tlearn: 32333.6621756\ttotal: 4.62s\tremaining: 84.7ms\n",
            "982:\tlearn: 32321.2534234\ttotal: 4.62s\tremaining: 79.9ms\n",
            "983:\tlearn: 32315.1127125\ttotal: 4.63s\tremaining: 75.2ms\n",
            "984:\tlearn: 32305.5877553\ttotal: 4.63s\tremaining: 70.5ms\n",
            "985:\tlearn: 32299.0423006\ttotal: 4.63s\tremaining: 65.8ms\n",
            "986:\tlearn: 32292.2876471\ttotal: 4.64s\tremaining: 61.1ms\n",
            "987:\tlearn: 32285.2184812\ttotal: 4.64s\tremaining: 56.4ms\n",
            "988:\tlearn: 32279.1559411\ttotal: 4.65s\tremaining: 51.7ms\n",
            "989:\tlearn: 32270.9119216\ttotal: 4.65s\tremaining: 47ms\n",
            "990:\tlearn: 32264.3741950\ttotal: 4.66s\tremaining: 42.3ms\n",
            "991:\tlearn: 32256.1313604\ttotal: 4.66s\tremaining: 37.6ms\n",
            "992:\tlearn: 32248.4451434\ttotal: 4.66s\tremaining: 32.9ms\n",
            "993:\tlearn: 32234.3830589\ttotal: 4.67s\tremaining: 28.2ms\n",
            "994:\tlearn: 32225.4450118\ttotal: 4.67s\tremaining: 23.5ms\n",
            "995:\tlearn: 32217.4923380\ttotal: 4.68s\tremaining: 18.8ms\n",
            "996:\tlearn: 32209.8804619\ttotal: 4.68s\tremaining: 14.1ms\n",
            "997:\tlearn: 32201.3459544\ttotal: 4.68s\tremaining: 9.39ms\n",
            "998:\tlearn: 32191.1616329\ttotal: 4.69s\tremaining: 4.69ms\n",
            "999:\tlearn: 32181.8201336\ttotal: 4.69s\tremaining: 0us\n",
            "\u001b[1m\n",
            "R2 score is  0.8125950821481183\n",
            "\u001b[1m\n",
            "Adjusted R2 score is  0.7858229510264209\n",
            "\u001b[1m\n",
            "Mean Absolute Error is 28649.79\n",
            "\u001b[1m\n",
            "Mean Squared Error is 1792975497.44\n",
            "\u001b[1m\n",
            "Root Mean Squared Error is 42343.54\n",
            "\u001b[1m\n",
            "Accuracy of CatBoost is  81.26 %\n"
          ]
        }
      ]
    },
    {
      "cell_type": "markdown",
      "source": [
        "10. Light GBM"
      ],
      "metadata": {
        "id": "2TfD9nUDX654"
      }
    },
    {
      "cell_type": "code",
      "source": [
        "!pip install lightgbm"
      ],
      "metadata": {
        "id": "45zctjbPNQwm",
        "colab": {
          "base_uri": "https://localhost:8080/"
        },
        "outputId": "b2b95443-63ea-42e1-8343-15339b6778e6"
      },
      "execution_count": null,
      "outputs": [
        {
          "output_type": "stream",
          "name": "stdout",
          "text": [
            "Looking in indexes: https://pypi.org/simple, https://us-python.pkg.dev/colab-wheels/public/simple/\n",
            "Requirement already satisfied: lightgbm in /usr/local/lib/python3.7/dist-packages (2.2.3)\n",
            "Requirement already satisfied: scikit-learn in /usr/local/lib/python3.7/dist-packages (from lightgbm) (1.0.2)\n",
            "Requirement already satisfied: numpy in /usr/local/lib/python3.7/dist-packages (from lightgbm) (1.21.6)\n",
            "Requirement already satisfied: scipy in /usr/local/lib/python3.7/dist-packages (from lightgbm) (1.7.3)\n",
            "Requirement already satisfied: joblib>=0.11 in /usr/local/lib/python3.7/dist-packages (from scikit-learn->lightgbm) (1.2.0)\n",
            "Requirement already satisfied: threadpoolctl>=2.0.0 in /usr/local/lib/python3.7/dist-packages (from scikit-learn->lightgbm) (3.1.0)\n"
          ]
        }
      ]
    },
    {
      "cell_type": "code",
      "source": [
        "import lightgbm as lgb\n",
        "\n",
        "lg = lgb.LGBMRegressor()\n",
        "\n",
        "lg.fit(X_train,y_train)\n",
        "\n",
        "y_pred = lg.predict(X_test)\n",
        "\n",
        "accuracy = lg.score(X_test, y_test)\n",
        "accuracy_rounded = round(accuracy*100,2)\n",
        "accuracies['Light GBM'] = accuracy_rounded\n",
        "\n",
        "r2 = metrics.r2_score(y_test, y_pred)\n",
        "Adj_r2 = 1-(1-r2)*(9-1)/(9-1-1)\n",
        "\n",
        "print(color.BOLD + '\\nR2 score is ',r2)\n",
        "\n",
        "print(color.BOLD + '\\nAdjusted R2 score is ',Adj_r2)\n",
        "\n",
        "print(color.BOLD + '\\nMean Absolute Error is',round(metrics.mean_absolute_error(y_test,lg.predict(X_test)),2))\n",
        "\n",
        "print(color.BOLD + '\\nMean Squared Error is',round(metrics.mean_squared_error(y_test,lg.predict(X_test)),2))\n",
        "\n",
        "print(color.BOLD + '\\nRoot Mean Squared Error is',round(np.sqrt(mean_squared_error(y_test,lg.predict(X_test))),2))\n",
        "\n",
        "print(color.BOLD + \"\\nAccuracy of Light GBM is \", accuracy_rounded,'%')\n"
      ],
      "metadata": {
        "id": "mlncLRy8NQrw",
        "colab": {
          "base_uri": "https://localhost:8080/"
        },
        "outputId": "382daa3d-ea5d-41f5-cb2d-100813009345"
      },
      "execution_count": null,
      "outputs": [
        {
          "output_type": "stream",
          "name": "stdout",
          "text": [
            "\u001b[1m\n",
            "R2 score is  0.8026111820763064\n",
            "\u001b[1m\n",
            "Adjusted R2 score is  0.7744127795157788\n",
            "\u001b[1m\n",
            "Mean Absolute Error is 29730.46\n",
            "\u001b[1m\n",
            "Mean Squared Error is 1888495339.73\n",
            "\u001b[1m\n",
            "Root Mean Squared Error is 43456.82\n",
            "\u001b[1m\n",
            "Accuracy of Light GBM is  80.26 %\n"
          ]
        }
      ]
    },
    {
      "cell_type": "markdown",
      "source": [
        " All accuracies together"
      ],
      "metadata": {
        "id": "un6uIi9UX-oM"
      }
    },
    {
      "cell_type": "code",
      "source": [
        "#Verifying how untuned models predict house value\n",
        "print('\\nPrediction of Random Forest is ',rf.predict([[-122.22,37.86,21,7099,1106,2401,1138,8.3014,0]]))      \n",
        "print('\\nPrediction of Ada Boost is ',ada.predict([[-122.22,37.86,21,7099,1106,2401,1138,8.3014,0]])) \n",
        "print('\\nPrediction of Gradient Boost is ',gboost.predict([[-122.22,37.86,21,7099,1106,2401,1138,8.3014,0]]))\n",
        "print('\\nPrediction of Ridge Regression is ',rid.predict([[-122.22,37.86,21,7099,1106,2401,1138,8.3014,0]]))\n",
        "print('\\nPrediction of Lasso Regression is ',lasso.predict([[-122.22,37.86,21,7099,1106,2401,1138,8.3014,0]]))\n",
        "print('\\nPrediction of Elasticnet Regression is ',ela.predict([[-122.22,37.86,21,7099,1106,2401,1138,8.3014,0]]))\n",
        "print('\\nPrediction of Decision Tree is ',dt.predict([[-122.22,37.86,21,7099,1106,2401,1138,8.3014,0]]))\n",
        "print('\\nPrediction of CatBoost is ',cat.predict([[-122.22,37.86,21,7099,1106,2401,1138,8.3014,0]]))\n",
        "print('\\nPrediction of Light GBM is ',lg.predict([[-122.22,37.86,21,7099,1106,2401,1138,8.3014,0]]))"
      ],
      "metadata": {
        "id": "cu1OCL2MNQix",
        "colab": {
          "base_uri": "https://localhost:8080/"
        },
        "outputId": "35a59a94-8584-42fa-84c7-92add1daffde"
      },
      "execution_count": null,
      "outputs": [
        {
          "output_type": "stream",
          "name": "stdout",
          "text": [
            "\n",
            "Prediction of Random Forest is  [381790.]\n",
            "\n",
            "Prediction of Ada Boost is  [329183.15298507]\n",
            "\n",
            "Prediction of Gradient Boost is  [422893.11583499]\n",
            "\n",
            "Prediction of Ridge Regression is  [428254.65672467]\n",
            "\n",
            "Prediction of Lasso Regression is  [428254.45717131]\n",
            "\n",
            "Prediction of Elasticnet Regression is  [411548.25278214]\n",
            "\n",
            "Prediction of Decision Tree is  [358500.]\n",
            "\n",
            "Prediction of CatBoost is  [434418.3781773]\n",
            "\n",
            "Prediction of Light GBM is  [419827.49943628]\n"
          ]
        },
        {
          "output_type": "stream",
          "name": "stderr",
          "text": [
            "/usr/local/lib/python3.7/dist-packages/sklearn/base.py:451: UserWarning: X does not have valid feature names, but RandomForestRegressor was fitted with feature names\n",
            "  \"X does not have valid feature names, but\"\n",
            "/usr/local/lib/python3.7/dist-packages/sklearn/base.py:451: UserWarning: X does not have valid feature names, but AdaBoostRegressor was fitted with feature names\n",
            "  \"X does not have valid feature names, but\"\n",
            "/usr/local/lib/python3.7/dist-packages/sklearn/base.py:451: UserWarning: X does not have valid feature names, but GradientBoostingRegressor was fitted with feature names\n",
            "  \"X does not have valid feature names, but\"\n",
            "/usr/local/lib/python3.7/dist-packages/sklearn/base.py:451: UserWarning: X does not have valid feature names, but Ridge was fitted with feature names\n",
            "  \"X does not have valid feature names, but\"\n",
            "/usr/local/lib/python3.7/dist-packages/sklearn/base.py:451: UserWarning: X does not have valid feature names, but Lasso was fitted with feature names\n",
            "  \"X does not have valid feature names, but\"\n",
            "/usr/local/lib/python3.7/dist-packages/sklearn/base.py:451: UserWarning: X does not have valid feature names, but ElasticNet was fitted with feature names\n",
            "  \"X does not have valid feature names, but\"\n",
            "/usr/local/lib/python3.7/dist-packages/sklearn/base.py:451: UserWarning: X does not have valid feature names, but DecisionTreeRegressor was fitted with feature names\n",
            "  \"X does not have valid feature names, but\"\n"
          ]
        }
      ]
    },
    {
      "cell_type": "code",
      "source": [
        "accuracies"
      ],
      "metadata": {
        "id": "3EKcuTJNNQfp",
        "colab": {
          "base_uri": "https://localhost:8080/"
        },
        "outputId": "322940dc-9a53-4ed4-dfe3-834cb46ce6e2"
      },
      "execution_count": null,
      "outputs": [
        {
          "output_type": "execute_result",
          "data": {
            "text/plain": [
              "{'Random Forest': 78.39,\n",
              " 'Decision Tree': 56.06,\n",
              " 'AdaBoost': 44.73,\n",
              " 'XGBoost': 73.11,\n",
              " 'Gradient Boost': 72.75,\n",
              " 'Ridge Regression': 61.22,\n",
              " 'Lasso Regression': 61.22,\n",
              " 'Elastic Net Regression': 58.51,\n",
              " 'CatBoost': 81.26,\n",
              " 'Light GBM': 80.26}"
            ]
          },
          "metadata": {},
          "execution_count": 122
        }
      ]
    },
    {
      "cell_type": "code",
      "source": [
        "#Plotting accuracies of all the models\n",
        "colors = [\"green\", \"yellow\", \"black\", \"magenta\", \"#0e76a8\", \"red\", \"#34558b\",\"#f0daa4\",\"#3b3d4b\",\"#fd823e\"]\n",
        "\n",
        "sns.set_style(\"whitegrid\")\n",
        "plt.figure(figsize=(18,10))\n",
        "plt.yticks(np.arange(0,100,10))\n",
        "plt.ylabel(\"\\nAccuracy %\",fontsize=20)\n",
        "plt.xlabel(\"\\nAlgorithms\",fontsize=20)\n",
        "sns.barplot(x=list(accuracies.keys()), y=list(accuracies.values()), palette=colors)\n",
        "plt.show()"
      ],
      "metadata": {
        "id": "6kwLQ6yfNQcO",
        "colab": {
          "base_uri": "https://localhost:8080/",
          "height": 637
        },
        "outputId": "2188e1ad-cf83-4997-ee97-8fa69b779a8c"
      },
      "execution_count": null,
      "outputs": [
        {
          "output_type": "display_data",
          "data": {
            "text/plain": [
              "<Figure size 1296x720 with 1 Axes>"
            ],
            "image/png": "[encoded data removed]"
          },
          "metadata": {}
        }
      ]
    },
    {
      "cell_type": "markdown",
      "source": [
        "CatBoost performs the best without tuning.\n",
        "\n",
        "Hyperparameter Tuning Let's try to increase the accuracy of the top performing models on this dataset -\n",
        "\n",
        "1.RandomForest\n",
        "\n",
        "2.CatBoost\n",
        "\n",
        "3.LightGBM"
      ],
      "metadata": {
        "id": "xakAXWDGYFmF"
      }
    },
    {
      "cell_type": "code",
      "source": [
        "from sklearn.model_selection import RepeatedKFold\n",
        "from sklearn.model_selection import GridSearchCV\n",
        "from sklearn.model_selection import RandomizedSearchCV\n",
        "import numpy as np"
      ],
      "metadata": {
        "id": "aYKHDUPeNQYX"
      },
      "execution_count": null,
      "outputs": []
    },
    {
      "cell_type": "markdown",
      "source": [
        "Random Forest Tuning"
      ],
      "metadata": {
        "id": "LYB779cTYJ3B"
      }
    },
    {
      "cell_type": "code",
      "source": [
        "#Randomized Search CV\n",
        "\n",
        "# Number of trees in the random forest\n",
        "n_estimators = [int(x) for x in np.linspace(start = 5, stop = 300, num = 6)]\n",
        "\n",
        "# Number of features to consider at every split\n",
        "max_features = ['auto', 'sqrt', 'log2']\n",
        "\n",
        "# Maximum number of levels in tree\n",
        "max_depth = [int(x) for x in np.linspace(10, 120, num = 12)]\n",
        "max_depth.append(None)\n",
        "\n",
        "# Minimum number of samples required to split a node\n",
        "min_samples_split = [2, 5, 10, 13, 16]\n",
        "\n",
        "# Minimum number of samples required at each leaf node\n",
        "min_samples_leaf = [1, 2, 4, 8]\n",
        "\n",
        "# Method of selecting samples for training each tree\n",
        "bootstrap = [True, False]\n",
        "\n",
        "# Create the random grid\n",
        "random_grid = {'n_estimators': n_estimators,\n",
        "               'max_features': max_features,\n",
        "               'max_depth': max_depth,\n",
        "               'min_samples_split': min_samples_split,\n",
        "               'min_samples_leaf': min_samples_leaf,\n",
        "               'bootstrap': bootstrap}\n",
        "\n",
        "\n",
        "print(random_grid)"
      ],
      "metadata": {
        "id": "JyTj882pNQVW",
        "colab": {
          "base_uri": "https://localhost:8080/"
        },
        "outputId": "c2bc1377-715b-49d7-efe2-4161135b445e"
      },
      "execution_count": null,
      "outputs": [
        {
          "output_type": "stream",
          "name": "stdout",
          "text": [
            "{'n_estimators': [5, 64, 123, 182, 241, 300], 'max_features': ['auto', 'sqrt', 'log2'], 'max_depth': [10, 20, 30, 40, 50, 60, 70, 80, 90, 100, 110, 120, None], 'min_samples_split': [2, 5, 10, 13, 16], 'min_samples_leaf': [1, 2, 4, 8], 'bootstrap': [True, False]}\n"
          ]
        }
      ]
    },
    {
      "cell_type": "code",
      "source": [
        "rf_random = RandomizedSearchCV(estimator = rf, \n",
        "                               param_distributions = random_grid, \n",
        "                               n_iter = 9, \n",
        "                               cv = 4, \n",
        "                               verbose=0,\n",
        "                               random_state=42, \n",
        "                               n_jobs = -1)\n",
        "\n",
        "rf_random.fit(X_train, y_train)"
      ],
      "metadata": {
        "id": "U8aBoIrvU-zr",
        "colab": {
          "base_uri": "https://localhost:8080/"
        },
        "outputId": "3bdca43b-7f63-4223-a02b-7c305fff6f27"
      },
      "execution_count": null,
      "outputs": [
        {
          "output_type": "execute_result",
          "data": {
            "text/plain": [
              "RandomizedSearchCV(cv=4, estimator=RandomForestRegressor(random_state=0),\n",
              "                   n_iter=9, n_jobs=-1,\n",
              "                   param_distributions={'bootstrap': [True, False],\n",
              "                                        'max_depth': [10, 20, 30, 40, 50, 60,\n",
              "                                                      70, 80, 90, 100, 110, 120,\n",
              "                                                      None],\n",
              "                                        'max_features': ['auto', 'sqrt',\n",
              "                                                         'log2'],\n",
              "                                        'min_samples_leaf': [1, 2, 4, 8],\n",
              "                                        'min_samples_split': [2, 5, 10, 13, 16],\n",
              "                                        'n_estimators': [5, 64, 123, 182, 241,\n",
              "                                                         300]},\n",
              "                   random_state=42)"
            ]
          },
          "metadata": {},
          "execution_count": 126
        }
      ]
    },
    {
      "cell_type": "code",
      "source": [
        "rf_random.best_params_"
      ],
      "metadata": {
        "id": "qF4tS9-UU-vk",
        "colab": {
          "base_uri": "https://localhost:8080/"
        },
        "outputId": "644ca9a1-147d-4847-dd18-657c38189903"
      },
      "execution_count": null,
      "outputs": [
        {
          "output_type": "execute_result",
          "data": {
            "text/plain": [
              "{'n_estimators': 64,\n",
              " 'min_samples_split': 2,\n",
              " 'min_samples_leaf': 2,\n",
              " 'max_features': 'sqrt',\n",
              " 'max_depth': 20,\n",
              " 'bootstrap': False}"
            ]
          },
          "metadata": {},
          "execution_count": 127
        }
      ]
    },
    {
      "cell_type": "code",
      "source": [
        "#Predict on test data\n",
        "y_pred = rf_random.predict(X_test)\n",
        "\n",
        "#Metrics Calculation\n",
        "r2 = round(metrics.r2_score(y_test, y_pred),2)\n",
        "Adj_r2 = round(1-(1-r2)*(9-1)/(9-1-1),2)\n",
        "\n",
        "#Display results\n",
        "print(color.BOLD + '\\nR2 score is ',r2)\n",
        "\n",
        "print(color.BOLD + '\\nAdjusted R2 score is ',Adj_r2)\n",
        "\n",
        "print(color.BOLD + '\\nMean Absolute Error is',round(metrics.mean_absolute_error(y_test,rf_random.predict(X_test)),2))\n",
        "\n",
        "print(color.BOLD + '\\nMean Squared Error is',round(metrics.mean_squared_error(y_test,rf_random.predict(X_test)),2))\n",
        "\n",
        "print(color.BOLD + '\\nRoot Mean Squared Error is',round(np.sqrt(mean_squared_error(y_test,rf_random.predict(X_test))),2))\n"
      ],
      "metadata": {
        "id": "mCzsYpWbU-q2",
        "colab": {
          "base_uri": "https://localhost:8080/"
        },
        "outputId": "5aff6460-b6b9-4d16-efcc-a491e43bafc0"
      },
      "execution_count": null,
      "outputs": [
        {
          "output_type": "stream",
          "name": "stdout",
          "text": [
            "\u001b[1m\n",
            "R2 score is  0.78\n",
            "\u001b[1m\n",
            "Adjusted R2 score is  0.75\n",
            "\u001b[1m\n",
            "Mean Absolute Error is 31013.86\n",
            "\u001b[1m\n",
            "Mean Squared Error is 2083101772.58\n",
            "\u001b[1m\n",
            "Root Mean Squared Error is 45641.01\n"
          ]
        }
      ]
    },
    {
      "cell_type": "code",
      "source": [
        "#Grid Search CV\n",
        "\n",
        "param_grid = {\n",
        "    'bootstrap': [True],\n",
        "    'max_depth': [80, 90, 100],\n",
        "    'max_features': [2, 3],\n",
        "    'min_samples_leaf': [3, 4, 5],\n",
        "    'min_samples_split': [4, 8, 10],\n",
        "    'n_estimators': [100, 200, 300]\n",
        "}\n",
        "\n",
        "# Instantiate the grid search model\n",
        "grid_search = GridSearchCV(estimator = rf, param_grid = param_grid, cv = 2, n_jobs = -1, verbose = 0)\n",
        "\n",
        "grid_search.fit(X_train,y_train)\n",
        "\n",
        "grid_search.best_params_"
      ],
      "metadata": {
        "id": "94YSseiEU-mI",
        "colab": {
          "base_uri": "https://localhost:8080/"
        },
        "outputId": "9ce46d33-3509-4470-a8b3-5b80060255ea"
      },
      "execution_count": null,
      "outputs": [
        {
          "output_type": "execute_result",
          "data": {
            "text/plain": [
              "{'bootstrap': True,\n",
              " 'max_depth': 80,\n",
              " 'max_features': 3,\n",
              " 'min_samples_leaf': 3,\n",
              " 'min_samples_split': 4,\n",
              " 'n_estimators': 200}"
            ]
          },
          "metadata": {},
          "execution_count": 129
        }
      ]
    },
    {
      "cell_type": "code",
      "source": [
        "best_grid = grid_search.best_estimator_\n",
        "best_grid"
      ],
      "metadata": {
        "id": "vYp4_99cU-gy",
        "colab": {
          "base_uri": "https://localhost:8080/"
        },
        "outputId": "f0ef46e3-6b3c-416f-91d9-e881de1cf989"
      },
      "execution_count": null,
      "outputs": [
        {
          "output_type": "execute_result",
          "data": {
            "text/plain": [
              "RandomForestRegressor(max_depth=80, max_features=3, min_samples_leaf=3,\n",
              "                      min_samples_split=4, n_estimators=200, random_state=0)"
            ]
          },
          "metadata": {},
          "execution_count": 130
        }
      ]
    },
    {
      "cell_type": "code",
      "source": [
        "#Predict on test data\n",
        "y_pred = best_grid.predict(X_test)\n",
        "\n",
        "#Metrics Calculation\n",
        "r2 = round(metrics.r2_score(y_test, y_pred),2)\n",
        "Adj_r2 = round(1-(1-r2)*(9-1)/(9-1-1),2)\n",
        "\n",
        "#Display results\n",
        "print(color.BOLD + '\\nR2 score is ',r2)\n",
        "\n",
        "print(color.BOLD + '\\nAdjusted R2 score is ',Adj_r2)\n",
        "\n",
        "print(color.BOLD + '\\nMean Absolute Error is',round(metrics.mean_absolute_error(y_test,rf_random.predict(X_test)),2))\n",
        "\n",
        "print(color.BOLD + '\\nMean Squared Error is',round(metrics.mean_squared_error(y_test,rf_random.predict(X_test)),2))\n",
        "\n",
        "print(color.BOLD + '\\nRoot Mean Squared Error is',round(np.sqrt(mean_squared_error(y_test,rf_random.predict(X_test))),2))"
      ],
      "metadata": {
        "id": "1K87w29WU-bc",
        "colab": {
          "base_uri": "https://localhost:8080/"
        },
        "outputId": "18c934ec-3074-46fc-f6b1-a76d4fea1f20"
      },
      "execution_count": null,
      "outputs": [
        {
          "output_type": "stream",
          "name": "stdout",
          "text": [
            "\u001b[1m\n",
            "R2 score is  0.77\n",
            "\u001b[1m\n",
            "Adjusted R2 score is  0.74\n",
            "\u001b[1m\n",
            "Mean Absolute Error is 31013.86\n",
            "\u001b[1m\n",
            "Mean Squared Error is 2083101772.58\n",
            "\u001b[1m\n",
            "Root Mean Squared Error is 45641.01\n"
          ]
        }
      ]
    },
    {
      "cell_type": "markdown",
      "source": [
        "CatBoost Tuning"
      ],
      "metadata": {
        "id": "qWvnfaIlYPxr"
      }
    },
    {
      "cell_type": "code",
      "source": [
        "#Randomized Search CV\n",
        "n_estimators = [int(x) for x in np.linspace(start = 5 , stop = 150, num = 2)]\n",
        "\n",
        "max_depth = [int(x) for x in np.linspace(2, 120, num = 2)] \n",
        "\n",
        "max_depth.append(None)\n",
        "\n",
        "grid = {'n_estimators': n_estimators, 'learning_rate' : np.linspace(0,0.3,5)}\n",
        "\n",
        "print(grid)"
      ],
      "metadata": {
        "id": "v87c2JSkU-Ua",
        "colab": {
          "base_uri": "https://localhost:8080/"
        },
        "outputId": "d5478f3d-2d7e-40c2-89a9-848a6443f36e"
      },
      "execution_count": null,
      "outputs": [
        {
          "output_type": "stream",
          "name": "stdout",
          "text": [
            "{'n_estimators': [5, 150], 'learning_rate': array([0.   , 0.075, 0.15 , 0.225, 0.3  ])}\n"
          ]
        }
      ]
    },
    {
      "cell_type": "code",
      "source": [
        "rscv = RandomizedSearchCV(      estimator=cat, \n",
        "                                param_distributions=grid, \n",
        "                                n_iter = 10, \n",
        "                                scoring='r2',\n",
        "                                cv = 5, \n",
        "                                verbose=0, \n",
        "                                random_state=42,\n",
        "                                n_jobs=-1,\n",
        "                                return_train_score=True)\n",
        "\n",
        "rscv.fit(X_train, y_train)\n"
      ],
      "metadata": {
        "id": "Sg0ZdvxSVOe8",
        "colab": {
          "base_uri": "https://localhost:8080/"
        },
        "outputId": "2e7ca7cf-6e1c-471e-ca48-204835b98fb5"
      },
      "execution_count": null,
      "outputs": [
        {
          "output_type": "stream",
          "name": "stderr",
          "text": [
            "/usr/local/lib/python3.7/dist-packages/sklearn/model_selection/_validation.py:372: FitFailedWarning: \n",
            "10 fits failed out of a total of 50.\n",
            "The score on these train-test partitions for these parameters will be set to nan.\n",
            "If these failures are not expected, you can try to debug them by setting error_score='raise'.\n",
            "\n",
            "Below are more details about the failures:\n",
            "--------------------------------------------------------------------------------\n",
            "10 fits failed with the following error:\n",
            "Traceback (most recent call last):\n",
            "  File \"/usr/local/lib/python3.7/dist-packages/sklearn/model_selection/_validation.py\", line 680, in _fit_and_score\n",
            "    estimator.fit(X_train, y_train, **fit_params)\n",
            "  File \"/usr/local/lib/python3.7/dist-packages/catboost/core.py\", line 5733, in fit\n",
            "    save_snapshot, snapshot_file, snapshot_interval, init_model, callbacks, log_cout, log_cerr)\n",
            "  File \"/usr/local/lib/python3.7/dist-packages/catboost/core.py\", line 2347, in _fit\n",
            "    callbacks=callbacks\n",
            "  File \"/usr/local/lib/python3.7/dist-packages/catboost/core.py\", line 2266, in _prepare_train_params\n",
            "    _check_train_params(params)\n",
            "  File \"_catboost.pyx\", line 6080, in _catboost._check_train_params\n",
            "  File \"_catboost.pyx\", line 6099, in _catboost._check_train_params\n",
            "_catboost.CatBoostError: catboost/private/libs/options/boosting_options.cpp:79: Learning rate should be non-zero\n",
            "\n",
            "  warnings.warn(some_fits_failed_message, FitFailedWarning)\n",
            "/usr/local/lib/python3.7/dist-packages/sklearn/model_selection/_search.py:972: UserWarning: One or more of the test scores are non-finite: [       nan        nan 0.29364195 0.75623247 0.44870783 0.78733207\n",
            " 0.53517461 0.79428533 0.58849153 0.79576101]\n",
            "  category=UserWarning,\n",
            "/usr/local/lib/python3.7/dist-packages/sklearn/model_selection/_search.py:972: UserWarning: One or more of the train scores are non-finite: [       nan        nan 0.29561856 0.78490982 0.45320656 0.83759284\n",
            " 0.54004183 0.86179968 0.5948238  0.8782577 ]\n",
            "  category=UserWarning,\n"
          ]
        },
        {
          "output_type": "stream",
          "name": "stdout",
          "text": [
            "0:\tlearn: 83331.4776399\ttotal: 5.11ms\tremaining: 761ms\n",
            "1:\tlearn: 74371.1660258\ttotal: 9.85ms\tremaining: 729ms\n",
            "2:\tlearn: 68433.7658096\ttotal: 14.2ms\tremaining: 696ms\n",
            "3:\tlearn: 64807.4565697\ttotal: 18.5ms\tremaining: 675ms\n",
            "4:\tlearn: 62539.5249129\ttotal: 22.6ms\tremaining: 656ms\n",
            "5:\tlearn: 60270.3231135\ttotal: 26.8ms\tremaining: 644ms\n",
            "6:\tlearn: 58915.6827212\ttotal: 31ms\tremaining: 634ms\n",
            "7:\tlearn: 57694.7261436\ttotal: 35.2ms\tremaining: 624ms\n",
            "8:\tlearn: 56666.1087999\ttotal: 39.4ms\tremaining: 618ms\n",
            "9:\tlearn: 55996.1428488\ttotal: 43.2ms\tremaining: 605ms\n",
            "10:\tlearn: 55333.5908188\ttotal: 47.3ms\tremaining: 598ms\n",
            "11:\tlearn: 54903.2379916\ttotal: 51.4ms\tremaining: 591ms\n",
            "12:\tlearn: 54237.0048624\ttotal: 55.7ms\tremaining: 587ms\n",
            "13:\tlearn: 53711.6720334\ttotal: 59.5ms\tremaining: 578ms\n",
            "14:\tlearn: 53323.2471115\ttotal: 63.2ms\tremaining: 569ms\n",
            "15:\tlearn: 53098.0326724\ttotal: 66.9ms\tremaining: 560ms\n",
            "16:\tlearn: 52121.4216932\ttotal: 70.8ms\tremaining: 554ms\n",
            "17:\tlearn: 51806.5779746\ttotal: 74.5ms\tremaining: 547ms\n",
            "18:\tlearn: 51467.2585642\ttotal: 78.3ms\tremaining: 540ms\n",
            "19:\tlearn: 51043.9739000\ttotal: 82.1ms\tremaining: 534ms\n",
            "20:\tlearn: 50869.3764023\ttotal: 85.9ms\tremaining: 528ms\n",
            "21:\tlearn: 50656.3358449\ttotal: 93.5ms\tremaining: 544ms\n",
            "22:\tlearn: 50271.1816247\ttotal: 97.5ms\tremaining: 538ms\n",
            "23:\tlearn: 49757.2562356\ttotal: 102ms\tremaining: 534ms\n",
            "24:\tlearn: 49430.5842777\ttotal: 106ms\tremaining: 530ms\n",
            "25:\tlearn: 48942.6834419\ttotal: 110ms\tremaining: 525ms\n",
            "26:\tlearn: 48688.8419471\ttotal: 114ms\tremaining: 520ms\n",
            "27:\tlearn: 48395.3142677\ttotal: 118ms\tremaining: 515ms\n",
            "28:\tlearn: 48200.5442741\ttotal: 123ms\tremaining: 511ms\n",
            "29:\tlearn: 48048.7376824\ttotal: 127ms\tremaining: 507ms\n",
            "30:\tlearn: 47863.4999138\ttotal: 131ms\tremaining: 502ms\n",
            "31:\tlearn: 47692.5786042\ttotal: 135ms\tremaining: 498ms\n",
            "32:\tlearn: 47563.9094261\ttotal: 139ms\tremaining: 493ms\n",
            "33:\tlearn: 47353.9077749\ttotal: 143ms\tremaining: 488ms\n",
            "34:\tlearn: 47156.2593297\ttotal: 147ms\tremaining: 484ms\n",
            "35:\tlearn: 46790.6491638\ttotal: 151ms\tremaining: 479ms\n",
            "36:\tlearn: 46663.9407110\ttotal: 155ms\tremaining: 474ms\n",
            "37:\tlearn: 46347.0923567\ttotal: 159ms\tremaining: 469ms\n",
            "38:\tlearn: 46112.2788096\ttotal: 163ms\tremaining: 465ms\n",
            "39:\tlearn: 45873.9427137\ttotal: 168ms\tremaining: 461ms\n",
            "40:\tlearn: 45730.6661495\ttotal: 174ms\tremaining: 463ms\n",
            "41:\tlearn: 45491.0637356\ttotal: 179ms\tremaining: 461ms\n",
            "42:\tlearn: 45305.2273885\ttotal: 183ms\tremaining: 456ms\n",
            "43:\tlearn: 45115.1669918\ttotal: 187ms\tremaining: 450ms\n",
            "44:\tlearn: 44919.0109466\ttotal: 191ms\tremaining: 445ms\n",
            "45:\tlearn: 44732.9090567\ttotal: 194ms\tremaining: 440ms\n",
            "46:\tlearn: 44568.9909361\ttotal: 202ms\tremaining: 443ms\n",
            "47:\tlearn: 44436.7778437\ttotal: 206ms\tremaining: 437ms\n",
            "48:\tlearn: 44231.1305670\ttotal: 210ms\tremaining: 432ms\n",
            "49:\tlearn: 44029.9455487\ttotal: 214ms\tremaining: 428ms\n",
            "50:\tlearn: 43777.9248039\ttotal: 218ms\tremaining: 423ms\n",
            "51:\tlearn: 43597.4686523\ttotal: 222ms\tremaining: 418ms\n",
            "52:\tlearn: 43431.6455989\ttotal: 226ms\tremaining: 413ms\n",
            "53:\tlearn: 43301.4608908\ttotal: 230ms\tremaining: 408ms\n",
            "54:\tlearn: 43142.5640955\ttotal: 234ms\tremaining: 404ms\n",
            "55:\tlearn: 42920.8970337\ttotal: 238ms\tremaining: 399ms\n",
            "56:\tlearn: 42773.0607900\ttotal: 242ms\tremaining: 395ms\n",
            "57:\tlearn: 42683.2677885\ttotal: 246ms\tremaining: 390ms\n",
            "58:\tlearn: 42542.0749223\ttotal: 250ms\tremaining: 386ms\n",
            "59:\tlearn: 42448.1172614\ttotal: 254ms\tremaining: 381ms\n",
            "60:\tlearn: 42263.8523646\ttotal: 258ms\tremaining: 377ms\n",
            "61:\tlearn: 42103.4685036\ttotal: 263ms\tremaining: 373ms\n",
            "62:\tlearn: 42027.5219714\ttotal: 267ms\tremaining: 368ms\n",
            "63:\tlearn: 41935.1085975\ttotal: 271ms\tremaining: 364ms\n",
            "64:\tlearn: 41821.5196341\ttotal: 275ms\tremaining: 360ms\n",
            "65:\tlearn: 41745.5511562\ttotal: 279ms\tremaining: 355ms\n",
            "66:\tlearn: 41645.9131890\ttotal: 283ms\tremaining: 350ms\n",
            "67:\tlearn: 41522.8287930\ttotal: 287ms\tremaining: 346ms\n",
            "68:\tlearn: 41432.3023421\ttotal: 291ms\tremaining: 342ms\n",
            "69:\tlearn: 41349.2644438\ttotal: 295ms\tremaining: 337ms\n",
            "70:\tlearn: 41224.8400454\ttotal: 299ms\tremaining: 333ms\n",
            "71:\tlearn: 41136.0718556\ttotal: 304ms\tremaining: 329ms\n",
            "72:\tlearn: 41058.7259505\ttotal: 308ms\tremaining: 325ms\n",
            "73:\tlearn: 40938.1276509\ttotal: 312ms\tremaining: 320ms\n",
            "74:\tlearn: 40841.7174377\ttotal: 316ms\tremaining: 316ms\n",
            "75:\tlearn: 40739.7604610\ttotal: 320ms\tremaining: 312ms\n",
            "76:\tlearn: 40600.2903344\ttotal: 324ms\tremaining: 308ms\n",
            "77:\tlearn: 40488.7569927\ttotal: 329ms\tremaining: 303ms\n",
            "78:\tlearn: 40356.8075338\ttotal: 332ms\tremaining: 299ms\n",
            "79:\tlearn: 40292.9437701\ttotal: 336ms\tremaining: 294ms\n",
            "80:\tlearn: 40186.6188995\ttotal: 341ms\tremaining: 290ms\n",
            "81:\tlearn: 40073.4518815\ttotal: 345ms\tremaining: 286ms\n",
            "82:\tlearn: 39983.3674690\ttotal: 349ms\tremaining: 281ms\n",
            "83:\tlearn: 39903.4084602\ttotal: 352ms\tremaining: 277ms\n",
            "84:\tlearn: 39785.1422483\ttotal: 357ms\tremaining: 273ms\n",
            "85:\tlearn: 39700.5087600\ttotal: 360ms\tremaining: 268ms\n",
            "86:\tlearn: 39542.6411201\ttotal: 364ms\tremaining: 264ms\n",
            "87:\tlearn: 39425.0591746\ttotal: 368ms\tremaining: 260ms\n",
            "88:\tlearn: 39319.9254619\ttotal: 372ms\tremaining: 255ms\n",
            "89:\tlearn: 39229.1147864\ttotal: 377ms\tremaining: 251ms\n",
            "90:\tlearn: 39119.9886546\ttotal: 381ms\tremaining: 247ms\n",
            "91:\tlearn: 39035.8495430\ttotal: 385ms\tremaining: 242ms\n",
            "92:\tlearn: 38938.3200294\ttotal: 388ms\tremaining: 238ms\n",
            "93:\tlearn: 38830.9586974\ttotal: 393ms\tremaining: 234ms\n",
            "94:\tlearn: 38757.7462486\ttotal: 399ms\tremaining: 231ms\n",
            "95:\tlearn: 38670.1848154\ttotal: 404ms\tremaining: 227ms\n",
            "96:\tlearn: 38593.8392764\ttotal: 409ms\tremaining: 224ms\n",
            "97:\tlearn: 38542.3272834\ttotal: 413ms\tremaining: 219ms\n",
            "98:\tlearn: 38463.5518888\ttotal: 417ms\tremaining: 215ms\n",
            "99:\tlearn: 38377.6842658\ttotal: 421ms\tremaining: 211ms\n",
            "100:\tlearn: 38302.5798428\ttotal: 425ms\tremaining: 206ms\n",
            "101:\tlearn: 38222.0226108\ttotal: 429ms\tremaining: 202ms\n",
            "102:\tlearn: 38160.8159951\ttotal: 433ms\tremaining: 198ms\n",
            "103:\tlearn: 38112.3449228\ttotal: 437ms\tremaining: 193ms\n",
            "104:\tlearn: 38017.3614150\ttotal: 441ms\tremaining: 189ms\n",
            "105:\tlearn: 37946.2229424\ttotal: 445ms\tremaining: 185ms\n",
            "106:\tlearn: 37856.0721882\ttotal: 449ms\tremaining: 180ms\n",
            "107:\tlearn: 37773.0606176\ttotal: 453ms\tremaining: 176ms\n",
            "108:\tlearn: 37688.0083009\ttotal: 457ms\tremaining: 172ms\n",
            "109:\tlearn: 37609.1654036\ttotal: 461ms\tremaining: 168ms\n",
            "110:\tlearn: 37550.5366836\ttotal: 465ms\tremaining: 163ms\n",
            "111:\tlearn: 37478.1725080\ttotal: 469ms\tremaining: 159ms\n",
            "112:\tlearn: 37393.9803298\ttotal: 473ms\tremaining: 155ms\n",
            "113:\tlearn: 37307.0126076\ttotal: 477ms\tremaining: 151ms\n",
            "114:\tlearn: 37236.5794664\ttotal: 481ms\tremaining: 146ms\n",
            "115:\tlearn: 37179.5625130\ttotal: 485ms\tremaining: 142ms\n",
            "116:\tlearn: 37112.4948273\ttotal: 490ms\tremaining: 138ms\n",
            "117:\tlearn: 37042.1001412\ttotal: 494ms\tremaining: 134ms\n",
            "118:\tlearn: 36974.0935712\ttotal: 500ms\tremaining: 130ms\n",
            "119:\tlearn: 36893.5014576\ttotal: 504ms\tremaining: 126ms\n",
            "120:\tlearn: 36828.5645737\ttotal: 508ms\tremaining: 122ms\n",
            "121:\tlearn: 36768.4512834\ttotal: 512ms\tremaining: 117ms\n",
            "122:\tlearn: 36705.3469970\ttotal: 516ms\tremaining: 113ms\n",
            "123:\tlearn: 36660.7925188\ttotal: 520ms\tremaining: 109ms\n",
            "124:\tlearn: 36629.8312773\ttotal: 524ms\tremaining: 105ms\n",
            "125:\tlearn: 36586.5927850\ttotal: 528ms\tremaining: 100ms\n",
            "126:\tlearn: 36486.6360337\ttotal: 532ms\tremaining: 96.3ms\n",
            "127:\tlearn: 36432.9366823\ttotal: 536ms\tremaining: 92.1ms\n",
            "128:\tlearn: 36380.8158095\ttotal: 540ms\tremaining: 87.9ms\n",
            "129:\tlearn: 36319.1370594\ttotal: 544ms\tremaining: 83.7ms\n",
            "130:\tlearn: 36264.8317366\ttotal: 548ms\tremaining: 79.4ms\n",
            "131:\tlearn: 36213.5695895\ttotal: 552ms\tremaining: 75.2ms\n",
            "132:\tlearn: 36173.3188293\ttotal: 556ms\tremaining: 71ms\n",
            "133:\tlearn: 36111.5898418\ttotal: 559ms\tremaining: 66.8ms\n",
            "134:\tlearn: 36047.3075056\ttotal: 563ms\tremaining: 62.6ms\n",
            "135:\tlearn: 35972.7755038\ttotal: 568ms\tremaining: 58.4ms\n",
            "136:\tlearn: 35936.7723552\ttotal: 571ms\tremaining: 54.2ms\n",
            "137:\tlearn: 35864.2544073\ttotal: 575ms\tremaining: 50ms\n",
            "138:\tlearn: 35796.1275686\ttotal: 579ms\tremaining: 45.8ms\n",
            "139:\tlearn: 35724.2482689\ttotal: 583ms\tremaining: 41.7ms\n",
            "140:\tlearn: 35637.1060701\ttotal: 587ms\tremaining: 37.5ms\n",
            "141:\tlearn: 35576.6947447\ttotal: 591ms\tremaining: 33.3ms\n",
            "142:\tlearn: 35542.3540837\ttotal: 600ms\tremaining: 29.4ms\n",
            "143:\tlearn: 35473.0385703\ttotal: 604ms\tremaining: 25.2ms\n",
            "144:\tlearn: 35420.1218758\ttotal: 608ms\tremaining: 21ms\n",
            "145:\tlearn: 35357.7111546\ttotal: 612ms\tremaining: 16.8ms\n",
            "146:\tlearn: 35280.4041591\ttotal: 616ms\tremaining: 12.6ms\n",
            "147:\tlearn: 35216.1336872\ttotal: 621ms\tremaining: 8.39ms\n",
            "148:\tlearn: 35165.9915862\ttotal: 625ms\tremaining: 4.19ms\n",
            "149:\tlearn: 35101.4978370\ttotal: 629ms\tremaining: 0us\n"
          ]
        },
        {
          "output_type": "execute_result",
          "data": {
            "text/plain": [
              "RandomizedSearchCV(cv=5,\n",
              "                   estimator=<catboost.core.CatBoostRegressor object at 0x7f59dc881cd0>,\n",
              "                   n_jobs=-1,\n",
              "                   param_distributions={'learning_rate': array([0.   , 0.075, 0.15 , 0.225, 0.3  ]),\n",
              "                                        'n_estimators': [5, 150]},\n",
              "                   random_state=42, return_train_score=True, scoring='r2')"
            ]
          },
          "metadata": {},
          "execution_count": 133
        }
      ]
    },
    {
      "cell_type": "code",
      "source": [
        "# summarize result\n",
        "print(rscv.best_params_)\n",
        "print(rscv.score(X_test , y_test))"
      ],
      "metadata": {
        "id": "7AQ8qRNgVObA",
        "colab": {
          "base_uri": "https://localhost:8080/"
        },
        "outputId": "cc9bdd31-62db-40ce-d750-7a7f4c8df375"
      },
      "execution_count": null,
      "outputs": [
        {
          "output_type": "stream",
          "name": "stdout",
          "text": [
            "{'n_estimators': 150, 'learning_rate': 0.3}\n",
            "0.7958850631049941\n"
          ]
        }
      ]
    },
    {
      "cell_type": "code",
      "source": [
        "#Predict on test data\n",
        "y_pred = rscv.predict(X_test)\n",
        "\n",
        "#Metrics Calculation\n",
        "r2 = round(metrics.r2_score(y_test, y_pred),2)\n",
        "Adj_r2 = round(1-(1-r2)*(9-1)/(9-1-1),2)\n",
        "\n",
        "#Display results\n",
        "print(color.BOLD + '\\nR2 score is ',r2)\n",
        "\n",
        "print(color.BOLD + '\\nAdjusted R2 score is ',Adj_r2)\n",
        "\n",
        "print(color.BOLD + '\\nMean Absolute Error is',round(metrics.mean_absolute_error(y_test,rscv.predict(X_test)),2))\n",
        "\n",
        "print(color.BOLD + '\\nMean Squared Error is',round(metrics.mean_squared_error(y_test,rscv.predict(X_test)),2))\n",
        "\n",
        "print(color.BOLD + '\\nRoot Mean Squared Error is',round(np.sqrt(mean_squared_error(y_test,rscv.predict(X_test))),2))"
      ],
      "metadata": {
        "id": "YnPHKrA8VOXI",
        "colab": {
          "base_uri": "https://localhost:8080/"
        },
        "outputId": "c23a2998-bca1-42c5-f727-8782f761df13"
      },
      "execution_count": null,
      "outputs": [
        {
          "output_type": "stream",
          "name": "stdout",
          "text": [
            "\u001b[1m\n",
            "R2 score is  0.8\n",
            "\u001b[1m\n",
            "Adjusted R2 score is  0.77\n",
            "\u001b[1m\n",
            "Mean Absolute Error is 30385.07\n",
            "\u001b[1m\n",
            "Mean Squared Error is 1952846727.34\n",
            "\u001b[1m\n",
            "Root Mean Squared Error is 44191.03\n"
          ]
        }
      ]
    },
    {
      "cell_type": "markdown",
      "source": [
        "Light GBM Tuning"
      ],
      "metadata": {
        "id": "_UgtCjR0YWAY"
      }
    },
    {
      "cell_type": "code",
      "source": [
        "#Randomized Search CV\n",
        "n_estimators = [int(x) for x in np.linspace(start = 5 , stop = 350, num = 2)]\n",
        "\n",
        "max_depth = [int(x) for x in np.linspace(3, 450, num = 3)] \n",
        "\n",
        "max_depth.append(None)\n",
        "\n",
        "grid = {'n_estimators': n_estimators,'learning_rate' : np.linspace(0,0.5,5)}\n",
        "\n",
        "print(grid)"
      ],
      "metadata": {
        "id": "TOuHOvOqVOTX",
        "colab": {
          "base_uri": "https://localhost:8080/"
        },
        "outputId": "c48ce16e-9681-479b-aad8-e547bea2073b"
      },
      "execution_count": null,
      "outputs": [
        {
          "output_type": "stream",
          "name": "stdout",
          "text": [
            "{'n_estimators': [5, 350], 'learning_rate': array([0.   , 0.125, 0.25 , 0.375, 0.5  ])}\n"
          ]
        }
      ]
    },
    {
      "cell_type": "code",
      "source": [
        "rscv = RandomizedSearchCV(      estimator=lg, \n",
        "                                param_distributions=grid, \n",
        "                                n_iter = 15, \n",
        "                                scoring='r2',\n",
        "                                cv = 10, \n",
        "                                verbose=0, \n",
        "                                random_state=42,\n",
        "                                n_jobs=-1,\n",
        "                                return_train_score=True)\n",
        "\n",
        "rscv.fit(X_train, y_train)"
      ],
      "metadata": {
        "id": "z8eG67vBU-P3",
        "colab": {
          "base_uri": "https://localhost:8080/"
        },
        "outputId": "1588bf5b-2e18-4ee6-c464-f6dc75aa2e56"
      },
      "execution_count": null,
      "outputs": [
        {
          "output_type": "stream",
          "name": "stderr",
          "text": [
            "/usr/local/lib/python3.7/dist-packages/sklearn/model_selection/_search.py:296: UserWarning: The total space of parameters 10 is smaller than n_iter=15. Running 10 iterations. For exhaustive searches, use GridSearchCV.\n",
            "  UserWarning,\n",
            "/usr/local/lib/python3.7/dist-packages/sklearn/model_selection/_validation.py:372: FitFailedWarning: \n",
            "20 fits failed out of a total of 100.\n",
            "The score on these train-test partitions for these parameters will be set to nan.\n",
            "If these failures are not expected, you can try to debug them by setting error_score='raise'.\n",
            "\n",
            "Below are more details about the failures:\n",
            "--------------------------------------------------------------------------------\n",
            "20 fits failed with the following error:\n",
            "Traceback (most recent call last):\n",
            "  File \"/usr/local/lib/python3.7/dist-packages/lightgbm/engine.py\", line 197, in train\n",
            "    booster = Booster(params=params, train_set=train_set)\n",
            "  File \"/usr/local/lib/python3.7/dist-packages/lightgbm/basic.py\", line 1552, in __init__\n",
            "    train_set.construct().handle,\n",
            "  File \"/usr/local/lib/python3.7/dist-packages/lightgbm/basic.py\", line 1001, in construct\n",
            "    categorical_feature=self.categorical_feature, params=self.params)\n",
            "  File \"/usr/local/lib/python3.7/dist-packages/lightgbm/basic.py\", line 791, in _lazy_init\n",
            "    self.__init_from_np2d(data, params_str, ref_dataset)\n",
            "  File \"/usr/local/lib/python3.7/dist-packages/lightgbm/basic.py\", line 855, in __init_from_np2d\n",
            "    ctypes.byref(self.handle)))\n",
            "  File \"/usr/local/lib/python3.7/dist-packages/lightgbm/basic.py\", line 46, in _safe_call\n",
            "    raise LightGBMError(decode_string(_LIB.LGBM_GetLastError()))\n",
            "lightgbm.basic.LightGBMError: Check failed: learning_rate >0.0 at /__w/1/s/python-package/compile/src/io/config_auto.cpp, line 278 .\n",
            "\n",
            "\n",
            "During handling of the above exception, another exception occurred:\n",
            "\n",
            "Traceback (most recent call last):\n",
            "  File \"/usr/local/lib/python3.7/dist-packages/sklearn/model_selection/_validation.py\", line 680, in _fit_and_score\n",
            "    estimator.fit(X_train, y_train, **fit_params)\n",
            "  File \"/usr/local/lib/python3.7/dist-packages/lightgbm/sklearn.py\", line 685, in fit\n",
            "    callbacks=callbacks)\n",
            "  File \"/usr/local/lib/python3.7/dist-packages/lightgbm/sklearn.py\", line 544, in fit\n",
            "    callbacks=callbacks)\n",
            "  File \"/usr/local/lib/python3.7/dist-packages/lightgbm/engine.py\", line 203, in train\n",
            "    train_set._reverse_update_params()\n",
            "  File \"/usr/local/lib/python3.7/dist-packages/lightgbm/basic.py\", line 1097, in _reverse_update_params\n",
            "    _safe_call(_LIB.LGBM_DatasetUpdateParam(self.handle, c_str(param_dict_to_str(self.params))))\n",
            "  File \"/usr/local/lib/python3.7/dist-packages/lightgbm/basic.py\", line 46, in _safe_call\n",
            "    raise LightGBMError(decode_string(_LIB.LGBM_GetLastError()))\n",
            "lightgbm.basic.LightGBMError: Check failed: learning_rate >0.0 at /__w/1/s/python-package/compile/src/io/config_auto.cpp, line 278 .\n",
            "\n",
            "\n",
            "  warnings.warn(some_fits_failed_message, FitFailedWarning)\n",
            "/usr/local/lib/python3.7/dist-packages/sklearn/model_selection/_search.py:972: UserWarning: One or more of the test scores are non-finite: [       nan        nan 0.47368145 0.80743856 0.6303744  0.79797213\n",
            " 0.69522036 0.78435977 0.71537469 0.76586901]\n",
            "  category=UserWarning,\n",
            "/usr/local/lib/python3.7/dist-packages/sklearn/model_selection/_search.py:972: UserWarning: One or more of the train scores are non-finite: [       nan        nan 0.48562288 0.94162168 0.65045048 0.97170472\n",
            " 0.72153596 0.98444163 0.75046566 0.9905649 ]\n",
            "  category=UserWarning,\n"
          ]
        },
        {
          "output_type": "execute_result",
          "data": {
            "text/plain": [
              "RandomizedSearchCV(cv=10, estimator=LGBMRegressor(), n_iter=15, n_jobs=-1,\n",
              "                   param_distributions={'learning_rate': array([0.   , 0.125, 0.25 , 0.375, 0.5  ]),\n",
              "                                        'n_estimators': [5, 350]},\n",
              "                   random_state=42, return_train_score=True, scoring='r2')"
            ]
          },
          "metadata": {},
          "execution_count": 141
        }
      ]
    },
    {
      "cell_type": "code",
      "source": [
        "# summarize result\n",
        "print(rscv.best_params_)\n",
        "print(rscv.score(X_test , y_test))"
      ],
      "metadata": {
        "id": "sgFkPcbeNQSI",
        "colab": {
          "base_uri": "https://localhost:8080/"
        },
        "outputId": "ebb7f5f8-0681-491d-d316-ff3cd1ba82ed"
      },
      "execution_count": null,
      "outputs": [
        {
          "output_type": "stream",
          "name": "stdout",
          "text": [
            "{'n_estimators': 350, 'learning_rate': 0.125}\n",
            "0.812912680400906\n"
          ]
        }
      ]
    },
    {
      "cell_type": "code",
      "source": [
        "#Predict on test data\n",
        "y_pred = rscv.predict(X_test)\n",
        "\n",
        "#Metrics Calculation\n",
        "r2 = round(metrics.r2_score(y_test, y_pred),2)\n",
        "Adj_r2 = round(1-(1-r2)*(9-1)/(9-1-1),2)\n",
        "\n",
        "#Display results\n",
        "print(color.BOLD + '\\nR2 score is ',r2)\n",
        "\n",
        "print(color.BOLD + '\\nAdjusted R2 score is ',Adj_r2)\n",
        "\n",
        "print(color.BOLD + '\\nMean Absolute Error is',round(metrics.mean_absolute_error(y_test,rscv.predict(X_test)),2))\n",
        "\n",
        "print(color.BOLD + '\\nMean Squared Error is',round(metrics.mean_squared_error(y_test,rscv.predict(X_test)),2))\n",
        "\n",
        "print(color.BOLD + '\\nRoot Mean Squared Error is',round(np.sqrt(mean_squared_error(y_test,rscv.predict(X_test))),2))\n"
      ],
      "metadata": {
        "id": "C3ccKwrMNQO9",
        "colab": {
          "base_uri": "https://localhost:8080/"
        },
        "outputId": "8ae938fd-6c1d-4322-e201-08e6131e289b"
      },
      "execution_count": null,
      "outputs": [
        {
          "output_type": "stream",
          "name": "stdout",
          "text": [
            "\u001b[1m\n",
            "R2 score is  0.81\n",
            "\u001b[1m\n",
            "Adjusted R2 score is  0.78\n",
            "\u001b[1m\n",
            "Mean Absolute Error is 28492.76\n",
            "\u001b[1m\n",
            "Mean Squared Error is 1789936911.84\n",
            "\u001b[1m\n",
            "Root Mean Squared Error is 42307.65\n"
          ]
        }
      ]
    },
    {
      "cell_type": "markdown",
      "source": [
        "Exporting the Model\n",
        "Based on hyperparameter tuning, we can either choose Catboost or LightGBM(top-performer)"
      ],
      "metadata": {
        "id": "wKdwZafCYdmB"
      }
    },
    {
      "cell_type": "code",
      "source": [
        "#Exporting the model using joblib library\n",
        "import joblib\n",
        "joblib.dump(lg,\"California_Model.pkl\")"
      ],
      "metadata": {
        "id": "35Ba2wo0MJSy",
        "colab": {
          "base_uri": "https://localhost:8080/"
        },
        "outputId": "a2390198-b172-4a23-9b23-ef702a2473f1"
      },
      "execution_count": null,
      "outputs": [
        {
          "output_type": "execute_result",
          "data": {
            "text/plain": [
              "['California_Model.pkl']"
            ]
          },
          "metadata": {},
          "execution_count": 140
        }
      ]
    },
    {
      "cell_type": "code",
      "source": [
        "import json\n",
        "columns = {\n",
        "    'data_columns': [col.lower() for col in X.columns]\n",
        "}\n",
        "with open(\"columns.json\",\"w\") as f:\n",
        "  f.write(json.dumps(columns))"
      ],
      "metadata": {
        "id": "qcjoDE2knmcI"
      },
      "execution_count": null,
      "outputs": []
    }
  ]
}